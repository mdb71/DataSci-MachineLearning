{
 "cells": [
  {
   "cell_type": "code",
   "execution_count": 1,
   "id": "4b0581b8",
   "metadata": {},
   "outputs": [],
   "source": [
    "import numpy as np\n",
    "import pandas as pd\n",
    "import matplotlib.pyplot as plt\n",
    "import matplotlib"
   ]
  },
  {
   "cell_type": "markdown",
   "id": "559169f9",
   "metadata": {},
   "source": [
    "#  Assignment: Handwritten digits dataset\n",
    "\n",
    "The dataset that you will use in this assignment is the [*digits* dataset](http://scikit-learn.org/stable/modules/generated/sklearn.datasets.load_digits.html) which contains $1797$ images of $10$ hand-written digits. The digits have been preprocessed so that $32 \\times 32$ bitmaps are divided into non-overlapping blocks of $4 \\times 4$ and the number of on pixels are counted in each block. This generates an input matrix of $8 \\times 8$ where each element is an integer in the range of $[0, ..., 16]$. This reduces dimensionality and gives invariance to small distortions.\n",
    "\n",
    "For further information on NIST preprocessing routines applied to this data, see M. D. Garris, J. L. Blue, G. T. Candela, D. L. Dimmick, J. Geist, P. J. Grother, S. A. Janet, and C. L. Wilson, *NIST Form-Based Handprint Recognition System*, NISTIR 5469, 1994.\n",
    "\n",
    "As before, use the `sklearn`'s data uploading routines to load the dataset and get the data fields:"
   ]
  },
  {
   "cell_type": "code",
   "execution_count": 2,
   "id": "727cce48",
   "metadata": {},
   "outputs": [
    {
     "data": {
      "text/plain": [
       "['data', 'target', 'frame', 'feature_names', 'target_names', 'images', 'DESCR']"
      ]
     },
     "execution_count": 2,
     "metadata": {},
     "output_type": "execute_result"
    }
   ],
   "source": [
    "from sklearn import datasets\n",
    "digits = datasets.load_digits()\n",
    "list(digits.keys())"
   ]
  },
  {
   "cell_type": "code",
   "execution_count": 3,
   "id": "cd02fc40",
   "metadata": {},
   "outputs": [
    {
     "data": {
      "text/plain": [
       "{'data': array([[ 0.,  0.,  5., ...,  0.,  0.,  0.],\n",
       "        [ 0.,  0.,  0., ..., 10.,  0.,  0.],\n",
       "        [ 0.,  0.,  0., ..., 16.,  9.,  0.],\n",
       "        ...,\n",
       "        [ 0.,  0.,  1., ...,  6.,  0.,  0.],\n",
       "        [ 0.,  0.,  2., ..., 12.,  0.,  0.],\n",
       "        [ 0.,  0., 10., ..., 12.,  1.,  0.]]),\n",
       " 'target': array([0, 1, 2, ..., 8, 9, 8]),\n",
       " 'frame': None,\n",
       " 'feature_names': ['pixel_0_0',\n",
       "  'pixel_0_1',\n",
       "  'pixel_0_2',\n",
       "  'pixel_0_3',\n",
       "  'pixel_0_4',\n",
       "  'pixel_0_5',\n",
       "  'pixel_0_6',\n",
       "  'pixel_0_7',\n",
       "  'pixel_1_0',\n",
       "  'pixel_1_1',\n",
       "  'pixel_1_2',\n",
       "  'pixel_1_3',\n",
       "  'pixel_1_4',\n",
       "  'pixel_1_5',\n",
       "  'pixel_1_6',\n",
       "  'pixel_1_7',\n",
       "  'pixel_2_0',\n",
       "  'pixel_2_1',\n",
       "  'pixel_2_2',\n",
       "  'pixel_2_3',\n",
       "  'pixel_2_4',\n",
       "  'pixel_2_5',\n",
       "  'pixel_2_6',\n",
       "  'pixel_2_7',\n",
       "  'pixel_3_0',\n",
       "  'pixel_3_1',\n",
       "  'pixel_3_2',\n",
       "  'pixel_3_3',\n",
       "  'pixel_3_4',\n",
       "  'pixel_3_5',\n",
       "  'pixel_3_6',\n",
       "  'pixel_3_7',\n",
       "  'pixel_4_0',\n",
       "  'pixel_4_1',\n",
       "  'pixel_4_2',\n",
       "  'pixel_4_3',\n",
       "  'pixel_4_4',\n",
       "  'pixel_4_5',\n",
       "  'pixel_4_6',\n",
       "  'pixel_4_7',\n",
       "  'pixel_5_0',\n",
       "  'pixel_5_1',\n",
       "  'pixel_5_2',\n",
       "  'pixel_5_3',\n",
       "  'pixel_5_4',\n",
       "  'pixel_5_5',\n",
       "  'pixel_5_6',\n",
       "  'pixel_5_7',\n",
       "  'pixel_6_0',\n",
       "  'pixel_6_1',\n",
       "  'pixel_6_2',\n",
       "  'pixel_6_3',\n",
       "  'pixel_6_4',\n",
       "  'pixel_6_5',\n",
       "  'pixel_6_6',\n",
       "  'pixel_6_7',\n",
       "  'pixel_7_0',\n",
       "  'pixel_7_1',\n",
       "  'pixel_7_2',\n",
       "  'pixel_7_3',\n",
       "  'pixel_7_4',\n",
       "  'pixel_7_5',\n",
       "  'pixel_7_6',\n",
       "  'pixel_7_7'],\n",
       " 'target_names': array([0, 1, 2, 3, 4, 5, 6, 7, 8, 9]),\n",
       " 'images': array([[[ 0.,  0.,  5., ...,  1.,  0.,  0.],\n",
       "         [ 0.,  0., 13., ..., 15.,  5.,  0.],\n",
       "         [ 0.,  3., 15., ..., 11.,  8.,  0.],\n",
       "         ...,\n",
       "         [ 0.,  4., 11., ..., 12.,  7.,  0.],\n",
       "         [ 0.,  2., 14., ..., 12.,  0.,  0.],\n",
       "         [ 0.,  0.,  6., ...,  0.,  0.,  0.]],\n",
       " \n",
       "        [[ 0.,  0.,  0., ...,  5.,  0.,  0.],\n",
       "         [ 0.,  0.,  0., ...,  9.,  0.,  0.],\n",
       "         [ 0.,  0.,  3., ...,  6.,  0.,  0.],\n",
       "         ...,\n",
       "         [ 0.,  0.,  1., ...,  6.,  0.,  0.],\n",
       "         [ 0.,  0.,  1., ...,  6.,  0.,  0.],\n",
       "         [ 0.,  0.,  0., ..., 10.,  0.,  0.]],\n",
       " \n",
       "        [[ 0.,  0.,  0., ..., 12.,  0.,  0.],\n",
       "         [ 0.,  0.,  3., ..., 14.,  0.,  0.],\n",
       "         [ 0.,  0.,  8., ..., 16.,  0.,  0.],\n",
       "         ...,\n",
       "         [ 0.,  9., 16., ...,  0.,  0.,  0.],\n",
       "         [ 0.,  3., 13., ..., 11.,  5.,  0.],\n",
       "         [ 0.,  0.,  0., ..., 16.,  9.,  0.]],\n",
       " \n",
       "        ...,\n",
       " \n",
       "        [[ 0.,  0.,  1., ...,  1.,  0.,  0.],\n",
       "         [ 0.,  0., 13., ...,  2.,  1.,  0.],\n",
       "         [ 0.,  0., 16., ..., 16.,  5.,  0.],\n",
       "         ...,\n",
       "         [ 0.,  0., 16., ..., 15.,  0.,  0.],\n",
       "         [ 0.,  0., 15., ..., 16.,  0.,  0.],\n",
       "         [ 0.,  0.,  2., ...,  6.,  0.,  0.]],\n",
       " \n",
       "        [[ 0.,  0.,  2., ...,  0.,  0.,  0.],\n",
       "         [ 0.,  0., 14., ..., 15.,  1.,  0.],\n",
       "         [ 0.,  4., 16., ..., 16.,  7.,  0.],\n",
       "         ...,\n",
       "         [ 0.,  0.,  0., ..., 16.,  2.,  0.],\n",
       "         [ 0.,  0.,  4., ..., 16.,  2.,  0.],\n",
       "         [ 0.,  0.,  5., ..., 12.,  0.,  0.]],\n",
       " \n",
       "        [[ 0.,  0., 10., ...,  1.,  0.,  0.],\n",
       "         [ 0.,  2., 16., ...,  1.,  0.,  0.],\n",
       "         [ 0.,  0., 15., ..., 15.,  0.,  0.],\n",
       "         ...,\n",
       "         [ 0.,  4., 16., ..., 16.,  6.,  0.],\n",
       "         [ 0.,  8., 16., ..., 16.,  8.,  0.],\n",
       "         [ 0.,  1.,  8., ..., 12.,  1.,  0.]]]),\n",
       " 'DESCR': \".. _digits_dataset:\\n\\nOptical recognition of handwritten digits dataset\\n--------------------------------------------------\\n\\n**Data Set Characteristics:**\\n\\n    :Number of Instances: 1797\\n    :Number of Attributes: 64\\n    :Attribute Information: 8x8 image of integer pixels in the range 0..16.\\n    :Missing Attribute Values: None\\n    :Creator: E. Alpaydin (alpaydin '@' boun.edu.tr)\\n    :Date: July; 1998\\n\\nThis is a copy of the test set of the UCI ML hand-written digits datasets\\nhttps://archive.ics.uci.edu/ml/datasets/Optical+Recognition+of+Handwritten+Digits\\n\\nThe data set contains images of hand-written digits: 10 classes where\\neach class refers to a digit.\\n\\nPreprocessing programs made available by NIST were used to extract\\nnormalized bitmaps of handwritten digits from a preprinted form. From a\\ntotal of 43 people, 30 contributed to the training set and different 13\\nto the test set. 32x32 bitmaps are divided into nonoverlapping blocks of\\n4x4 and the number of on pixels are counted in each block. This generates\\nan input matrix of 8x8 where each element is an integer in the range\\n0..16. This reduces dimensionality and gives invariance to small\\ndistortions.\\n\\nFor info on NIST preprocessing routines, see M. D. Garris, J. L. Blue, G.\\nT. Candela, D. L. Dimmick, J. Geist, P. J. Grother, S. A. Janet, and C.\\nL. Wilson, NIST Form-Based Handprint Recognition System, NISTIR 5469,\\n1994.\\n\\n.. topic:: References\\n\\n  - C. Kaynak (1995) Methods of Combining Multiple Classifiers and Their\\n    Applications to Handwritten Digit Recognition, MSc Thesis, Institute of\\n    Graduate Studies in Science and Engineering, Bogazici University.\\n  - E. Alpaydin, C. Kaynak (1998) Cascading Classifiers, Kybernetika.\\n  - Ken Tang and Ponnuthurai N. Suganthan and Xi Yao and A. Kai Qin.\\n    Linear dimensionalityreduction using relevance weighted LDA. School of\\n    Electrical and Electronic Engineering Nanyang Technological University.\\n    2005.\\n  - Claudio Gentile. A New Approximate Maximal Margin Classification\\n    Algorithm. NIPS. 2000.\\n\"}"
      ]
     },
     "execution_count": 3,
     "metadata": {},
     "output_type": "execute_result"
    }
   ],
   "source": [
    "digits"
   ]
  },
  {
   "cell_type": "code",
   "execution_count": 4,
   "id": "8c0f4068",
   "metadata": {},
   "outputs": [
    {
     "data": {
      "text/plain": [
       "(1797, 64)"
      ]
     },
     "execution_count": 4,
     "metadata": {},
     "output_type": "execute_result"
    }
   ],
   "source": [
    "X, y = digits[\"data\"], digits[\"target\"]\n",
    "X.shape"
   ]
  },
  {
   "cell_type": "code",
   "execution_count": 5,
   "id": "c17dd8a6",
   "metadata": {
    "scrolled": true
   },
   "outputs": [
    {
     "data": {
      "text/plain": [
       "(1797,)"
      ]
     },
     "execution_count": 5,
     "metadata": {},
     "output_type": "execute_result"
    }
   ],
   "source": [
    "y.shape"
   ]
  },
  {
   "cell_type": "markdown",
   "id": "40352023",
   "metadata": {},
   "source": [
    "You can access the digits and visualise them using the following code (feel free to select another digit):"
   ]
  },
  {
   "cell_type": "code",
   "execution_count": 6,
   "id": "a9c4ebe2",
   "metadata": {},
   "outputs": [
    {
     "data": {
      "image/png": "[encoded data removed]",
      "text/plain": [
       "<Figure size 432x288 with 1 Axes>"
      ]
     },
     "metadata": {
      "needs_background": "light"
     },
     "output_type": "display_data"
    }
   ],
   "source": [
    "some_digit = X[3]\n",
    "some_digit_image = some_digit.reshape(8, 8)\n",
    "\n",
    "plt.imshow(some_digit_image, cmap=matplotlib.cm.binary, interpolation=\"nearest\")\n",
    "#plt.axis(\"off\")\n",
    "plt.show()"
   ]
  },
  {
   "cell_type": "code",
   "execution_count": 7,
   "id": "2e884518",
   "metadata": {},
   "outputs": [
    {
     "data": {
      "text/plain": [
       "3"
      ]
     },
     "execution_count": 7,
     "metadata": {},
     "output_type": "execute_result"
    }
   ],
   "source": [
    "y[3]"
   ]
  },
  {
   "cell_type": "markdown",
   "id": "b2e7bedc",
   "metadata": {},
   "source": [
    "For the rest of the practical, apply the data preprocessing techniques, implement and evaluate the classification models on the digits dataset using the steps that you applied above to the iris dataset."
   ]
  },
  {
   "cell_type": "markdown",
   "id": "0f4d564c",
   "metadata": {},
   "source": [
    "============================================================================================"
   ]
  },
  {
   "cell_type": "code",
   "execution_count": 8,
   "id": "97505686",
   "metadata": {},
   "outputs": [
    {
     "data": {
      "text/plain": [
       "'Unique Target Values: [0 1 2 3 4 5 6 7 8 9]'"
      ]
     },
     "execution_count": 8,
     "metadata": {},
     "output_type": "execute_result"
    }
   ],
   "source": [
    "f'Unique Target Values: {np.unique(y)}'"
   ]
  },
  {
   "cell_type": "code",
   "execution_count": 9,
   "id": "8c5b98c3",
   "metadata": {},
   "outputs": [
    {
     "data": {
      "text/plain": [
       "array([[ 0.,  0.,  5., ...,  0.,  0.,  0.],\n",
       "       [ 0.,  0.,  0., ..., 10.,  0.,  0.],\n",
       "       [ 0.,  0.,  0., ..., 16.,  9.,  0.],\n",
       "       ...,\n",
       "       [ 0.,  0.,  1., ...,  6.,  0.,  0.],\n",
       "       [ 0.,  0.,  2., ..., 12.,  0.,  0.],\n",
       "       [ 0.,  0., 10., ..., 12.,  1.,  0.]])"
      ]
     },
     "execution_count": 9,
     "metadata": {},
     "output_type": "execute_result"
    }
   ],
   "source": [
    "X"
   ]
  },
  {
   "cell_type": "markdown",
   "id": "e9ff0a66",
   "metadata": {},
   "source": [
    "============================================================================================"
   ]
  },
  {
   "cell_type": "markdown",
   "id": "509546cf",
   "metadata": {},
   "source": [
    "- This is a multiclass claffification problem. We have 10 classes corresponding to the integer digits from 0 to 9. Plots of one feature versus the other are not informative in this case.<br><br>\n",
    "- The most informative visualisation is the imgshow above: the darker the $4\\times4$ square, the more pixels are within the square. This produces an out of focus image, since we reduce $32^2$ 1X1 binary (black and white) pixels to $8^2$ $4\\times4$ (shades of gray with darker corresponding to more $1\\times1$ pixels contained in the $4\\times4$ pixel bin) pixels.<br><br>\n",
    "- Another visualisation that might be informative is a barplot showing the average total number of pixels for each digit class. This might be useful for example in tracking the performance of an algorithm that weights probability of different classes in the classification problem, based on the aggregate number of pixels of each class."
   ]
  },
  {
   "cell_type": "code",
   "execution_count": 10,
   "id": "07abe370",
   "metadata": {},
   "outputs": [],
   "source": [
    "df_digits = pd.DataFrame(data=np.sum(X,axis=1), index=pd.Index(data=y, name='digit'),\n",
    "                         columns=['tot_pixels'])\n"
   ]
  },
  {
   "cell_type": "code",
   "execution_count": 11,
   "id": "17e7846d",
   "metadata": {},
   "outputs": [],
   "source": [
    "means=df_digits.groupby('digit').mean()\n"
   ]
  },
  {
   "cell_type": "code",
   "execution_count": 12,
   "id": "1ccb9996",
   "metadata": {},
   "outputs": [
    {
     "data": {
      "image/png": "[encoded data removed]",
      "text/plain": [
       "<Figure size 432x288 with 1 Axes>"
      ]
     },
     "metadata": {
      "needs_background": "light"
     },
     "output_type": "display_data"
    }
   ],
   "source": [
    "means.plot(kind='bar', legend=False, rot=0)\n",
    "plt.show()"
   ]
  },
  {
   "cell_type": "markdown",
   "id": "7b8db27a",
   "metadata": {},
   "source": [
    "Each digit has on average pretty much the same number of pixels, so we don't need to concern ourselves with the possibility of a significant variation in weights allocated to different digits based on the total number of pixels. An algorithm solely based on this feature would not be very accurate anyway."
   ]
  },
  {
   "cell_type": "markdown",
   "id": "b2a3380f",
   "metadata": {},
   "source": [
    "============================================================================================"
   ]
  },
  {
   "cell_type": "markdown",
   "id": "e43022aa",
   "metadata": {},
   "source": [
    "## Split the data into train and test set"
   ]
  },
  {
   "cell_type": "code",
   "execution_count": 13,
   "id": "9b8c09af",
   "metadata": {},
   "outputs": [
    {
     "name": "stdout",
     "output_type": "stream",
     "text": [
      "Training --> 1437 Test --> 360\n"
     ]
    }
   ],
   "source": [
    "from sklearn.model_selection import StratifiedShuffleSplit\n",
    "\n",
    "splitter = StratifiedShuffleSplit(n_splits=1, test_size=.2, random_state=42)\n",
    "train_idx, test_idx = next(splitter.split(X, y))\n",
    "X_train, y_train, X_test, y_test = X[train_idx], y[train_idx], X[test_idx], y[test_idx]\n",
    "print(f'Training --> {X_train.shape[0]}', f'Test --> {X_test.shape[0]}')"
   ]
  },
  {
   "cell_type": "markdown",
   "id": "08e5c233",
   "metadata": {},
   "source": [
    "# Binary Selection"
   ]
  },
  {
   "cell_type": "markdown",
   "id": "ffe9ec25",
   "metadata": {},
   "source": [
    "Here we analyse the binary subproblem '7 --> 1 \\ not 7 --> 0'. The interest in this particular binary subproblem lies in the fact that a handwritten 7 often looks like a handwritten 1. We subsequently report metrics measuring performance of four algorithms selected below."
   ]
  },
  {
   "cell_type": "markdown",
   "id": "5a52bbad",
   "metadata": {},
   "source": [
    "#### Select the models we will work with:\n",
    "\n",
    "- Perceptron (`SGD Classifier` implementing a SVM)\n",
    "- `Logistic Regression`\n",
    "- Perceptron with `RBF Sampler`\n",
    "- Gaussian `Naive Bayes`"
   ]
  },
  {
   "cell_type": "code",
   "execution_count": 14,
   "id": "4e3f9d17",
   "metadata": {},
   "outputs": [
    {
     "name": "stdout",
     "output_type": "stream",
     "text": [
      "Apply RBF sampler to data:  (1437, 64) --> (1437, 1000)\n"
     ]
    }
   ],
   "source": [
    "from sklearn.linear_model import SGDClassifier, LogisticRegression\n",
    "from sklearn.naive_bayes import GaussianNB\n",
    "from sklearn.kernel_approximation import RBFSampler\n",
    "from sklearn.model_selection import cross_val_score, cross_val_predict\n",
    "from sklearn.metrics import (accuracy_score, precision_score, recall_score, f1_score,\n",
    "                             precision_recall_curve, roc_curve,\n",
    "                             roc_auc_score, confusion_matrix)\n",
    "\n",
    "# calling the constructors\n",
    "sgd = SGDClassifier(max_iter=5, tol=None, loss='perceptron', learning_rate='constant',\n",
    "                   eta0=1, penalty=None, random_state=42)\n",
    "sgd_rbf = SGDClassifier(max_iter=100, tol=None, loss='perceptron', learning_rate='constant',\n",
    "                   eta0=1, penalty=None, random_state=42)\n",
    "log_reg = LogisticRegression(solver='sag', max_iter=1000)\n",
    "gnb = GaussianNB()\n",
    "transformer = RBFSampler(gamma=1, random_state=42, n_components=1000)\n",
    "X_train_rbf = transformer.fit_transform(X_train)\n",
    "\n",
    "print(\"Apply RBF sampler to data: \", X_train.shape, '-->', X_train_rbf.shape)\n",
    "\n",
    "\n"
   ]
  },
  {
   "cell_type": "markdown",
   "id": "5199391f",
   "metadata": {},
   "source": [
    "***Note***: We increased the max number of iterations to 1000 for logistic regression to reach its stopping criterion<br>(default tol=1e-3) before reaching the max_iter limit."
   ]
  },
  {
   "cell_type": "markdown",
   "id": "4ae7aa78",
   "metadata": {},
   "source": [
    "*TODO: Explore setting dimensions of RBF sampler to greater values.*"
   ]
  },
  {
   "cell_type": "code",
   "execution_count": 15,
   "id": "97b9530e",
   "metadata": {},
   "outputs": [],
   "source": [
    "y_7 = (y_train == 7)"
   ]
  },
  {
   "cell_type": "code",
   "execution_count": 16,
   "id": "7a2862a5",
   "metadata": {},
   "outputs": [
    {
     "data": {
      "text/plain": [
       "GaussianNB()"
      ]
     },
     "execution_count": 16,
     "metadata": {},
     "output_type": "execute_result"
    }
   ],
   "source": [
    "# fitting to data\n",
    "sgd.fit(X_train, y_7)\n",
    "sgd_rbf.fit(X_train_rbf, y_7)\n",
    "log_reg.fit(X_train, y_7)\n",
    "gnb.fit(X_train, y_7)"
   ]
  },
  {
   "cell_type": "markdown",
   "id": "839ebd7e",
   "metadata": {},
   "source": [
    "## Evaluation"
   ]
  },
  {
   "cell_type": "code",
   "execution_count": 17,
   "id": "a064c5d7",
   "metadata": {},
   "outputs": [
    {
     "name": "stdout",
     "output_type": "stream",
     "text": [
      "Logistic Regression:\n",
      " [0.99305556 0.98611111 1.         0.99303136 0.99303136] \n",
      "Average:  0.9930458768873404\n",
      "\n",
      "Perceptron:\n",
      " [0.97916667 0.95486111 0.99651568 1.         0.98954704] \n",
      "Average:  0.9840180991095625\n",
      "\n",
      "Perceptron with RBF:\n",
      " [0.99305556 0.98958333 1.         0.99303136 0.9825784 ] \n",
      "Average:  0.9916497289972901\n",
      "\n",
      "Gaussian Naive Bayes:\n",
      " [0.81944444 0.875      0.80836237 0.82229965 0.85365854] \n",
      "Average:  0.8357530003871467\n"
     ]
    }
   ],
   "source": [
    "# Accuracy scores for 5 cross validation runs\n",
    "log_reg_scores = cross_val_score(log_reg, X_train, y_7, scoring='accuracy', cv=5)\n",
    "sgd_scores = cross_val_score(sgd, X_train, y_7, scoring='accuracy', cv=5)\n",
    "sgd_rbf_scores = cross_val_score(sgd_rbf, X_train, y_7, scoring='accuracy', cv=5)\n",
    "gnb_scores = cross_val_score(gnb, X_train, y_7, scoring='accuracy', cv=5)\n",
    "\n",
    "print('Logistic Regression:\\n', log_reg_scores, '\\nAverage: ',np.mean(log_reg_scores))\n",
    "print()\n",
    "print('Perceptron:\\n', sgd_scores, '\\nAverage: ', np.mean(sgd_scores))\n",
    "print()\n",
    "print('Perceptron with RBF:\\n', sgd_rbf_scores, '\\nAverage: ', np.mean(sgd_rbf_scores))\n",
    "print()\n",
    "print('Gaussian Naive Bayes:\\n', gnb_scores, '\\nAverage: ', np.mean(gnb_scores))"
   ]
  },
  {
   "cell_type": "code",
   "execution_count": 18,
   "id": "1dd9f0a4",
   "metadata": {},
   "outputs": [],
   "source": [
    "log_pred = cross_val_predict(log_reg, X_train, y_7, cv=5, method='predict') # default is predict\n",
    "sgd_pred = cross_val_predict(sgd, X_train, y_7, cv=5)\n",
    "sgd_rbf_pred = cross_val_predict(sgd_rbf, X_train_rbf, y_7, cv=5)\n",
    "gnb_pred = cross_val_predict(gnb, X_train, y_7, cv=5)\n"
   ]
  },
  {
   "cell_type": "code",
   "execution_count": 19,
   "id": "731e925d",
   "metadata": {},
   "outputs": [
    {
     "name": "stdout",
     "output_type": "stream",
     "text": [
      "Recall --> 0.965034965034965\n",
      "Precision --> 0.965034965034965\n",
      "F1 score --> 0.965034965034965\n"
     ]
    }
   ],
   "source": [
    "# Logistic Regression\n",
    "print(f'Recall --> {recall_score(y_7, log_pred)}',\n",
    "     f'Precision --> {precision_score(y_7, log_pred)}',\n",
    "     f'F1 score --> {f1_score(y_7, log_pred)}', sep='\\n')"
   ]
  },
  {
   "cell_type": "code",
   "execution_count": 20,
   "id": "c913128a",
   "metadata": {},
   "outputs": [
    {
     "name": "stdout",
     "output_type": "stream",
     "text": [
      "Recall --> 0.9440559440559441\n",
      "Precision --> 0.9\n",
      "F1 score --> 0.9215017064846417\n"
     ]
    }
   ],
   "source": [
    "# Perceptron\n",
    "print(f'Recall --> {recall_score(y_7, sgd_pred)}',\n",
    "     f'Precision --> {precision_score(y_7, sgd_pred)}',\n",
    "     f'F1 score --> {f1_score(y_7, sgd_pred)}', sep='\\n')"
   ]
  },
  {
   "cell_type": "code",
   "execution_count": 21,
   "id": "438a1bb4",
   "metadata": {},
   "outputs": [
    {
     "name": "stdout",
     "output_type": "stream",
     "text": [
      "Recall --> 0.06993006993006994\n",
      "Precision --> 0.07246376811594203\n",
      "F1 score --> 0.07117437722419928\n"
     ]
    }
   ],
   "source": [
    "# Perceptron with kernel trick\n",
    "print(f'Recall --> {recall_score(y_7, sgd_rbf_pred)}',\n",
    "     f'Precision --> {precision_score(y_7, sgd_rbf_pred)}',\n",
    "     f'F1 score --> {f1_score(y_7, sgd_rbf_pred)}', sep='\\n')"
   ]
  },
  {
   "cell_type": "code",
   "execution_count": 22,
   "id": "28c857f9",
   "metadata": {
    "scrolled": true
   },
   "outputs": [
    {
     "name": "stdout",
     "output_type": "stream",
     "text": [
      "Recall --> 0.986013986013986\n",
      "Precision --> 0.376\n",
      "F1 score --> 0.5444015444015443\n"
     ]
    }
   ],
   "source": [
    "# Naive Bayes\n",
    "print(f'Recall --> {recall_score(y_7, gnb_pred)}',\n",
    "     f'Precision --> {precision_score(y_7, gnb_pred)}',\n",
    "     f'F1 score --> {f1_score(y_7, gnb_pred)}', sep='\\n')"
   ]
  },
  {
   "cell_type": "markdown",
   "id": "38d5c792",
   "metadata": {},
   "source": [
    "#### Confusion matrix for each model"
   ]
  },
  {
   "cell_type": "code",
   "execution_count": 23,
   "id": "4a141cfb",
   "metadata": {},
   "outputs": [
    {
     "data": {
      "text/html": [
       "<div>\n",
       "<style scoped>\n",
       "    .dataframe tbody tr th:only-of-type {\n",
       "        vertical-align: middle;\n",
       "    }\n",
       "\n",
       "    .dataframe tbody tr th {\n",
       "        vertical-align: top;\n",
       "    }\n",
       "\n",
       "    .dataframe thead th {\n",
       "        text-align: right;\n",
       "    }\n",
       "</style>\n",
       "<table border=\"1\" class=\"dataframe\">\n",
       "  <thead>\n",
       "    <tr style=\"text-align: right;\">\n",
       "      <th></th>\n",
       "      <th>$\\bf\\hat{y}$=0</th>\n",
       "      <th>$\\bf\\hat{y}$=1</th>\n",
       "    </tr>\n",
       "  </thead>\n",
       "  <tbody>\n",
       "    <tr>\n",
       "      <th>y=0</th>\n",
       "      <td>1289</td>\n",
       "      <td>5</td>\n",
       "    </tr>\n",
       "    <tr>\n",
       "      <th>y=1</th>\n",
       "      <td>5</td>\n",
       "      <td>138</td>\n",
       "    </tr>\n",
       "  </tbody>\n",
       "</table>\n",
       "</div>"
      ],
      "text/plain": [
       "     $\\bf\\hat{y}$=0  $\\bf\\hat{y}$=1\n",
       "y=0            1289               5\n",
       "y=1               5             138"
      ]
     },
     "execution_count": 23,
     "metadata": {},
     "output_type": "execute_result"
    }
   ],
   "source": [
    "# logistic regression\n",
    "conf = confusion_matrix(y_7, log_pred)\n",
    "df = pd.DataFrame(data=conf, index=['y=0', 'y=1'],\n",
    "                  columns=[r'$\\bf\\hat{y}$'+ r'=0', r'$\\bf\\hat{y}$'+ '=1'])\n",
    "df"
   ]
  },
  {
   "cell_type": "code",
   "execution_count": 24,
   "id": "02aada78",
   "metadata": {},
   "outputs": [
    {
     "data": {
      "text/html": [
       "<div>\n",
       "<style scoped>\n",
       "    .dataframe tbody tr th:only-of-type {\n",
       "        vertical-align: middle;\n",
       "    }\n",
       "\n",
       "    .dataframe tbody tr th {\n",
       "        vertical-align: top;\n",
       "    }\n",
       "\n",
       "    .dataframe thead th {\n",
       "        text-align: right;\n",
       "    }\n",
       "</style>\n",
       "<table border=\"1\" class=\"dataframe\">\n",
       "  <thead>\n",
       "    <tr style=\"text-align: right;\">\n",
       "      <th></th>\n",
       "      <th>$\\bf\\hat{y}$=0</th>\n",
       "      <th>$\\bf\\hat{y}$=1</th>\n",
       "    </tr>\n",
       "  </thead>\n",
       "  <tbody>\n",
       "    <tr>\n",
       "      <th>y=0</th>\n",
       "      <td>1279</td>\n",
       "      <td>15</td>\n",
       "    </tr>\n",
       "    <tr>\n",
       "      <th>y=1</th>\n",
       "      <td>8</td>\n",
       "      <td>135</td>\n",
       "    </tr>\n",
       "  </tbody>\n",
       "</table>\n",
       "</div>"
      ],
      "text/plain": [
       "     $\\bf\\hat{y}$=0  $\\bf\\hat{y}$=1\n",
       "y=0            1279              15\n",
       "y=1               8             135"
      ]
     },
     "execution_count": 24,
     "metadata": {},
     "output_type": "execute_result"
    }
   ],
   "source": [
    "# Perceptron\n",
    "conf = confusion_matrix(y_7, sgd_pred)\n",
    "df = pd.DataFrame(data=conf, index=['y=0', 'y=1'],\n",
    "                  columns=[r'$\\bf\\hat{y}$'+ r'=0', r'$\\bf\\hat{y}$'+ '=1'])\n",
    "df"
   ]
  },
  {
   "cell_type": "code",
   "execution_count": 25,
   "id": "76bcba2f",
   "metadata": {},
   "outputs": [
    {
     "data": {
      "text/html": [
       "<div>\n",
       "<style scoped>\n",
       "    .dataframe tbody tr th:only-of-type {\n",
       "        vertical-align: middle;\n",
       "    }\n",
       "\n",
       "    .dataframe tbody tr th {\n",
       "        vertical-align: top;\n",
       "    }\n",
       "\n",
       "    .dataframe thead th {\n",
       "        text-align: right;\n",
       "    }\n",
       "</style>\n",
       "<table border=\"1\" class=\"dataframe\">\n",
       "  <thead>\n",
       "    <tr style=\"text-align: right;\">\n",
       "      <th></th>\n",
       "      <th>$\\bf\\hat{y}$=0</th>\n",
       "      <th>$\\bf\\hat{y}$=1</th>\n",
       "    </tr>\n",
       "  </thead>\n",
       "  <tbody>\n",
       "    <tr>\n",
       "      <th>y=0</th>\n",
       "      <td>1166</td>\n",
       "      <td>128</td>\n",
       "    </tr>\n",
       "    <tr>\n",
       "      <th>y=1</th>\n",
       "      <td>133</td>\n",
       "      <td>10</td>\n",
       "    </tr>\n",
       "  </tbody>\n",
       "</table>\n",
       "</div>"
      ],
      "text/plain": [
       "     $\\bf\\hat{y}$=0  $\\bf\\hat{y}$=1\n",
       "y=0            1166             128\n",
       "y=1             133              10"
      ]
     },
     "execution_count": 25,
     "metadata": {},
     "output_type": "execute_result"
    }
   ],
   "source": [
    "# Perceptron with RBF\n",
    "conf = confusion_matrix(y_7, sgd_rbf_pred)\n",
    "df = pd.DataFrame(data=conf, index=['y=0', 'y=1'],\n",
    "                  columns=[r'$\\bf\\hat{y}$'+ r'=0', r'$\\bf\\hat{y}$'+ '=1'])\n",
    "df"
   ]
  },
  {
   "cell_type": "code",
   "execution_count": 26,
   "id": "9fd6479a",
   "metadata": {},
   "outputs": [
    {
     "data": {
      "text/html": [
       "<div>\n",
       "<style scoped>\n",
       "    .dataframe tbody tr th:only-of-type {\n",
       "        vertical-align: middle;\n",
       "    }\n",
       "\n",
       "    .dataframe tbody tr th {\n",
       "        vertical-align: top;\n",
       "    }\n",
       "\n",
       "    .dataframe thead th {\n",
       "        text-align: right;\n",
       "    }\n",
       "</style>\n",
       "<table border=\"1\" class=\"dataframe\">\n",
       "  <thead>\n",
       "    <tr style=\"text-align: right;\">\n",
       "      <th></th>\n",
       "      <th>$\\bf\\hat{y}$=0</th>\n",
       "      <th>$\\bf\\hat{y}$=1</th>\n",
       "    </tr>\n",
       "  </thead>\n",
       "  <tbody>\n",
       "    <tr>\n",
       "      <th>y=0</th>\n",
       "      <td>1060</td>\n",
       "      <td>234</td>\n",
       "    </tr>\n",
       "    <tr>\n",
       "      <th>y=1</th>\n",
       "      <td>2</td>\n",
       "      <td>141</td>\n",
       "    </tr>\n",
       "  </tbody>\n",
       "</table>\n",
       "</div>"
      ],
      "text/plain": [
       "     $\\bf\\hat{y}$=0  $\\bf\\hat{y}$=1\n",
       "y=0            1060             234\n",
       "y=1               2             141"
      ]
     },
     "execution_count": 26,
     "metadata": {},
     "output_type": "execute_result"
    }
   ],
   "source": [
    "# Naive Bayes\n",
    "conf = confusion_matrix(y_7, gnb_pred)\n",
    "df = pd.DataFrame(data=conf, index=['y=0', 'y=1'],\n",
    "                  columns=[r'$\\bf\\hat{y}$'+ r'=0', r'$\\bf\\hat{y}$'+ '=1'])\n",
    "df"
   ]
  },
  {
   "cell_type": "markdown",
   "id": "9e3f3614",
   "metadata": {},
   "source": [
    "Plotting precision-recall curves"
   ]
  },
  {
   "cell_type": "code",
   "execution_count": 27,
   "id": "ecc9a326",
   "metadata": {},
   "outputs": [],
   "source": [
    "log_scores = cross_val_predict(log_reg, X_train, y_7, method='decision_function', cv=5)\n",
    "sgd_scores = cross_val_predict(sgd, X_train, y_7, method='decision_function', cv=5)\n",
    "sgd_rbf_scores = cross_val_predict(sgd_rbf, X_train_rbf, y_7, method='decision_function',\n",
    "                                   cv=5)\n",
    "gnb_scores = cross_val_predict(gnb, X_train, y_7, method='predict_proba', cv=5)"
   ]
  },
  {
   "cell_type": "code",
   "execution_count": 28,
   "id": "e3044df3",
   "metadata": {},
   "outputs": [
    {
     "data": {
      "text/plain": [
       "(1437, 2)"
      ]
     },
     "execution_count": 28,
     "metadata": {},
     "output_type": "execute_result"
    }
   ],
   "source": [
    "gnb_scores.shape"
   ]
  },
  {
   "cell_type": "code",
   "execution_count": 29,
   "id": "ba87e412",
   "metadata": {},
   "outputs": [
    {
     "name": "stdout",
     "output_type": "stream",
     "text": [
      "Class column 1: False\n",
      "Class column 2: True\n"
     ]
    }
   ],
   "source": [
    "print(f'Class column 1: {gnb.classes_[0]}', f'Class column 2: {gnb.classes_[1]}', sep='\\n')"
   ]
  },
  {
   "cell_type": "code",
   "execution_count": 30,
   "id": "90664ce9",
   "metadata": {},
   "outputs": [],
   "source": [
    "gnb_scores = gnb_scores[:,1]"
   ]
  },
  {
   "cell_type": "code",
   "execution_count": 31,
   "id": "0da1fa46",
   "metadata": {},
   "outputs": [
    {
     "data": {
      "image/png": "[encoded data removed]",
      "text/plain": [
       "<Figure size 1440x1008 with 4 Axes>"
      ]
     },
     "metadata": {
      "needs_background": "light"
     },
     "output_type": "display_data"
    }
   ],
   "source": [
    "fig, ax = plt.subplots(2, 2, figsize=(20, 14))\n",
    "# Logistic Regression\n",
    "precision, recall, thresholds = precision_recall_curve(y_7, log_scores)\n",
    "ax[0][0].plot(thresholds, precision[:-1],'r--', label='precision')\n",
    "ax[0][0].plot(thresholds, recall[:-1],'k--', label='recall')\n",
    "ax[0][0].set_title('Logistic Regression')\n",
    "\n",
    "# Perceptron \n",
    "precision, recall, thresholds = precision_recall_curve(y_7, sgd_scores)\n",
    "ax[0][1].plot(thresholds, precision[:-1],'r--', label='precision')\n",
    "ax[0][1].plot(thresholds, recall[:-1],'k--', label='recall')\n",
    "ax[0][1].set_title('Perceptron')\n",
    "\n",
    "# Perceptron with RBF sampler\n",
    "precision, recall, thresholds = precision_recall_curve(y_7, sgd_rbf_scores)\n",
    "ax[1][0].plot(thresholds, precision[:-1],'r--', label='precision')\n",
    "ax[1][0].plot(thresholds, recall[:-1],'k--', label='recall')\n",
    "ax[1][0].set_title('Perceptron with RBF')\n",
    "\n",
    "# Naive Bayes\n",
    "precision, recall, thresholds = precision_recall_curve(y_7, gnb_scores)\n",
    "ax[1][1].plot(thresholds, precision[:-1],'r--', label='precision')\n",
    "ax[1][1].plot(thresholds, recall[:-1],'k--', label='recall')\n",
    "ax[1][1].set_title('Naive Bayes')\n",
    "\n",
    "plt.legend()\n",
    "plt.show()"
   ]
  },
  {
   "cell_type": "code",
   "execution_count": 32,
   "id": "94f5a6f6",
   "metadata": {},
   "outputs": [
    {
     "data": {
      "text/plain": [
       "(1437,)"
      ]
     },
     "execution_count": 32,
     "metadata": {},
     "output_type": "execute_result"
    }
   ],
   "source": [
    "gnb_scores.shape"
   ]
  },
  {
   "cell_type": "markdown",
   "id": "454e318c",
   "metadata": {},
   "source": [
    "**The Logistic regression model again proves to be by far the superior model for the binary classification subproblem.**"
   ]
  },
  {
   "cell_type": "markdown",
   "id": "f8a627a9",
   "metadata": {},
   "source": [
    "#### ROC curve"
   ]
  },
  {
   "cell_type": "code",
   "execution_count": 33,
   "id": "ea3dc4fe",
   "metadata": {},
   "outputs": [
    {
     "data": {
      "image/png": "[encoded data removed]",
      "text/plain": [
       "<Figure size 1440x1008 with 4 Axes>"
      ]
     },
     "metadata": {
      "needs_background": "light"
     },
     "output_type": "display_data"
    }
   ],
   "source": [
    "fig, axs = plt.subplots(2, 2, figsize=(20, 14))\n",
    "\n",
    "# Logistic Regression\n",
    "fpr, tpr, thresholds = roc_curve(y_7,log_scores)\n",
    "axs[0][0].plot(fpr, tpr, 'r--')\n",
    "axs[0][0].plot([0, 1], [0,1], 'k--', label='Random Performance')\n",
    "axs[0][0].set_xlim([0,1])\n",
    "axs[0][0].set_ylim([0,1.01])\n",
    "axs[0][0].set_title('Logistic Regression')\n",
    "axs[0][0].legend(loc='lower right')\n",
    "\n",
    "# Perceptron\n",
    "fpr, tpr, thresholds = roc_curve(y_7,sgd_scores)\n",
    "axs[0][1].plot(fpr, tpr, 'r--')\n",
    "axs[0][1].plot([0, 1], [0,1], 'k--', label='Random Performance')\n",
    "axs[0][1].set_xlim([0,1])\n",
    "axs[0][1].set_ylim([0,1.01])\n",
    "axs[0][1].set_title('Perceptron')\n",
    "axs[0][1].legend(loc='lower right')\n",
    "\n",
    "# Perceptron with RBF\n",
    "fpr, tpr, thresholds = roc_curve(y_7,sgd_rbf_scores)\n",
    "axs[1][0].plot(fpr, tpr, 'r--')\n",
    "axs[1][0].plot([0, 1], [0,1], 'k--', label='Random Performance')\n",
    "axs[1][0].set_xlim([0,1])\n",
    "axs[1][0].set_ylim([0,1.01])\n",
    "axs[1][0].set_title('Perceptron with RBF')\n",
    "axs[1][0].legend(loc='lower right')\n",
    "\n",
    "# Naive Bayes\n",
    "fpr, tpr, thresholds = roc_curve(y_7,gnb_scores)\n",
    "axs[1][1].plot(fpr, tpr, 'r--')\n",
    "axs[1][1].plot([0, 1], [0,1], 'k--', label='Random Performance')\n",
    "axs[1][1].set_xlim([0,1])\n",
    "axs[1][1].set_ylim([0,1.01])\n",
    "axs[1][1].set_title('Naive Bayes')\n",
    "axs[1][1].legend(loc='lower right')\n",
    "\n",
    "plt.show()"
   ]
  },
  {
   "cell_type": "code",
   "execution_count": 34,
   "id": "6fd2f9f6",
   "metadata": {},
   "outputs": [
    {
     "name": "stdout",
     "output_type": "stream",
     "text": [
      "Logistic Regression: 0.9982490461624929\n",
      "Perceptron: 0.9955091276575049\n",
      "Perceptron with RBF: 0.45042747052020626\n",
      "Naive Bayes: 0.923030987559581\n"
     ]
    }
   ],
   "source": [
    "# roc score\n",
    "print(f'Logistic Regression: {roc_auc_score(y_7, log_scores)}')\n",
    "print(f'Perceptron: {roc_auc_score(y_7, sgd_scores)}')\n",
    "print(f'Perceptron with RBF: {roc_auc_score(y_7, sgd_rbf_scores)}')\n",
    "print(f'Naive Bayes: {roc_auc_score(y_7, gnb_scores)}')"
   ]
  },
  {
   "cell_type": "markdown",
   "id": "253e61ad",
   "metadata": {},
   "source": [
    "# Multiclass classification"
   ]
  },
  {
   "cell_type": "markdown",
   "id": "0b8ae95d",
   "metadata": {},
   "source": [
    "*TODO: use one vs one strategy*"
   ]
  },
  {
   "cell_type": "code",
   "execution_count": 35,
   "id": "f8e75a5e",
   "metadata": {},
   "outputs": [
    {
     "data": {
      "text/plain": [
       "GaussianNB()"
      ]
     },
     "execution_count": 35,
     "metadata": {},
     "output_type": "execute_result"
    }
   ],
   "source": [
    "sgd.fit(X_train, y_train)\n",
    "sgd_rbf.fit(X_train_rbf, y_train)\n",
    "log_reg.fit(X_train, y_train)\n",
    "gnb.fit(X_train, y_train)"
   ]
  },
  {
   "cell_type": "code",
   "execution_count": 36,
   "id": "edc282ba",
   "metadata": {},
   "outputs": [
    {
     "name": "stdout",
     "output_type": "stream",
     "text": [
      "Logistic Regression:\n",
      " [0.96527778 0.95833333 0.96864111 0.96515679 0.95470383] \n",
      "Average:  0.9624225706542779\n",
      "\n",
      "Perceptron:\n",
      " [0.9375     0.86805556 0.92682927 0.94076655 0.89547038] \n",
      "Average:  0.9137243515292297\n",
      "\n",
      "Perceptron with RBF:\n",
      " [0.99305556 0.98958333 1.         0.99303136 0.9825784 ] \n",
      "Average:  0.9916497289972901\n",
      "\n",
      "Gaussian Naive Bayes:\n",
      " [0.81944444 0.875      0.80836237 0.82229965 0.85365854] \n",
      "Average:  0.8357530003871467\n"
     ]
    }
   ],
   "source": [
    "# Accuracy scores for 5 cross validation runs\n",
    "log_reg_scores = cross_val_score(log_reg, X_train, y_train, scoring='accuracy', cv=5)\n",
    "sgd_scores = cross_val_score(sgd, X_train, y_train, scoring='accuracy', cv=5)\n",
    "sgd_rbf_scores = cross_val_score(sgd_rbf, X_train, y_7, scoring='accuracy', cv=5)\n",
    "gnb_scores = cross_val_score(gnb, X_train, y_7, scoring='accuracy', cv=5)\n",
    "\n",
    "print('Logistic Regression:\\n', log_reg_scores, '\\nAverage: ',np.mean(log_reg_scores))\n",
    "print()\n",
    "print('Perceptron:\\n', sgd_scores, '\\nAverage: ', np.mean(sgd_scores))\n",
    "print()\n",
    "print('Perceptron with RBF:\\n', sgd_rbf_scores, '\\nAverage: ', np.mean(sgd_rbf_scores))\n",
    "print()\n",
    "print('Gaussian Naive Bayes:\\n', gnb_scores, '\\nAverage: ', np.mean(gnb_scores))"
   ]
  },
  {
   "cell_type": "code",
   "execution_count": 37,
   "id": "33d94a15",
   "metadata": {},
   "outputs": [],
   "source": [
    "log_pred = cross_val_predict(log_reg, X_train, y_train, cv=5, method='predict')\n",
    "sgd_pred = cross_val_predict(sgd, X_train, y_train, cv=5)\n",
    "sgd_rbf_pred = cross_val_predict(sgd_rbf, X_train_rbf, y_train, cv=5)\n",
    "gnb_pred = cross_val_predict(gnb, X_train, y_train, cv=5)"
   ]
  },
  {
   "cell_type": "code",
   "execution_count": 38,
   "id": "76d4aca0",
   "metadata": {
    "scrolled": true
   },
   "outputs": [
    {
     "name": "stdout",
     "output_type": "stream",
     "text": [
      "Recall --> 0.9638135003479471\n",
      "Precision --> 0.9638784286466721\n",
      "F1 score --> 0.9637203024352238\n"
     ]
    }
   ],
   "source": [
    "# Logistic Regression\n",
    "print( f\"Recall --> {recall_score(y_train, log_pred, average='weighted')}\",\n",
    "f\"Precision --> {precision_score(y_train, log_pred, average='weighted')}\",\n",
    "f\"F1 score --> {f1_score(y_train, log_pred, average='weighted')}\", sep='\\n')"
   ]
  },
  {
   "cell_type": "code",
   "execution_count": 39,
   "id": "db05072a",
   "metadata": {},
   "outputs": [
    {
     "name": "stdout",
     "output_type": "stream",
     "text": [
      "Recall --> 0.9137091162143354\n",
      "Precision --> 0.9172770149049306\n",
      "F1 score --> 0.9105836764783534\n"
     ]
    }
   ],
   "source": [
    "# Perceptron\n",
    "print(f\"Recall --> {recall_score(y_train, sgd_pred, average='weighted')}\",\n",
    "     f\"Precision --> {precision_score(y_train, sgd_pred, average='weighted')}\",\n",
    "     f\"F1 score --> {f1_score(y_train, sgd_pred, average='weighted')}\", sep='\\n')"
   ]
  },
  {
   "cell_type": "code",
   "execution_count": 40,
   "id": "a414ff7f",
   "metadata": {},
   "outputs": [
    {
     "name": "stdout",
     "output_type": "stream",
     "text": [
      "Recall --> 0.09812108559498957\n",
      "Precision --> 0.0994783375189047\n",
      "F1 score --> 0.09598307389304381\n"
     ]
    }
   ],
   "source": [
    "# Perceptron with kernel trick\n",
    "print(f\"Recall --> {recall_score(y_train, sgd_rbf_pred, average='weighted')}\",\n",
    "     f\"Precision --> {precision_score(y_train, sgd_rbf_pred, average='weighted')}\",\n",
    "     f\"F1 score --> {f1_score(y_train, sgd_rbf_pred, average='weighted')}\", sep='\\n')"
   ]
  },
  {
   "cell_type": "code",
   "execution_count": 41,
   "id": "a5c9381e",
   "metadata": {
    "scrolled": true
   },
   "outputs": [
    {
     "name": "stdout",
     "output_type": "stream",
     "text": [
      "Recall --> 0.8274182324286709\n",
      "Precision --> 0.871126229005243\n",
      "F1 score --> 0.8294072137190873\n"
     ]
    }
   ],
   "source": [
    "# Naive Bayes\n",
    "print(f\"Recall --> {recall_score(y_train, gnb_pred, average='weighted')}\",\n",
    "     f\"Precision --> {precision_score(y_train, gnb_pred, average='weighted')}\",\n",
    "     f\"F1 score --> {f1_score(y_train, gnb_pred, average='weighted')}\", sep='\\n')"
   ]
  },
  {
   "cell_type": "markdown",
   "id": "1203baff",
   "metadata": {},
   "source": [
    "# Error Analysis"
   ]
  },
  {
   "cell_type": "markdown",
   "id": "400633b1",
   "metadata": {},
   "source": [
    "We report confusion matrices for our two best models below."
   ]
  },
  {
   "cell_type": "markdown",
   "id": "b1e9dbc7",
   "metadata": {},
   "source": [
    "### Logistic Regression"
   ]
  },
  {
   "cell_type": "code",
   "execution_count": 42,
   "id": "69a91bb6",
   "metadata": {},
   "outputs": [
    {
     "data": {
      "text/html": [
       "<div>\n",
       "<style scoped>\n",
       "    .dataframe tbody tr th:only-of-type {\n",
       "        vertical-align: middle;\n",
       "    }\n",
       "\n",
       "    .dataframe tbody tr th {\n",
       "        vertical-align: top;\n",
       "    }\n",
       "\n",
       "    .dataframe thead th {\n",
       "        text-align: right;\n",
       "    }\n",
       "</style>\n",
       "<table border=\"1\" class=\"dataframe\">\n",
       "  <thead>\n",
       "    <tr style=\"text-align: right;\">\n",
       "      <th></th>\n",
       "      <th>0</th>\n",
       "      <th>1</th>\n",
       "      <th>2</th>\n",
       "      <th>3</th>\n",
       "      <th>4</th>\n",
       "      <th>5</th>\n",
       "      <th>6</th>\n",
       "      <th>7</th>\n",
       "      <th>8</th>\n",
       "      <th>9</th>\n",
       "    </tr>\n",
       "  </thead>\n",
       "  <tbody>\n",
       "    <tr>\n",
       "      <th>0</th>\n",
       "      <td>141</td>\n",
       "      <td>0</td>\n",
       "      <td>0</td>\n",
       "      <td>0</td>\n",
       "      <td>0</td>\n",
       "      <td>1</td>\n",
       "      <td>0</td>\n",
       "      <td>0</td>\n",
       "      <td>0</td>\n",
       "      <td>0</td>\n",
       "    </tr>\n",
       "    <tr>\n",
       "      <th>1</th>\n",
       "      <td>0</td>\n",
       "      <td>142</td>\n",
       "      <td>0</td>\n",
       "      <td>0</td>\n",
       "      <td>1</td>\n",
       "      <td>0</td>\n",
       "      <td>1</td>\n",
       "      <td>0</td>\n",
       "      <td>1</td>\n",
       "      <td>1</td>\n",
       "    </tr>\n",
       "    <tr>\n",
       "      <th>2</th>\n",
       "      <td>0</td>\n",
       "      <td>2</td>\n",
       "      <td>139</td>\n",
       "      <td>1</td>\n",
       "      <td>0</td>\n",
       "      <td>0</td>\n",
       "      <td>0</td>\n",
       "      <td>0</td>\n",
       "      <td>0</td>\n",
       "      <td>0</td>\n",
       "    </tr>\n",
       "    <tr>\n",
       "      <th>3</th>\n",
       "      <td>0</td>\n",
       "      <td>0</td>\n",
       "      <td>1</td>\n",
       "      <td>141</td>\n",
       "      <td>0</td>\n",
       "      <td>2</td>\n",
       "      <td>0</td>\n",
       "      <td>0</td>\n",
       "      <td>2</td>\n",
       "      <td>0</td>\n",
       "    </tr>\n",
       "    <tr>\n",
       "      <th>4</th>\n",
       "      <td>0</td>\n",
       "      <td>1</td>\n",
       "      <td>0</td>\n",
       "      <td>0</td>\n",
       "      <td>141</td>\n",
       "      <td>0</td>\n",
       "      <td>0</td>\n",
       "      <td>1</td>\n",
       "      <td>1</td>\n",
       "      <td>1</td>\n",
       "    </tr>\n",
       "    <tr>\n",
       "      <th>5</th>\n",
       "      <td>0</td>\n",
       "      <td>0</td>\n",
       "      <td>1</td>\n",
       "      <td>0</td>\n",
       "      <td>1</td>\n",
       "      <td>137</td>\n",
       "      <td>1</td>\n",
       "      <td>2</td>\n",
       "      <td>0</td>\n",
       "      <td>3</td>\n",
       "    </tr>\n",
       "    <tr>\n",
       "      <th>6</th>\n",
       "      <td>0</td>\n",
       "      <td>1</td>\n",
       "      <td>0</td>\n",
       "      <td>0</td>\n",
       "      <td>0</td>\n",
       "      <td>1</td>\n",
       "      <td>143</td>\n",
       "      <td>0</td>\n",
       "      <td>0</td>\n",
       "      <td>0</td>\n",
       "    </tr>\n",
       "    <tr>\n",
       "      <th>7</th>\n",
       "      <td>0</td>\n",
       "      <td>0</td>\n",
       "      <td>0</td>\n",
       "      <td>2</td>\n",
       "      <td>0</td>\n",
       "      <td>0</td>\n",
       "      <td>0</td>\n",
       "      <td>138</td>\n",
       "      <td>0</td>\n",
       "      <td>3</td>\n",
       "    </tr>\n",
       "    <tr>\n",
       "      <th>8</th>\n",
       "      <td>0</td>\n",
       "      <td>5</td>\n",
       "      <td>2</td>\n",
       "      <td>0</td>\n",
       "      <td>2</td>\n",
       "      <td>2</td>\n",
       "      <td>2</td>\n",
       "      <td>0</td>\n",
       "      <td>125</td>\n",
       "      <td>1</td>\n",
       "    </tr>\n",
       "    <tr>\n",
       "      <th>9</th>\n",
       "      <td>1</td>\n",
       "      <td>0</td>\n",
       "      <td>0</td>\n",
       "      <td>1</td>\n",
       "      <td>0</td>\n",
       "      <td>1</td>\n",
       "      <td>0</td>\n",
       "      <td>1</td>\n",
       "      <td>2</td>\n",
       "      <td>138</td>\n",
       "    </tr>\n",
       "  </tbody>\n",
       "</table>\n",
       "</div>"
      ],
      "text/plain": [
       "     0    1    2    3    4    5    6    7    8    9\n",
       "0  141    0    0    0    0    1    0    0    0    0\n",
       "1    0  142    0    0    1    0    1    0    1    1\n",
       "2    0    2  139    1    0    0    0    0    0    0\n",
       "3    0    0    1  141    0    2    0    0    2    0\n",
       "4    0    1    0    0  141    0    0    1    1    1\n",
       "5    0    0    1    0    1  137    1    2    0    3\n",
       "6    0    1    0    0    0    1  143    0    0    0\n",
       "7    0    0    0    2    0    0    0  138    0    3\n",
       "8    0    5    2    0    2    2    2    0  125    1\n",
       "9    1    0    0    1    0    1    0    1    2  138"
      ]
     },
     "execution_count": 42,
     "metadata": {},
     "output_type": "execute_result"
    }
   ],
   "source": [
    "conf = confusion_matrix(y_train, log_pred)\n",
    "df = pd.DataFrame(data=conf, index=pd.RangeIndex(start=0,stop=10),\n",
    "                  columns=np.arange(start=0, stop=10))\n",
    "df"
   ]
  },
  {
   "cell_type": "markdown",
   "id": "901044cc",
   "metadata": {},
   "source": [
    "**We viualise the error frequency of each worngly assigned pixel region in proportion to all wrongly assigned regions.**"
   ]
  },
  {
   "cell_type": "code",
   "execution_count": 43,
   "id": "8583c2cf",
   "metadata": {},
   "outputs": [
    {
     "data": {
      "image/png": "[encoded data removed]",
      "text/plain": [
       "<Figure size 432x288 with 1 Axes>"
      ]
     },
     "metadata": {
      "needs_background": "light"
     },
     "output_type": "display_data"
    }
   ],
   "source": [
    "row_sums = conf.sum(axis=1, keepdims=True)\n",
    "norm_conf_mx = conf / row_sums\n",
    "np.fill_diagonal(norm_conf_mx, 0)\n",
    "plt.imshow(norm_conf_mx, cmap = \"jet\")\n",
    "plt.show()"
   ]
  },
  {
   "cell_type": "markdown",
   "id": "c6acde98",
   "metadata": {},
   "source": [
    "### Perceptron"
   ]
  },
  {
   "cell_type": "code",
   "execution_count": 44,
   "id": "920e3c36",
   "metadata": {},
   "outputs": [
    {
     "data": {
      "text/html": [
       "<div>\n",
       "<style scoped>\n",
       "    .dataframe tbody tr th:only-of-type {\n",
       "        vertical-align: middle;\n",
       "    }\n",
       "\n",
       "    .dataframe tbody tr th {\n",
       "        vertical-align: top;\n",
       "    }\n",
       "\n",
       "    .dataframe thead th {\n",
       "        text-align: right;\n",
       "    }\n",
       "</style>\n",
       "<table border=\"1\" class=\"dataframe\">\n",
       "  <thead>\n",
       "    <tr style=\"text-align: right;\">\n",
       "      <th></th>\n",
       "      <th>0</th>\n",
       "      <th>1</th>\n",
       "      <th>2</th>\n",
       "      <th>3</th>\n",
       "      <th>4</th>\n",
       "      <th>5</th>\n",
       "      <th>6</th>\n",
       "      <th>7</th>\n",
       "      <th>8</th>\n",
       "      <th>9</th>\n",
       "    </tr>\n",
       "  </thead>\n",
       "  <tbody>\n",
       "    <tr>\n",
       "      <th>0</th>\n",
       "      <td>139</td>\n",
       "      <td>0</td>\n",
       "      <td>0</td>\n",
       "      <td>0</td>\n",
       "      <td>0</td>\n",
       "      <td>3</td>\n",
       "      <td>0</td>\n",
       "      <td>0</td>\n",
       "      <td>0</td>\n",
       "      <td>0</td>\n",
       "    </tr>\n",
       "    <tr>\n",
       "      <th>1</th>\n",
       "      <td>0</td>\n",
       "      <td>137</td>\n",
       "      <td>1</td>\n",
       "      <td>0</td>\n",
       "      <td>4</td>\n",
       "      <td>0</td>\n",
       "      <td>1</td>\n",
       "      <td>0</td>\n",
       "      <td>1</td>\n",
       "      <td>2</td>\n",
       "    </tr>\n",
       "    <tr>\n",
       "      <th>2</th>\n",
       "      <td>0</td>\n",
       "      <td>1</td>\n",
       "      <td>139</td>\n",
       "      <td>2</td>\n",
       "      <td>0</td>\n",
       "      <td>0</td>\n",
       "      <td>0</td>\n",
       "      <td>0</td>\n",
       "      <td>0</td>\n",
       "      <td>0</td>\n",
       "    </tr>\n",
       "    <tr>\n",
       "      <th>3</th>\n",
       "      <td>0</td>\n",
       "      <td>0</td>\n",
       "      <td>0</td>\n",
       "      <td>141</td>\n",
       "      <td>0</td>\n",
       "      <td>3</td>\n",
       "      <td>0</td>\n",
       "      <td>0</td>\n",
       "      <td>1</td>\n",
       "      <td>1</td>\n",
       "    </tr>\n",
       "    <tr>\n",
       "      <th>4</th>\n",
       "      <td>0</td>\n",
       "      <td>2</td>\n",
       "      <td>0</td>\n",
       "      <td>0</td>\n",
       "      <td>140</td>\n",
       "      <td>0</td>\n",
       "      <td>0</td>\n",
       "      <td>1</td>\n",
       "      <td>1</td>\n",
       "      <td>1</td>\n",
       "    </tr>\n",
       "    <tr>\n",
       "      <th>5</th>\n",
       "      <td>1</td>\n",
       "      <td>1</td>\n",
       "      <td>0</td>\n",
       "      <td>0</td>\n",
       "      <td>1</td>\n",
       "      <td>139</td>\n",
       "      <td>1</td>\n",
       "      <td>0</td>\n",
       "      <td>0</td>\n",
       "      <td>2</td>\n",
       "    </tr>\n",
       "    <tr>\n",
       "      <th>6</th>\n",
       "      <td>0</td>\n",
       "      <td>3</td>\n",
       "      <td>0</td>\n",
       "      <td>1</td>\n",
       "      <td>2</td>\n",
       "      <td>1</td>\n",
       "      <td>138</td>\n",
       "      <td>0</td>\n",
       "      <td>0</td>\n",
       "      <td>0</td>\n",
       "    </tr>\n",
       "    <tr>\n",
       "      <th>7</th>\n",
       "      <td>0</td>\n",
       "      <td>0</td>\n",
       "      <td>1</td>\n",
       "      <td>2</td>\n",
       "      <td>0</td>\n",
       "      <td>1</td>\n",
       "      <td>0</td>\n",
       "      <td>137</td>\n",
       "      <td>0</td>\n",
       "      <td>2</td>\n",
       "    </tr>\n",
       "    <tr>\n",
       "      <th>8</th>\n",
       "      <td>0</td>\n",
       "      <td>15</td>\n",
       "      <td>4</td>\n",
       "      <td>18</td>\n",
       "      <td>5</td>\n",
       "      <td>7</td>\n",
       "      <td>6</td>\n",
       "      <td>0</td>\n",
       "      <td>82</td>\n",
       "      <td>2</td>\n",
       "    </tr>\n",
       "    <tr>\n",
       "      <th>9</th>\n",
       "      <td>0</td>\n",
       "      <td>5</td>\n",
       "      <td>0</td>\n",
       "      <td>6</td>\n",
       "      <td>1</td>\n",
       "      <td>7</td>\n",
       "      <td>0</td>\n",
       "      <td>0</td>\n",
       "      <td>4</td>\n",
       "      <td>121</td>\n",
       "    </tr>\n",
       "  </tbody>\n",
       "</table>\n",
       "</div>"
      ],
      "text/plain": [
       "     0    1    2    3    4    5    6    7   8    9\n",
       "0  139    0    0    0    0    3    0    0   0    0\n",
       "1    0  137    1    0    4    0    1    0   1    2\n",
       "2    0    1  139    2    0    0    0    0   0    0\n",
       "3    0    0    0  141    0    3    0    0   1    1\n",
       "4    0    2    0    0  140    0    0    1   1    1\n",
       "5    1    1    0    0    1  139    1    0   0    2\n",
       "6    0    3    0    1    2    1  138    0   0    0\n",
       "7    0    0    1    2    0    1    0  137   0    2\n",
       "8    0   15    4   18    5    7    6    0  82    2\n",
       "9    0    5    0    6    1    7    0    0   4  121"
      ]
     },
     "execution_count": 44,
     "metadata": {},
     "output_type": "execute_result"
    }
   ],
   "source": [
    "# Perceptron\n",
    "conf = confusion_matrix(y_train, sgd_pred)\n",
    "df = pd.DataFrame(data=conf, index=pd.RangeIndex(start=0,stop=10),\n",
    "                  columns=np.arange(start=0, stop=10))\n",
    "df"
   ]
  },
  {
   "cell_type": "code",
   "execution_count": 45,
   "id": "3c47d8dc",
   "metadata": {
    "scrolled": true
   },
   "outputs": [
    {
     "data": {
      "image/png": "[encoded data removed]",
      "text/plain": [
       "<Figure size 432x288 with 1 Axes>"
      ]
     },
     "metadata": {
      "needs_background": "light"
     },
     "output_type": "display_data"
    }
   ],
   "source": [
    "row_sums = conf.sum(axis=1, keepdims=True)\n",
    "norm_conf_mx = conf / row_sums\n",
    "np.fill_diagonal(norm_conf_mx, 0)\n",
    "plt.imshow(norm_conf_mx, cmap = \"jet\")\n",
    "plt.show()"
   ]
  },
  {
   "cell_type": "markdown",
   "id": "5275127e",
   "metadata": {},
   "source": [
    "# Testing"
   ]
  },
  {
   "cell_type": "code",
   "execution_count": 46,
   "id": "3f485ccc",
   "metadata": {},
   "outputs": [],
   "source": [
    "from sklearn.metrics import accuracy_score"
   ]
  },
  {
   "cell_type": "code",
   "execution_count": 47,
   "id": "a5d818b5",
   "metadata": {},
   "outputs": [],
   "source": [
    "log_pred = log_reg.predict(X_test)\n",
    "sgd_pred = sgd.predict(X_test)\n",
    "X_test_rbf = transformer.fit_transform(X_test)\n",
    "sgd_rbf_pred = sgd_rbf.predict(X_test_rbf)\n",
    "gnb_pred = gnb.predict(X_test)"
   ]
  },
  {
   "cell_type": "code",
   "execution_count": 49,
   "id": "ed522712",
   "metadata": {
    "scrolled": true
   },
   "outputs": [
    {
     "name": "stdout",
     "output_type": "stream",
     "text": [
      "Accuracy --> 0.9611111111111111\n",
      "Recall --> 0.9611111111111111\n",
      "Precision --> 0.9616884090568301\n",
      "F1 score --> 0.961140796891353\n"
     ]
    }
   ],
   "source": [
    "# Logistic Regression\n",
    "print( f\"Accuracy --> {accuracy_score(y_test, log_pred)}\",\n",
    "      f\"Recall --> {recall_score(y_test, log_pred, average='weighted')}\",\n",
    "      f\"Precision --> {precision_score(y_test, log_pred, average='weighted')}\",\n",
    "      f\"F1 score --> {f1_score(y_test, log_pred, average='weighted')}\", sep='\\n')"
   ]
  },
  {
   "cell_type": "code",
   "execution_count": 50,
   "id": "9bb3ff3e",
   "metadata": {},
   "outputs": [
    {
     "name": "stdout",
     "output_type": "stream",
     "text": [
      "Accuracy --> 0.9472222222222222\n",
      "Recall --> 0.9472222222222222\n",
      "Precision --> 0.9506739556477815\n",
      "F1 score --> 0.9472461128819086\n"
     ]
    }
   ],
   "source": [
    "# Perceptron\n",
    "print( f\"Accuracy --> {accuracy_score(y_test, sgd_pred)}\",\n",
    "      f\"Recall --> {recall_score(y_test, sgd_pred, average='weighted')}\",\n",
    "      f\"Precision --> {precision_score(y_test, sgd_pred, average='weighted')}\",\n",
    "      f\"F1 score --> {f1_score(y_test, sgd_pred, average='weighted')}\", sep='\\n')"
   ]
  },
  {
   "cell_type": "code",
   "execution_count": 51,
   "id": "78ddd352",
   "metadata": {},
   "outputs": [
    {
     "name": "stdout",
     "output_type": "stream",
     "text": [
      "Accuracy --> 0.10555555555555556\n",
      "Recall --> 0.10555555555555556\n",
      "Precision --> 0.10646506794510001\n",
      "F1 score --> 0.10532448282389988\n"
     ]
    }
   ],
   "source": [
    "# Perceptron with kernel trick\n",
    "print( f\"Accuracy --> {accuracy_score(y_test, sgd_rbf_pred)}\",\n",
    "      f\"Recall --> {recall_score(y_test, sgd_rbf_pred, average='weighted')}\",\n",
    "      f\"Precision --> {precision_score(y_test, sgd_rbf_pred, average='weighted')}\",\n",
    "      f\"F1 score --> {f1_score(y_test, sgd_rbf_pred, average='weighted')}\", sep='\\n')"
   ]
  },
  {
   "cell_type": "code",
   "execution_count": 52,
   "id": "cb71defc",
   "metadata": {
    "scrolled": true
   },
   "outputs": [
    {
     "name": "stdout",
     "output_type": "stream",
     "text": [
      "Accuracy --> 0.8111111111111111\n",
      "Recall --> 0.8111111111111111\n",
      "Precision --> 0.8479871939298477\n",
      "F1 score --> 0.8150828576150382\n"
     ]
    }
   ],
   "source": [
    "# Naive Bayes\n",
    "print( f\"Accuracy --> {accuracy_score(y_test, gnb_pred)}\",\n",
    "      f\"Recall --> {recall_score(y_test, gnb_pred, average='weighted')}\",\n",
    "      f\"Precision --> {precision_score(y_test, gnb_pred, average='weighted')}\",\n",
    "      f\"F1 score --> {f1_score(y_test, gnb_pred, average='weighted')}\", sep='\\n')"
   ]
  },
  {
   "cell_type": "markdown",
   "id": "db12f255",
   "metadata": {},
   "source": [
    "## Error Analysis"
   ]
  },
  {
   "cell_type": "markdown",
   "id": "f36989ac",
   "metadata": {},
   "source": [
    "#### Logistic Regression"
   ]
  },
  {
   "cell_type": "code",
   "execution_count": 53,
   "id": "4f8b0faf",
   "metadata": {},
   "outputs": [
    {
     "data": {
      "text/html": [
       "<div>\n",
       "<style scoped>\n",
       "    .dataframe tbody tr th:only-of-type {\n",
       "        vertical-align: middle;\n",
       "    }\n",
       "\n",
       "    .dataframe tbody tr th {\n",
       "        vertical-align: top;\n",
       "    }\n",
       "\n",
       "    .dataframe thead th {\n",
       "        text-align: right;\n",
       "    }\n",
       "</style>\n",
       "<table border=\"1\" class=\"dataframe\">\n",
       "  <thead>\n",
       "    <tr style=\"text-align: right;\">\n",
       "      <th></th>\n",
       "      <th>0</th>\n",
       "      <th>1</th>\n",
       "      <th>2</th>\n",
       "      <th>3</th>\n",
       "      <th>4</th>\n",
       "      <th>5</th>\n",
       "      <th>6</th>\n",
       "      <th>7</th>\n",
       "      <th>8</th>\n",
       "      <th>9</th>\n",
       "    </tr>\n",
       "  </thead>\n",
       "  <tbody>\n",
       "    <tr>\n",
       "      <th>0</th>\n",
       "      <td>36</td>\n",
       "      <td>0</td>\n",
       "      <td>0</td>\n",
       "      <td>0</td>\n",
       "      <td>0</td>\n",
       "      <td>0</td>\n",
       "      <td>0</td>\n",
       "      <td>0</td>\n",
       "      <td>0</td>\n",
       "      <td>0</td>\n",
       "    </tr>\n",
       "    <tr>\n",
       "      <th>1</th>\n",
       "      <td>0</td>\n",
       "      <td>32</td>\n",
       "      <td>0</td>\n",
       "      <td>1</td>\n",
       "      <td>0</td>\n",
       "      <td>0</td>\n",
       "      <td>0</td>\n",
       "      <td>0</td>\n",
       "      <td>3</td>\n",
       "      <td>0</td>\n",
       "    </tr>\n",
       "    <tr>\n",
       "      <th>2</th>\n",
       "      <td>0</td>\n",
       "      <td>0</td>\n",
       "      <td>35</td>\n",
       "      <td>0</td>\n",
       "      <td>0</td>\n",
       "      <td>0</td>\n",
       "      <td>0</td>\n",
       "      <td>0</td>\n",
       "      <td>0</td>\n",
       "      <td>0</td>\n",
       "    </tr>\n",
       "    <tr>\n",
       "      <th>3</th>\n",
       "      <td>0</td>\n",
       "      <td>0</td>\n",
       "      <td>0</td>\n",
       "      <td>37</td>\n",
       "      <td>0</td>\n",
       "      <td>0</td>\n",
       "      <td>0</td>\n",
       "      <td>0</td>\n",
       "      <td>0</td>\n",
       "      <td>0</td>\n",
       "    </tr>\n",
       "    <tr>\n",
       "      <th>4</th>\n",
       "      <td>0</td>\n",
       "      <td>0</td>\n",
       "      <td>0</td>\n",
       "      <td>0</td>\n",
       "      <td>36</td>\n",
       "      <td>0</td>\n",
       "      <td>0</td>\n",
       "      <td>0</td>\n",
       "      <td>0</td>\n",
       "      <td>0</td>\n",
       "    </tr>\n",
       "    <tr>\n",
       "      <th>5</th>\n",
       "      <td>0</td>\n",
       "      <td>0</td>\n",
       "      <td>0</td>\n",
       "      <td>1</td>\n",
       "      <td>0</td>\n",
       "      <td>36</td>\n",
       "      <td>0</td>\n",
       "      <td>0</td>\n",
       "      <td>0</td>\n",
       "      <td>0</td>\n",
       "    </tr>\n",
       "    <tr>\n",
       "      <th>6</th>\n",
       "      <td>0</td>\n",
       "      <td>0</td>\n",
       "      <td>0</td>\n",
       "      <td>0</td>\n",
       "      <td>0</td>\n",
       "      <td>0</td>\n",
       "      <td>35</td>\n",
       "      <td>0</td>\n",
       "      <td>1</td>\n",
       "      <td>0</td>\n",
       "    </tr>\n",
       "    <tr>\n",
       "      <th>7</th>\n",
       "      <td>0</td>\n",
       "      <td>0</td>\n",
       "      <td>0</td>\n",
       "      <td>0</td>\n",
       "      <td>1</td>\n",
       "      <td>0</td>\n",
       "      <td>0</td>\n",
       "      <td>35</td>\n",
       "      <td>0</td>\n",
       "      <td>0</td>\n",
       "    </tr>\n",
       "    <tr>\n",
       "      <th>8</th>\n",
       "      <td>0</td>\n",
       "      <td>4</td>\n",
       "      <td>0</td>\n",
       "      <td>0</td>\n",
       "      <td>0</td>\n",
       "      <td>1</td>\n",
       "      <td>0</td>\n",
       "      <td>0</td>\n",
       "      <td>30</td>\n",
       "      <td>0</td>\n",
       "    </tr>\n",
       "    <tr>\n",
       "      <th>9</th>\n",
       "      <td>0</td>\n",
       "      <td>0</td>\n",
       "      <td>0</td>\n",
       "      <td>0</td>\n",
       "      <td>1</td>\n",
       "      <td>0</td>\n",
       "      <td>0</td>\n",
       "      <td>0</td>\n",
       "      <td>1</td>\n",
       "      <td>34</td>\n",
       "    </tr>\n",
       "  </tbody>\n",
       "</table>\n",
       "</div>"
      ],
      "text/plain": [
       "    0   1   2   3   4   5   6   7   8   9\n",
       "0  36   0   0   0   0   0   0   0   0   0\n",
       "1   0  32   0   1   0   0   0   0   3   0\n",
       "2   0   0  35   0   0   0   0   0   0   0\n",
       "3   0   0   0  37   0   0   0   0   0   0\n",
       "4   0   0   0   0  36   0   0   0   0   0\n",
       "5   0   0   0   1   0  36   0   0   0   0\n",
       "6   0   0   0   0   0   0  35   0   1   0\n",
       "7   0   0   0   0   1   0   0  35   0   0\n",
       "8   0   4   0   0   0   1   0   0  30   0\n",
       "9   0   0   0   0   1   0   0   0   1  34"
      ]
     },
     "execution_count": 53,
     "metadata": {},
     "output_type": "execute_result"
    }
   ],
   "source": [
    "conf = confusion_matrix(y_test, log_pred)\n",
    "df = pd.DataFrame(data=conf, index=pd.RangeIndex(start=0,stop=10),\n",
    "                  columns=np.arange(start=0, stop=10))\n",
    "df"
   ]
  },
  {
   "cell_type": "markdown",
   "id": "57f9f5a8",
   "metadata": {},
   "source": [
    "**We viualise the error frequency of each worngly assigned pixel region in proportion to all wrongly assigned regions as above.**"
   ]
  },
  {
   "cell_type": "code",
   "execution_count": 54,
   "id": "8aa537a6",
   "metadata": {},
   "outputs": [
    {
     "data": {
      "image/png": "[encoded data removed]",
      "text/plain": [
       "<Figure size 432x288 with 1 Axes>"
      ]
     },
     "metadata": {
      "needs_background": "light"
     },
     "output_type": "display_data"
    }
   ],
   "source": [
    "row_sums = conf.sum(axis=1, keepdims=True)\n",
    "norm_conf_mx = conf / row_sums\n",
    "np.fill_diagonal(norm_conf_mx, 0)\n",
    "plt.imshow(norm_conf_mx, cmap = \"jet\")\n",
    "plt.show()"
   ]
  },
  {
   "cell_type": "markdown",
   "id": "82e700dc",
   "metadata": {},
   "source": [
    "#### Perceptron"
   ]
  },
  {
   "cell_type": "code",
   "execution_count": 56,
   "id": "8f9f7fd1",
   "metadata": {},
   "outputs": [
    {
     "data": {
      "text/html": [
       "<div>\n",
       "<style scoped>\n",
       "    .dataframe tbody tr th:only-of-type {\n",
       "        vertical-align: middle;\n",
       "    }\n",
       "\n",
       "    .dataframe tbody tr th {\n",
       "        vertical-align: top;\n",
       "    }\n",
       "\n",
       "    .dataframe thead th {\n",
       "        text-align: right;\n",
       "    }\n",
       "</style>\n",
       "<table border=\"1\" class=\"dataframe\">\n",
       "  <thead>\n",
       "    <tr style=\"text-align: right;\">\n",
       "      <th></th>\n",
       "      <th>0</th>\n",
       "      <th>1</th>\n",
       "      <th>2</th>\n",
       "      <th>3</th>\n",
       "      <th>4</th>\n",
       "      <th>5</th>\n",
       "      <th>6</th>\n",
       "      <th>7</th>\n",
       "      <th>8</th>\n",
       "      <th>9</th>\n",
       "    </tr>\n",
       "  </thead>\n",
       "  <tbody>\n",
       "    <tr>\n",
       "      <th>0</th>\n",
       "      <td>35</td>\n",
       "      <td>0</td>\n",
       "      <td>0</td>\n",
       "      <td>0</td>\n",
       "      <td>0</td>\n",
       "      <td>0</td>\n",
       "      <td>1</td>\n",
       "      <td>0</td>\n",
       "      <td>0</td>\n",
       "      <td>0</td>\n",
       "    </tr>\n",
       "    <tr>\n",
       "      <th>1</th>\n",
       "      <td>0</td>\n",
       "      <td>29</td>\n",
       "      <td>0</td>\n",
       "      <td>1</td>\n",
       "      <td>0</td>\n",
       "      <td>0</td>\n",
       "      <td>3</td>\n",
       "      <td>0</td>\n",
       "      <td>3</td>\n",
       "      <td>0</td>\n",
       "    </tr>\n",
       "    <tr>\n",
       "      <th>2</th>\n",
       "      <td>0</td>\n",
       "      <td>0</td>\n",
       "      <td>35</td>\n",
       "      <td>0</td>\n",
       "      <td>0</td>\n",
       "      <td>0</td>\n",
       "      <td>0</td>\n",
       "      <td>0</td>\n",
       "      <td>0</td>\n",
       "      <td>0</td>\n",
       "    </tr>\n",
       "    <tr>\n",
       "      <th>3</th>\n",
       "      <td>0</td>\n",
       "      <td>0</td>\n",
       "      <td>0</td>\n",
       "      <td>37</td>\n",
       "      <td>0</td>\n",
       "      <td>0</td>\n",
       "      <td>0</td>\n",
       "      <td>0</td>\n",
       "      <td>0</td>\n",
       "      <td>0</td>\n",
       "    </tr>\n",
       "    <tr>\n",
       "      <th>4</th>\n",
       "      <td>0</td>\n",
       "      <td>0</td>\n",
       "      <td>0</td>\n",
       "      <td>0</td>\n",
       "      <td>35</td>\n",
       "      <td>0</td>\n",
       "      <td>1</td>\n",
       "      <td>0</td>\n",
       "      <td>0</td>\n",
       "      <td>0</td>\n",
       "    </tr>\n",
       "    <tr>\n",
       "      <th>5</th>\n",
       "      <td>0</td>\n",
       "      <td>0</td>\n",
       "      <td>0</td>\n",
       "      <td>0</td>\n",
       "      <td>0</td>\n",
       "      <td>36</td>\n",
       "      <td>1</td>\n",
       "      <td>0</td>\n",
       "      <td>0</td>\n",
       "      <td>0</td>\n",
       "    </tr>\n",
       "    <tr>\n",
       "      <th>6</th>\n",
       "      <td>0</td>\n",
       "      <td>0</td>\n",
       "      <td>0</td>\n",
       "      <td>0</td>\n",
       "      <td>0</td>\n",
       "      <td>0</td>\n",
       "      <td>35</td>\n",
       "      <td>0</td>\n",
       "      <td>1</td>\n",
       "      <td>0</td>\n",
       "    </tr>\n",
       "    <tr>\n",
       "      <th>7</th>\n",
       "      <td>0</td>\n",
       "      <td>0</td>\n",
       "      <td>0</td>\n",
       "      <td>0</td>\n",
       "      <td>0</td>\n",
       "      <td>0</td>\n",
       "      <td>0</td>\n",
       "      <td>36</td>\n",
       "      <td>0</td>\n",
       "      <td>0</td>\n",
       "    </tr>\n",
       "    <tr>\n",
       "      <th>8</th>\n",
       "      <td>0</td>\n",
       "      <td>2</td>\n",
       "      <td>0</td>\n",
       "      <td>0</td>\n",
       "      <td>0</td>\n",
       "      <td>0</td>\n",
       "      <td>1</td>\n",
       "      <td>1</td>\n",
       "      <td>31</td>\n",
       "      <td>0</td>\n",
       "    </tr>\n",
       "    <tr>\n",
       "      <th>9</th>\n",
       "      <td>0</td>\n",
       "      <td>0</td>\n",
       "      <td>0</td>\n",
       "      <td>0</td>\n",
       "      <td>0</td>\n",
       "      <td>0</td>\n",
       "      <td>0</td>\n",
       "      <td>3</td>\n",
       "      <td>1</td>\n",
       "      <td>32</td>\n",
       "    </tr>\n",
       "  </tbody>\n",
       "</table>\n",
       "</div>"
      ],
      "text/plain": [
       "    0   1   2   3   4   5   6   7   8   9\n",
       "0  35   0   0   0   0   0   1   0   0   0\n",
       "1   0  29   0   1   0   0   3   0   3   0\n",
       "2   0   0  35   0   0   0   0   0   0   0\n",
       "3   0   0   0  37   0   0   0   0   0   0\n",
       "4   0   0   0   0  35   0   1   0   0   0\n",
       "5   0   0   0   0   0  36   1   0   0   0\n",
       "6   0   0   0   0   0   0  35   0   1   0\n",
       "7   0   0   0   0   0   0   0  36   0   0\n",
       "8   0   2   0   0   0   0   1   1  31   0\n",
       "9   0   0   0   0   0   0   0   3   1  32"
      ]
     },
     "execution_count": 56,
     "metadata": {},
     "output_type": "execute_result"
    }
   ],
   "source": [
    "# Perceptron\n",
    "conf = confusion_matrix(y_test, sgd_pred)\n",
    "df = pd.DataFrame(data=conf, index=pd.RangeIndex(start=0,stop=10),\n",
    "                  columns=np.arange(start=0, stop=10))\n",
    "df"
   ]
  },
  {
   "cell_type": "code",
   "execution_count": 57,
   "id": "8f44a66e",
   "metadata": {},
   "outputs": [
    {
     "data": {
      "image/png": "[encoded data removed]",
      "text/plain": [
       "<Figure size 432x288 with 1 Axes>"
      ]
     },
     "metadata": {
      "needs_background": "light"
     },
     "output_type": "display_data"
    }
   ],
   "source": [
    "row_sums = conf.sum(axis=1, keepdims=True)\n",
    "norm_conf_mx = conf / row_sums\n",
    "np.fill_diagonal(norm_conf_mx, 0)\n",
    "plt.imshow(norm_conf_mx, cmap = \"jet\")\n",
    "plt.show()"
   ]
  },
  {
   "cell_type": "markdown",
   "id": "3e23b7ec",
   "metadata": {},
   "source": [
    "**Conclusions**<br>\n",
    "The best algorithm for both binary and multiclass classification is logistic regression. The largest source of error of the logistic regression algorithm is the 8 predicted as 2 and vice versa. The Perceptron has more pathes where the alorithm makes mistakes."
   ]
  },
  {
   "cell_type": "code",
   "execution_count": null,
   "id": "7fa66aac",
   "metadata": {},
   "outputs": [],
   "source": []
  }
 ],
 "metadata": {
  "kernelspec": {
   "display_name": "Python 3",
   "language": "python",
   "name": "python3"
  },
  "language_info": {
   "codemirror_mode": {
    "name": "ipython",
    "version": 3
   },
   "file_extension": ".py",
   "mimetype": "text/x-python",
   "name": "python",
   "nbconvert_exporter": "python",
   "pygments_lexer": "ipython3",
   "version": "3.8.10"
  }
 },
 "nbformat": 4,
 "nbformat_minor": 5
}
