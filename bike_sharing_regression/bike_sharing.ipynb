{
 "cells": [
  {
   "cell_type": "markdown",
   "id": "42b622f6",
   "metadata": {},
   "source": [
    "<strong>Description of project</strong>  <br>\n",
    "Use the bike sharing dataset (`./bike_sharing/bike_hour.csv`, check `./bike_sharing/Readme.txt` for the description), apply the ML steps and gain insights from the data. What data transformations should be applied? Which attributes are most predictive? What additional attributes can be introduced? Which regression model performs best?"
   ]
  },
  {
   "cell_type": "markdown",
   "id": "b5f7fd31",
   "metadata": {},
   "source": [
    "# Step 1: Import & inspect"
   ]
  },
  {
   "cell_type": "code",
   "execution_count": 2,
   "id": "72d05a08",
   "metadata": {},
   "outputs": [],
   "source": [
    "import numpy as np\n",
    "import pandas as pd\n",
    "import matplotlib.pyplot as plt\n",
    "from pandas.plotting import scatter_matrix "
   ]
  },
  {
   "cell_type": "code",
   "execution_count": 3,
   "id": "90e8f6b7",
   "metadata": {},
   "outputs": [],
   "source": [
    "bike = pd.read_csv('./bike_sharing/bike_hour.csv')"
   ]
  },
  {
   "cell_type": "code",
   "execution_count": 4,
   "id": "e06830ff",
   "metadata": {
    "scrolled": false
   },
   "outputs": [
    {
     "data": {
      "text/html": [
       "<div>\n",
       "<style scoped>\n",
       "    .dataframe tbody tr th:only-of-type {\n",
       "        vertical-align: middle;\n",
       "    }\n",
       "\n",
       "    .dataframe tbody tr th {\n",
       "        vertical-align: top;\n",
       "    }\n",
       "\n",
       "    .dataframe thead th {\n",
       "        text-align: right;\n",
       "    }\n",
       "</style>\n",
       "<table border=\"1\" class=\"dataframe\">\n",
       "  <thead>\n",
       "    <tr style=\"text-align: right;\">\n",
       "      <th></th>\n",
       "      <th>instant</th>\n",
       "      <th>dteday</th>\n",
       "      <th>season</th>\n",
       "      <th>yr</th>\n",
       "      <th>mnth</th>\n",
       "      <th>hr</th>\n",
       "      <th>holiday</th>\n",
       "      <th>weekday</th>\n",
       "      <th>workingday</th>\n",
       "      <th>weathersit</th>\n",
       "      <th>temp</th>\n",
       "      <th>atemp</th>\n",
       "      <th>hum</th>\n",
       "      <th>windspeed</th>\n",
       "      <th>casual</th>\n",
       "      <th>registered</th>\n",
       "      <th>cnt</th>\n",
       "    </tr>\n",
       "  </thead>\n",
       "  <tbody>\n",
       "    <tr>\n",
       "      <th>0</th>\n",
       "      <td>1</td>\n",
       "      <td>01/01/11</td>\n",
       "      <td>spring</td>\n",
       "      <td>0</td>\n",
       "      <td>1</td>\n",
       "      <td>0</td>\n",
       "      <td>0</td>\n",
       "      <td>6</td>\n",
       "      <td>0</td>\n",
       "      <td>1</td>\n",
       "      <td>0.24</td>\n",
       "      <td>0.2879</td>\n",
       "      <td>0.81</td>\n",
       "      <td>0.0</td>\n",
       "      <td>3</td>\n",
       "      <td>13</td>\n",
       "      <td>16</td>\n",
       "    </tr>\n",
       "    <tr>\n",
       "      <th>1</th>\n",
       "      <td>2</td>\n",
       "      <td>01/01/11</td>\n",
       "      <td>spring</td>\n",
       "      <td>0</td>\n",
       "      <td>1</td>\n",
       "      <td>1</td>\n",
       "      <td>0</td>\n",
       "      <td>6</td>\n",
       "      <td>0</td>\n",
       "      <td>1</td>\n",
       "      <td>0.22</td>\n",
       "      <td>0.2727</td>\n",
       "      <td>0.80</td>\n",
       "      <td>0.0</td>\n",
       "      <td>8</td>\n",
       "      <td>32</td>\n",
       "      <td>40</td>\n",
       "    </tr>\n",
       "    <tr>\n",
       "      <th>2</th>\n",
       "      <td>3</td>\n",
       "      <td>01/01/11</td>\n",
       "      <td>spring</td>\n",
       "      <td>0</td>\n",
       "      <td>1</td>\n",
       "      <td>2</td>\n",
       "      <td>0</td>\n",
       "      <td>6</td>\n",
       "      <td>0</td>\n",
       "      <td>1</td>\n",
       "      <td>0.22</td>\n",
       "      <td>0.2727</td>\n",
       "      <td>0.80</td>\n",
       "      <td>0.0</td>\n",
       "      <td>5</td>\n",
       "      <td>27</td>\n",
       "      <td>32</td>\n",
       "    </tr>\n",
       "    <tr>\n",
       "      <th>3</th>\n",
       "      <td>4</td>\n",
       "      <td>01/01/11</td>\n",
       "      <td>spring</td>\n",
       "      <td>0</td>\n",
       "      <td>1</td>\n",
       "      <td>3</td>\n",
       "      <td>0</td>\n",
       "      <td>6</td>\n",
       "      <td>0</td>\n",
       "      <td>1</td>\n",
       "      <td>0.24</td>\n",
       "      <td>0.2879</td>\n",
       "      <td>0.75</td>\n",
       "      <td>0.0</td>\n",
       "      <td>3</td>\n",
       "      <td>10</td>\n",
       "      <td>13</td>\n",
       "    </tr>\n",
       "    <tr>\n",
       "      <th>4</th>\n",
       "      <td>5</td>\n",
       "      <td>01/01/11</td>\n",
       "      <td>spring</td>\n",
       "      <td>0</td>\n",
       "      <td>1</td>\n",
       "      <td>4</td>\n",
       "      <td>0</td>\n",
       "      <td>6</td>\n",
       "      <td>0</td>\n",
       "      <td>1</td>\n",
       "      <td>0.24</td>\n",
       "      <td>0.2879</td>\n",
       "      <td>0.75</td>\n",
       "      <td>0.0</td>\n",
       "      <td>0</td>\n",
       "      <td>1</td>\n",
       "      <td>1</td>\n",
       "    </tr>\n",
       "  </tbody>\n",
       "</table>\n",
       "</div>"
      ],
      "text/plain": [
       "   instant    dteday  season  yr  mnth  hr  holiday  weekday  workingday  \\\n",
       "0        1  01/01/11  spring   0     1   0        0        6           0   \n",
       "1        2  01/01/11  spring   0     1   1        0        6           0   \n",
       "2        3  01/01/11  spring   0     1   2        0        6           0   \n",
       "3        4  01/01/11  spring   0     1   3        0        6           0   \n",
       "4        5  01/01/11  spring   0     1   4        0        6           0   \n",
       "\n",
       "   weathersit  temp   atemp   hum  windspeed  casual  registered  cnt  \n",
       "0           1  0.24  0.2879  0.81        0.0       3          13   16  \n",
       "1           1  0.22  0.2727  0.80        0.0       8          32   40  \n",
       "2           1  0.22  0.2727  0.80        0.0       5          27   32  \n",
       "3           1  0.24  0.2879  0.75        0.0       3          10   13  \n",
       "4           1  0.24  0.2879  0.75        0.0       0           1    1  "
      ]
     },
     "execution_count": 4,
     "metadata": {},
     "output_type": "execute_result"
    }
   ],
   "source": [
    "bike.head()"
   ]
  },
  {
   "cell_type": "code",
   "execution_count": 5,
   "id": "0dd7a9fb",
   "metadata": {},
   "outputs": [
    {
     "name": "stdout",
     "output_type": "stream",
     "text": [
      "<class 'pandas.core.frame.DataFrame'>\n",
      "RangeIndex: 17379 entries, 0 to 17378\n",
      "Data columns (total 17 columns):\n",
      " #   Column      Non-Null Count  Dtype  \n",
      "---  ------      --------------  -----  \n",
      " 0   instant     17379 non-null  int64  \n",
      " 1   dteday      17379 non-null  object \n",
      " 2   season      17379 non-null  object \n",
      " 3   yr          17379 non-null  int64  \n",
      " 4   mnth        17379 non-null  int64  \n",
      " 5   hr          17379 non-null  int64  \n",
      " 6   holiday     17379 non-null  int64  \n",
      " 7   weekday     17379 non-null  int64  \n",
      " 8   workingday  17379 non-null  int64  \n",
      " 9   weathersit  17379 non-null  int64  \n",
      " 10  temp        17379 non-null  float64\n",
      " 11  atemp       17379 non-null  float64\n",
      " 12  hum         17379 non-null  float64\n",
      " 13  windspeed   17379 non-null  float64\n",
      " 14  casual      17379 non-null  int64  \n",
      " 15  registered  17379 non-null  int64  \n",
      " 16  cnt         17379 non-null  int64  \n",
      "dtypes: float64(4), int64(11), object(2)\n",
      "memory usage: 2.3+ MB\n"
     ]
    }
   ],
   "source": [
    "bike.info()"
   ]
  },
  {
   "cell_type": "markdown",
   "id": "76b9da06",
   "metadata": {},
   "source": [
    "##### There are no missing values"
   ]
  },
  {
   "cell_type": "code",
   "execution_count": 6,
   "id": "26cc14a6",
   "metadata": {},
   "outputs": [
    {
     "data": {
      "image/png": "[encoded data removed]",
      "text/plain": [
       "<Figure size 1440x1080 with 16 Axes>"
      ]
     },
     "metadata": {
      "needs_background": "light"
     },
     "output_type": "display_data"
    }
   ],
   "source": [
    "bike.iloc[:,3:].hist(figsize=(20,15), bins=50)\n",
    "plt.show()"
   ]
  },
  {
   "cell_type": "code",
   "execution_count": 7,
   "id": "f17a599e",
   "metadata": {},
   "outputs": [
    {
     "data": {
      "image/png": "[encoded data removed]",
      "text/plain": [
       "<Figure size 432x288 with 1 Axes>"
      ]
     },
     "metadata": {
      "needs_background": "light"
     },
     "output_type": "display_data"
    }
   ],
   "source": [
    "plt.bar(bike.season.unique(), bike.season.value_counts())\n",
    "plt.show()"
   ]
  },
  {
   "cell_type": "markdown",
   "id": "20a4d151",
   "metadata": {},
   "source": [
    "So we have a roughly equal amount of seasonal observations: stratification on the seasons is not necessary.<br>\n",
    "The same goes for the month feature."
   ]
  },
  {
   "cell_type": "markdown",
   "id": "e5e9fa45",
   "metadata": {},
   "source": [
    "The registered vs casual users are not predictor variables. We could further apply a binary classification model to predict whether a user is causual or registered. We'll leave this more complicated task for later."
   ]
  },
  {
   "cell_type": "markdown",
   "id": "24f8899f",
   "metadata": {},
   "source": [
    "# Step 2: Splitting into training and test sets"
   ]
  },
  {
   "cell_type": "markdown",
   "id": "70110abc",
   "metadata": {},
   "source": [
    "Our prior belief is that climate conditions (and hence also seasonality) will affect the user count. We observe that the some climate condition observations are highly uneven in frequency, and therefore will introduce a strong bias if care is not take to stratify the test and train sets. The `weekend` and `holiday` columns can be merged together by binning the *weekend* column into binary weekend and non-weekend features. We could call the column `weekend` with values 0 for a day from Mon to Fri and 1 for either Sat or Sun.  This is already captured by the `workingday`. In doing this, we advance the belief that the the sole predictor category of the label is whether people are at work or at home (if it's Sunday but not a holiday people will be at home from work - we assume that Saturday is also a home day; this is reasonable in the US, where the data was sampled). This might not be true (during an extended holiday some people might leave the city, leaving a reduced number of potential bike sharing customers). We shall not pursue this investigation here in favour of keeping the analysis simple enough to make it a machine learning exercise. We leave the option open of refining the analysis in this direction in the future. We will, however, give a mathematical preview of how to optimally tacke the problem.<br>\n",
    "<br>\n",
    "We could use both `weekend` and `holiday` features and in addition to the `workingday` column with 1 for people at home (weekend == 1 or holiday==1) and 0 for people at work (workday == 0 and holiday == 0). The problem here is that keeping all three columns will introduce confounded features, i.e. the three feature vectors will be linearly dependent (this will not really be a problem as far as fitting and predicting with linear regression is concerned, but it might cause problems in the interpretation of the coefficients found by the optimization algorithm). This happens becuse the two features already span a 2 dimesional vector space. Here is a proof:<br>\n",
    "A holiday can be either a workday (mwaning here opposite of weekend day) or not, and similarly for a non holiday.\n",
    "Write basis vectors for workdays as $w_1 \\rightarrow \\text{ workday}$ and $w_2 \\rightarrow \\text{ weekend}$. Write $ h_1 \\rightarrow \\text{ not a holiday}$ and $ h_2 \\rightarrow \\text{ holiday}$. Then\n",
    "\n",
    "\\begin{align*}\n",
    "h_1 = \\alpha w_1 + \\beta w_2 \\qquad h_2 = \\gamma w_1 + \\delta w_2 \\, .\n",
    "\\end{align*}\n",
    "where  $\\alpha = 0 \\iff \\beta = 1$ and similarly for $\\gamma$ and $\\delta$. A certain sample vector will be for instance, \n",
    "$$ v = w_1 + h_1 = (1+\\alpha)w_1 + \\beta w_2 \\, .$$\n",
    "In this case, $\\beta = 0$, but that's beside the point here; the point is that every such vector is manifestly nonzero, thus provimg linear independence of the two features (workingday and holiday). Note that a more elegant description would be to take two Bernouilli random variables $X \\in \\{1,0\\}$ and $Y \\in \\{0, 1\\}$ for workingday and holiday respectively and write\n",
    "\\begin{align*}\n",
    "h_1 = \\mathbb{P}(X=0|Y=0) w_1 + \\mathbb{P}(X=1|Y=0) w_2 \\\\\n",
    "h_2 = \\mathbb{P}(X=0|Y=1) w_1 + \\mathbb{P}(X=1|Y=1) w_2 \\, .\n",
    "\\end{align*}\n",
    "<br><br>\n",
    "Our discussion here shows incidentally that the sum of these two features (which correspond to what we called $v$ for a certain sample above) which will give us the column expressing whether or not people are at home that day is well defined (if it were the sum of a linearly dependent set of vectors, it would carry no intrinsic meaning as the features in the sum would not be independent of each other)."
   ]
  },
  {
   "cell_type": "code",
   "execution_count": 8,
   "id": "6ed389b3",
   "metadata": {},
   "outputs": [
    {
     "data": {
      "text/plain": [
       "1    11413\n",
       "2     4544\n",
       "3     1419\n",
       "4        3\n",
       "Name: weathersit, dtype: int64"
      ]
     },
     "execution_count": 8,
     "metadata": {},
     "output_type": "execute_result"
    }
   ],
   "source": [
    "bike.weathersit.value_counts()"
   ]
  },
  {
   "cell_type": "markdown",
   "id": "705ca130",
   "metadata": {},
   "source": [
    "Let's make a copy for further exploration"
   ]
  },
  {
   "cell_type": "markdown",
   "id": "905f79d1",
   "metadata": {},
   "source": [
    "Here is what it makes sense to stratify on (in order of increasing importance - higher importance means a larger difference among the observation categories or ranges):\n",
    "- weathersit\n",
    "- workingday \n",
    "\n",
    "As a further exploration it maight further make sense to create bins for windspeed, temp, and atemp."
   ]
  },
  {
   "cell_type": "code",
   "execution_count": 9,
   "id": "76693478",
   "metadata": {},
   "outputs": [
    {
     "data": {
      "text/html": [
       "<div>\n",
       "<style scoped>\n",
       "    .dataframe tbody tr th:only-of-type {\n",
       "        vertical-align: middle;\n",
       "    }\n",
       "\n",
       "    .dataframe tbody tr th {\n",
       "        vertical-align: top;\n",
       "    }\n",
       "\n",
       "    .dataframe thead th {\n",
       "        text-align: right;\n",
       "    }\n",
       "</style>\n",
       "<table border=\"1\" class=\"dataframe\">\n",
       "  <thead>\n",
       "    <tr style=\"text-align: right;\">\n",
       "      <th></th>\n",
       "      <th>mnth</th>\n",
       "      <th>hr</th>\n",
       "      <th>holiday</th>\n",
       "      <th>weekday</th>\n",
       "      <th>workingday</th>\n",
       "      <th>weathersit</th>\n",
       "      <th>temp</th>\n",
       "      <th>atemp</th>\n",
       "      <th>hum</th>\n",
       "      <th>windspeed</th>\n",
       "      <th>casual</th>\n",
       "      <th>registered</th>\n",
       "      <th>cnt</th>\n",
       "    </tr>\n",
       "  </thead>\n",
       "  <tbody>\n",
       "    <tr>\n",
       "      <th>mnth</th>\n",
       "      <td>1.000000</td>\n",
       "      <td>-0.005772</td>\n",
       "      <td>0.018430</td>\n",
       "      <td>0.010400</td>\n",
       "      <td>-0.003477</td>\n",
       "      <td>0.005400</td>\n",
       "      <td>0.201691</td>\n",
       "      <td>0.208096</td>\n",
       "      <td>0.164411</td>\n",
       "      <td>-0.135386</td>\n",
       "      <td>0.068457</td>\n",
       "      <td>0.122273</td>\n",
       "      <td>0.120638</td>\n",
       "    </tr>\n",
       "    <tr>\n",
       "      <th>hr</th>\n",
       "      <td>-0.005772</td>\n",
       "      <td>1.000000</td>\n",
       "      <td>0.000479</td>\n",
       "      <td>-0.003498</td>\n",
       "      <td>0.002285</td>\n",
       "      <td>-0.020203</td>\n",
       "      <td>0.137603</td>\n",
       "      <td>0.133750</td>\n",
       "      <td>-0.276498</td>\n",
       "      <td>0.137252</td>\n",
       "      <td>0.301202</td>\n",
       "      <td>0.374141</td>\n",
       "      <td>0.394071</td>\n",
       "    </tr>\n",
       "    <tr>\n",
       "      <th>holiday</th>\n",
       "      <td>0.018430</td>\n",
       "      <td>0.000479</td>\n",
       "      <td>1.000000</td>\n",
       "      <td>-0.102088</td>\n",
       "      <td>-0.252471</td>\n",
       "      <td>-0.017036</td>\n",
       "      <td>-0.027340</td>\n",
       "      <td>-0.030973</td>\n",
       "      <td>-0.010588</td>\n",
       "      <td>0.003988</td>\n",
       "      <td>0.031564</td>\n",
       "      <td>-0.047345</td>\n",
       "      <td>-0.030927</td>\n",
       "    </tr>\n",
       "    <tr>\n",
       "      <th>weekday</th>\n",
       "      <td>0.010400</td>\n",
       "      <td>-0.003498</td>\n",
       "      <td>-0.102088</td>\n",
       "      <td>1.000000</td>\n",
       "      <td>0.035955</td>\n",
       "      <td>0.003311</td>\n",
       "      <td>-0.001795</td>\n",
       "      <td>-0.008821</td>\n",
       "      <td>-0.037158</td>\n",
       "      <td>0.011502</td>\n",
       "      <td>0.032721</td>\n",
       "      <td>0.021578</td>\n",
       "      <td>0.026900</td>\n",
       "    </tr>\n",
       "    <tr>\n",
       "      <th>workingday</th>\n",
       "      <td>-0.003477</td>\n",
       "      <td>0.002285</td>\n",
       "      <td>-0.252471</td>\n",
       "      <td>0.035955</td>\n",
       "      <td>1.000000</td>\n",
       "      <td>0.044672</td>\n",
       "      <td>0.055390</td>\n",
       "      <td>0.054667</td>\n",
       "      <td>0.015688</td>\n",
       "      <td>-0.011830</td>\n",
       "      <td>-0.300942</td>\n",
       "      <td>0.134326</td>\n",
       "      <td>0.030284</td>\n",
       "    </tr>\n",
       "    <tr>\n",
       "      <th>weathersit</th>\n",
       "      <td>0.005400</td>\n",
       "      <td>-0.020203</td>\n",
       "      <td>-0.017036</td>\n",
       "      <td>0.003311</td>\n",
       "      <td>0.044672</td>\n",
       "      <td>1.000000</td>\n",
       "      <td>-0.102640</td>\n",
       "      <td>-0.105563</td>\n",
       "      <td>0.418130</td>\n",
       "      <td>0.026226</td>\n",
       "      <td>-0.152628</td>\n",
       "      <td>-0.120966</td>\n",
       "      <td>-0.142426</td>\n",
       "    </tr>\n",
       "    <tr>\n",
       "      <th>temp</th>\n",
       "      <td>0.201691</td>\n",
       "      <td>0.137603</td>\n",
       "      <td>-0.027340</td>\n",
       "      <td>-0.001795</td>\n",
       "      <td>0.055390</td>\n",
       "      <td>-0.102640</td>\n",
       "      <td>1.000000</td>\n",
       "      <td>0.987672</td>\n",
       "      <td>-0.069881</td>\n",
       "      <td>-0.023125</td>\n",
       "      <td>0.459616</td>\n",
       "      <td>0.335361</td>\n",
       "      <td>0.404772</td>\n",
       "    </tr>\n",
       "    <tr>\n",
       "      <th>atemp</th>\n",
       "      <td>0.208096</td>\n",
       "      <td>0.133750</td>\n",
       "      <td>-0.030973</td>\n",
       "      <td>-0.008821</td>\n",
       "      <td>0.054667</td>\n",
       "      <td>-0.105563</td>\n",
       "      <td>0.987672</td>\n",
       "      <td>1.000000</td>\n",
       "      <td>-0.051918</td>\n",
       "      <td>-0.062336</td>\n",
       "      <td>0.454080</td>\n",
       "      <td>0.332559</td>\n",
       "      <td>0.400929</td>\n",
       "    </tr>\n",
       "    <tr>\n",
       "      <th>hum</th>\n",
       "      <td>0.164411</td>\n",
       "      <td>-0.276498</td>\n",
       "      <td>-0.010588</td>\n",
       "      <td>-0.037158</td>\n",
       "      <td>0.015688</td>\n",
       "      <td>0.418130</td>\n",
       "      <td>-0.069881</td>\n",
       "      <td>-0.051918</td>\n",
       "      <td>1.000000</td>\n",
       "      <td>-0.290105</td>\n",
       "      <td>-0.347028</td>\n",
       "      <td>-0.273933</td>\n",
       "      <td>-0.322911</td>\n",
       "    </tr>\n",
       "    <tr>\n",
       "      <th>windspeed</th>\n",
       "      <td>-0.135386</td>\n",
       "      <td>0.137252</td>\n",
       "      <td>0.003988</td>\n",
       "      <td>0.011502</td>\n",
       "      <td>-0.011830</td>\n",
       "      <td>0.026226</td>\n",
       "      <td>-0.023125</td>\n",
       "      <td>-0.062336</td>\n",
       "      <td>-0.290105</td>\n",
       "      <td>1.000000</td>\n",
       "      <td>0.090287</td>\n",
       "      <td>0.082321</td>\n",
       "      <td>0.093234</td>\n",
       "    </tr>\n",
       "    <tr>\n",
       "      <th>casual</th>\n",
       "      <td>0.068457</td>\n",
       "      <td>0.301202</td>\n",
       "      <td>0.031564</td>\n",
       "      <td>0.032721</td>\n",
       "      <td>-0.300942</td>\n",
       "      <td>-0.152628</td>\n",
       "      <td>0.459616</td>\n",
       "      <td>0.454080</td>\n",
       "      <td>-0.347028</td>\n",
       "      <td>0.090287</td>\n",
       "      <td>1.000000</td>\n",
       "      <td>0.506618</td>\n",
       "      <td>0.694564</td>\n",
       "    </tr>\n",
       "    <tr>\n",
       "      <th>registered</th>\n",
       "      <td>0.122273</td>\n",
       "      <td>0.374141</td>\n",
       "      <td>-0.047345</td>\n",
       "      <td>0.021578</td>\n",
       "      <td>0.134326</td>\n",
       "      <td>-0.120966</td>\n",
       "      <td>0.335361</td>\n",
       "      <td>0.332559</td>\n",
       "      <td>-0.273933</td>\n",
       "      <td>0.082321</td>\n",
       "      <td>0.506618</td>\n",
       "      <td>1.000000</td>\n",
       "      <td>0.972151</td>\n",
       "    </tr>\n",
       "    <tr>\n",
       "      <th>cnt</th>\n",
       "      <td>0.120638</td>\n",
       "      <td>0.394071</td>\n",
       "      <td>-0.030927</td>\n",
       "      <td>0.026900</td>\n",
       "      <td>0.030284</td>\n",
       "      <td>-0.142426</td>\n",
       "      <td>0.404772</td>\n",
       "      <td>0.400929</td>\n",
       "      <td>-0.322911</td>\n",
       "      <td>0.093234</td>\n",
       "      <td>0.694564</td>\n",
       "      <td>0.972151</td>\n",
       "      <td>1.000000</td>\n",
       "    </tr>\n",
       "  </tbody>\n",
       "</table>\n",
       "</div>"
      ],
      "text/plain": [
       "                mnth        hr   holiday   weekday  workingday  weathersit  \\\n",
       "mnth        1.000000 -0.005772  0.018430  0.010400   -0.003477    0.005400   \n",
       "hr         -0.005772  1.000000  0.000479 -0.003498    0.002285   -0.020203   \n",
       "holiday     0.018430  0.000479  1.000000 -0.102088   -0.252471   -0.017036   \n",
       "weekday     0.010400 -0.003498 -0.102088  1.000000    0.035955    0.003311   \n",
       "workingday -0.003477  0.002285 -0.252471  0.035955    1.000000    0.044672   \n",
       "weathersit  0.005400 -0.020203 -0.017036  0.003311    0.044672    1.000000   \n",
       "temp        0.201691  0.137603 -0.027340 -0.001795    0.055390   -0.102640   \n",
       "atemp       0.208096  0.133750 -0.030973 -0.008821    0.054667   -0.105563   \n",
       "hum         0.164411 -0.276498 -0.010588 -0.037158    0.015688    0.418130   \n",
       "windspeed  -0.135386  0.137252  0.003988  0.011502   -0.011830    0.026226   \n",
       "casual      0.068457  0.301202  0.031564  0.032721   -0.300942   -0.152628   \n",
       "registered  0.122273  0.374141 -0.047345  0.021578    0.134326   -0.120966   \n",
       "cnt         0.120638  0.394071 -0.030927  0.026900    0.030284   -0.142426   \n",
       "\n",
       "                temp     atemp       hum  windspeed    casual  registered  \\\n",
       "mnth        0.201691  0.208096  0.164411  -0.135386  0.068457    0.122273   \n",
       "hr          0.137603  0.133750 -0.276498   0.137252  0.301202    0.374141   \n",
       "holiday    -0.027340 -0.030973 -0.010588   0.003988  0.031564   -0.047345   \n",
       "weekday    -0.001795 -0.008821 -0.037158   0.011502  0.032721    0.021578   \n",
       "workingday  0.055390  0.054667  0.015688  -0.011830 -0.300942    0.134326   \n",
       "weathersit -0.102640 -0.105563  0.418130   0.026226 -0.152628   -0.120966   \n",
       "temp        1.000000  0.987672 -0.069881  -0.023125  0.459616    0.335361   \n",
       "atemp       0.987672  1.000000 -0.051918  -0.062336  0.454080    0.332559   \n",
       "hum        -0.069881 -0.051918  1.000000  -0.290105 -0.347028   -0.273933   \n",
       "windspeed  -0.023125 -0.062336 -0.290105   1.000000  0.090287    0.082321   \n",
       "casual      0.459616  0.454080 -0.347028   0.090287  1.000000    0.506618   \n",
       "registered  0.335361  0.332559 -0.273933   0.082321  0.506618    1.000000   \n",
       "cnt         0.404772  0.400929 -0.322911   0.093234  0.694564    0.972151   \n",
       "\n",
       "                 cnt  \n",
       "mnth        0.120638  \n",
       "hr          0.394071  \n",
       "holiday    -0.030927  \n",
       "weekday     0.026900  \n",
       "workingday  0.030284  \n",
       "weathersit -0.142426  \n",
       "temp        0.404772  \n",
       "atemp       0.400929  \n",
       "hum        -0.322911  \n",
       "windspeed   0.093234  \n",
       "casual      0.694564  \n",
       "registered  0.972151  \n",
       "cnt         1.000000  "
      ]
     },
     "execution_count": 9,
     "metadata": {},
     "output_type": "execute_result"
    }
   ],
   "source": [
    "bike.iloc[:, 4:].corr()"
   ]
  },
  {
   "cell_type": "markdown",
   "id": "4fe5ed78",
   "metadata": {},
   "source": [
    "Note the strong correlation between temp and atemp. This might imply a relation of stron dependence of these two features might be convenient where one is to fit a linear regression model to the data. This is because linear regression assumes little or no collinearity among features [1]. We shall hereby make this choice."
   ]
  },
  {
   "cell_type": "code",
   "execution_count": 10,
   "id": "6fe3ec17",
   "metadata": {},
   "outputs": [
    {
     "data": {
      "text/plain": [
       "hum          -0.322911\n",
       "weathersit   -0.142426\n",
       "holiday      -0.030927\n",
       "weekday       0.026900\n",
       "workingday    0.030284\n",
       "windspeed     0.093234\n",
       "mnth          0.120638\n",
       "hr            0.394071\n",
       "atemp         0.400929\n",
       "temp          0.404772\n",
       "casual        0.694564\n",
       "registered    0.972151\n",
       "cnt           1.000000\n",
       "Name: cnt, dtype: float64"
      ]
     },
     "execution_count": 10,
     "metadata": {},
     "output_type": "execute_result"
    }
   ],
   "source": [
    "bike.iloc[:, 4:].corr().cnt.sort_values()"
   ]
  },
  {
   "cell_type": "markdown",
   "id": "3223af57",
   "metadata": {},
   "source": [
    "Note the almost perfectly equal correltion with `temp` and `atemp` confirming their mutual dependence. The very high correlation with `registered` and `casual` is because their sum is perfecly predictive. We shall ignore these two column in our exploration, as anticipated above. If they are almost perfectly independent, then one of them is already predictive, and it doesn't therefore affect other learning algorithms."
   ]
  },
  {
   "cell_type": "markdown",
   "id": "00349fd6",
   "metadata": {},
   "source": [
    "We would now like to stratify on the combined classes of `weathersit` and `workingday`. The problem is that stratification does not work 'out of the box' in this particular case, since it turns out that we end up with a single instance belonging to the least populated class: for stratification we need at least two instances per classes. Let's look into this."
   ]
  },
  {
   "cell_type": "code",
   "execution_count": 11,
   "id": "4ff9eae8",
   "metadata": {},
   "outputs": [
    {
     "data": {
      "text/html": [
       "<div>\n",
       "<style scoped>\n",
       "    .dataframe tbody tr th:only-of-type {\n",
       "        vertical-align: middle;\n",
       "    }\n",
       "\n",
       "    .dataframe tbody tr th {\n",
       "        vertical-align: top;\n",
       "    }\n",
       "\n",
       "    .dataframe thead th {\n",
       "        text-align: right;\n",
       "    }\n",
       "</style>\n",
       "<table border=\"1\" class=\"dataframe\">\n",
       "  <thead>\n",
       "    <tr style=\"text-align: right;\">\n",
       "      <th></th>\n",
       "      <th>a</th>\n",
       "    </tr>\n",
       "  </thead>\n",
       "  <tbody>\n",
       "    <tr>\n",
       "      <th>0</th>\n",
       "      <td>(1, 0)</td>\n",
       "    </tr>\n",
       "    <tr>\n",
       "      <th>1</th>\n",
       "      <td>(1, 0)</td>\n",
       "    </tr>\n",
       "    <tr>\n",
       "      <th>2</th>\n",
       "      <td>(1, 0)</td>\n",
       "    </tr>\n",
       "    <tr>\n",
       "      <th>3</th>\n",
       "      <td>(1, 0)</td>\n",
       "    </tr>\n",
       "    <tr>\n",
       "      <th>4</th>\n",
       "      <td>(1, 0)</td>\n",
       "    </tr>\n",
       "    <tr>\n",
       "      <th>...</th>\n",
       "      <td>...</td>\n",
       "    </tr>\n",
       "    <tr>\n",
       "      <th>17374</th>\n",
       "      <td>(2, 1)</td>\n",
       "    </tr>\n",
       "    <tr>\n",
       "      <th>17375</th>\n",
       "      <td>(2, 1)</td>\n",
       "    </tr>\n",
       "    <tr>\n",
       "      <th>17376</th>\n",
       "      <td>(1, 1)</td>\n",
       "    </tr>\n",
       "    <tr>\n",
       "      <th>17377</th>\n",
       "      <td>(1, 1)</td>\n",
       "    </tr>\n",
       "    <tr>\n",
       "      <th>17378</th>\n",
       "      <td>(1, 1)</td>\n",
       "    </tr>\n",
       "  </tbody>\n",
       "</table>\n",
       "<p>17379 rows × 1 columns</p>\n",
       "</div>"
      ],
      "text/plain": [
       "            a\n",
       "0      (1, 0)\n",
       "1      (1, 0)\n",
       "2      (1, 0)\n",
       "3      (1, 0)\n",
       "4      (1, 0)\n",
       "...       ...\n",
       "17374  (2, 1)\n",
       "17375  (2, 1)\n",
       "17376  (1, 1)\n",
       "17377  (1, 1)\n",
       "17378  (1, 1)\n",
       "\n",
       "[17379 rows x 1 columns]"
      ]
     },
     "execution_count": 11,
     "metadata": {},
     "output_type": "execute_result"
    }
   ],
   "source": [
    "#classes = np.array([(x,y) for x, y in np.c_[bike.weathersit.values, bike.workingday.values]])\n",
    "\n",
    "df = pd.DataFrame(data=[str((x,y)) for x,y in zip(bike.weathersit, bike.workingday)],\n",
    "                  columns=['a'])\n",
    "df"
   ]
  },
  {
   "cell_type": "code",
   "execution_count": 12,
   "id": "8bbc6072",
   "metadata": {},
   "outputs": [
    {
     "data": {
      "text/plain": [
       "(1, 1)    7632\n",
       "(1, 0)    3781\n",
       "(2, 1)    3191\n",
       "(2, 0)    1353\n",
       "(3, 1)    1040\n",
       "(3, 0)     379\n",
       "(4, 1)       2\n",
       "(4, 0)       1\n",
       "Name: a, dtype: int64"
      ]
     },
     "execution_count": 12,
     "metadata": {},
     "output_type": "execute_result"
    }
   ],
   "source": [
    "df.a.value_counts()"
   ]
  },
  {
   "cell_type": "markdown",
   "id": "580f4ea8",
   "metadata": {},
   "source": [
    "We have a single instance for (4,0) \\[extreme weather event on a working day\\] and two observations in class (4,1) \\[extreme weather event on a holiday\\]. It would be sensible to bin these two classs together; holiday or not, one is rather unlikely to go for a bike ride during a thunderstorm. in other words, it's safe to assume that the fact that a certain day is a holiday or not is unlikely to influence one's decistion (not) to rent a bike during an extreme weather event. The problem comes down to how to practically label the classes. One option is to use string dtypes as above. Summing the integere entries of the tuples is not an option, since for instance $2+1 = 3+0 = 3$. Multiplication doesn't work either, because of the 0. Of course we could recast all numbers as primes so as to have different multiplication results for each class, and that's fine for this case, but we are interested in finding a method that scales and generalises to other problems. The string format seems to be the most convenient option.<br>\n",
    "Let's start by adding the DataFrame df above to our bike dataset."
   ]
  },
  {
   "cell_type": "code",
   "execution_count": 13,
   "id": "f3c9750e",
   "metadata": {},
   "outputs": [],
   "source": [
    "bike['classes'] = df.a"
   ]
  },
  {
   "cell_type": "code",
   "execution_count": 14,
   "id": "c6977858",
   "metadata": {},
   "outputs": [
    {
     "data": {
      "text/plain": [
       "True"
      ]
     },
     "execution_count": 14,
     "metadata": {},
     "output_type": "execute_result"
    }
   ],
   "source": [
    "# strings are tricky, so let's verify that the strings in the format we intend to reproduce them are indeed \n",
    "# in the column\n",
    "\n",
    "'(4, 0)' in bike.classes.values # and do the same for the other"
   ]
  },
  {
   "cell_type": "code",
   "execution_count": 15,
   "id": "6c306e9b",
   "metadata": {},
   "outputs": [],
   "source": [
    "update = bike.classes.replace(to_replace=['(4, 0)', '(4, 1)'], value='4')"
   ]
  },
  {
   "cell_type": "code",
   "execution_count": 16,
   "id": "b730993c",
   "metadata": {},
   "outputs": [
    {
     "data": {
      "text/plain": [
       "array(['(1, 0)', '(2, 0)', '(3, 0)', '(1, 1)', '(2, 1)', '(3, 1)', '4'],\n",
       "      dtype=object)"
      ]
     },
     "execution_count": 16,
     "metadata": {},
     "output_type": "execute_result"
    }
   ],
   "source": [
    "update.unique() # yep, we're good"
   ]
  },
  {
   "cell_type": "code",
   "execution_count": 17,
   "id": "05330381",
   "metadata": {},
   "outputs": [],
   "source": [
    "del update"
   ]
  },
  {
   "cell_type": "code",
   "execution_count": 18,
   "id": "af47ca02",
   "metadata": {},
   "outputs": [],
   "source": [
    "bike.classes.replace(to_replace=['(4, 0)', '(4, 1)'], value='4', inplace=True)"
   ]
  },
  {
   "cell_type": "markdown",
   "id": "1549c2bc",
   "metadata": {},
   "source": [
    "Now we can stratify to get train and test sets"
   ]
  },
  {
   "cell_type": "code",
   "execution_count": 19,
   "id": "38b1a55f",
   "metadata": {},
   "outputs": [],
   "source": [
    "from sklearn.model_selection import StratifiedShuffleSplit\n",
    "\n",
    "splitter = StratifiedShuffleSplit(n_splits=1, test_size=.2, random_state=42)\n",
    "# split method returns a generator, so either we call next on the return or we iterate through it\n",
    "for train_index, test_index in splitter.split(bike, bike.classes):\n",
    "    train_set, test_set = bike.loc[train_index], bike.loc[test_index]"
   ]
  },
  {
   "cell_type": "code",
   "execution_count": 20,
   "id": "93631b82",
   "metadata": {},
   "outputs": [
    {
     "name": "stdout",
     "output_type": "stream",
     "text": [
      "(13903, 18) (3476, 18)\n"
     ]
    }
   ],
   "source": [
    "print(train_set.shape, test_set.shape)"
   ]
  },
  {
   "cell_type": "code",
   "execution_count": 21,
   "id": "4ca299b9",
   "metadata": {
    "scrolled": true
   },
   "outputs": [],
   "source": [
    "def get_prop():\n",
    "    df = pd.DataFrame({\n",
    "        'original': bike.classes.value_counts()/len(bike),\n",
    "        'train': train_set.classes.value_counts()/len(train_set),\n",
    "        'test': test_set.classes.value_counts()/len(test_set),\n",
    "        'train % error': 100*(train_set.classes.value_counts()/len(train_set)-bike.classes.value_counts()/len(bike)),\n",
    "        'test % error': 100*(test_set.classes.value_counts()/len(test_set) - bike.classes.value_counts()/len(bike)),\n",
    "    })\n",
    "    \n",
    "    return df\n",
    "    "
   ]
  },
  {
   "cell_type": "code",
   "execution_count": 22,
   "id": "a0b6a8c3",
   "metadata": {},
   "outputs": [
    {
     "data": {
      "text/html": [
       "<div>\n",
       "<style scoped>\n",
       "    .dataframe tbody tr th:only-of-type {\n",
       "        vertical-align: middle;\n",
       "    }\n",
       "\n",
       "    .dataframe tbody tr th {\n",
       "        vertical-align: top;\n",
       "    }\n",
       "\n",
       "    .dataframe thead th {\n",
       "        text-align: right;\n",
       "    }\n",
       "</style>\n",
       "<table border=\"1\" class=\"dataframe\">\n",
       "  <thead>\n",
       "    <tr style=\"text-align: right;\">\n",
       "      <th></th>\n",
       "      <th>original</th>\n",
       "      <th>train</th>\n",
       "      <th>test</th>\n",
       "      <th>train % error</th>\n",
       "      <th>test % error</th>\n",
       "    </tr>\n",
       "  </thead>\n",
       "  <tbody>\n",
       "    <tr>\n",
       "      <th>(1, 1)</th>\n",
       "      <td>0.439151</td>\n",
       "      <td>0.439186</td>\n",
       "      <td>0.439010</td>\n",
       "      <td>0.003509</td>\n",
       "      <td>-0.014034</td>\n",
       "    </tr>\n",
       "    <tr>\n",
       "      <th>(1, 0)</th>\n",
       "      <td>0.217561</td>\n",
       "      <td>0.217579</td>\n",
       "      <td>0.217491</td>\n",
       "      <td>0.001752</td>\n",
       "      <td>-0.007006</td>\n",
       "    </tr>\n",
       "    <tr>\n",
       "      <th>(2, 1)</th>\n",
       "      <td>0.183612</td>\n",
       "      <td>0.183629</td>\n",
       "      <td>0.183544</td>\n",
       "      <td>0.001703</td>\n",
       "      <td>-0.006810</td>\n",
       "    </tr>\n",
       "    <tr>\n",
       "      <th>(2, 0)</th>\n",
       "      <td>0.077853</td>\n",
       "      <td>0.077825</td>\n",
       "      <td>0.077963</td>\n",
       "      <td>-0.002765</td>\n",
       "      <td>0.011060</td>\n",
       "    </tr>\n",
       "    <tr>\n",
       "      <th>(3, 1)</th>\n",
       "      <td>0.059842</td>\n",
       "      <td>0.059843</td>\n",
       "      <td>0.059839</td>\n",
       "      <td>0.000086</td>\n",
       "      <td>-0.000344</td>\n",
       "    </tr>\n",
       "    <tr>\n",
       "      <th>(3, 0)</th>\n",
       "      <td>0.021808</td>\n",
       "      <td>0.021794</td>\n",
       "      <td>0.021864</td>\n",
       "      <td>-0.001407</td>\n",
       "      <td>0.005628</td>\n",
       "    </tr>\n",
       "    <tr>\n",
       "      <th>4</th>\n",
       "      <td>0.000173</td>\n",
       "      <td>0.000144</td>\n",
       "      <td>0.000288</td>\n",
       "      <td>-0.002877</td>\n",
       "      <td>0.011506</td>\n",
       "    </tr>\n",
       "  </tbody>\n",
       "</table>\n",
       "</div>"
      ],
      "text/plain": [
       "        original     train      test  train % error  test % error\n",
       "(1, 1)  0.439151  0.439186  0.439010       0.003509     -0.014034\n",
       "(1, 0)  0.217561  0.217579  0.217491       0.001752     -0.007006\n",
       "(2, 1)  0.183612  0.183629  0.183544       0.001703     -0.006810\n",
       "(2, 0)  0.077853  0.077825  0.077963      -0.002765      0.011060\n",
       "(3, 1)  0.059842  0.059843  0.059839       0.000086     -0.000344\n",
       "(3, 0)  0.021808  0.021794  0.021864      -0.001407      0.005628\n",
       "4       0.000173  0.000144  0.000288      -0.002877      0.011506"
      ]
     },
     "execution_count": 22,
     "metadata": {},
     "output_type": "execute_result"
    }
   ],
   "source": [
    "get_prop()"
   ]
  },
  {
   "cell_type": "markdown",
   "id": "25700590",
   "metadata": {},
   "source": [
    "<strong>Nice!</strong>"
   ]
  },
  {
   "cell_type": "markdown",
   "id": "4254e919",
   "metadata": {},
   "source": [
    "Since we want to keep the original dataset object unspoiled, we either drop the classes column or reimport it. We shall now work exclusively on the train set to avoid data leakage. We keep the classes column because it is also a predictor."
   ]
  },
  {
   "cell_type": "markdown",
   "id": "cb4da2cd",
   "metadata": {},
   "source": [
    "# Step 3: exploring the attributes"
   ]
  },
  {
   "cell_type": "markdown",
   "id": "c37f8b79",
   "metadata": {},
   "source": [
    "It's now time for some visualisation. Let's work on a copy of our training set to experiment on it. We decided that we should drop the following columns:\n",
    "- casual\n",
    "- registered\n",
    "- weekday\n",
    "- holiday\n",
    "- atemp\n",
    "- yr\n",
    "\n",
    "We assume that two consecutive years do not contribute to any nonrandom variation of bike rentals, in other words all variations are noise that will skew the model and affect it's predictive power. Note that realistically, while this is a perfectly semsible assumption, it should be checked on historical data; for example it might be that the following year marks a period of recession during which people decide to cut their overall spending, or it might be marked by a sensibilisation campaign towards environment friendly practices."
   ]
  },
  {
   "cell_type": "code",
   "execution_count": 23,
   "id": "2a2ab3f3",
   "metadata": {},
   "outputs": [],
   "source": [
    "bike = train_set.drop(labels=['casual', 'registered', 'weekday', 'holiday', 'atemp', 'yr'], axis=1)\n"
   ]
  },
  {
   "cell_type": "markdown",
   "id": "b10c1a93",
   "metadata": {},
   "source": [
    "By looking at the correlation matrix we notice a strong correlation of `cnt` with\n",
    "- `temp`\n",
    "- `hum`\n",
    "- `hr`\n",
    "- `weathersit`\n",
    "\n",
    "which suggests that these features will be the most predictive. Hence We shall then plot these against `cnt` to get a feel of the relationship between them.<br>\n",
    "We noticed in the further exploration of the first practical (housing prices in California dataset) that omitting less predictive features from the model decreases its scoring in terms of a highre RMSE. We shall therefore keep all features remaining in the train set from now on."
   ]
  },
  {
   "cell_type": "code",
   "execution_count": 24,
   "id": "df82e757",
   "metadata": {},
   "outputs": [
    {
     "data": {
      "image/png": "[encoded data removed]",
      "text/plain": [
       "<Figure size 1440x1008 with 4 Axes>"
      ]
     },
     "metadata": {
      "needs_background": "light"
     },
     "output_type": "display_data"
    }
   ],
   "source": [
    "# use scatter for continuous features and bar for discrete ones\n",
    "\n",
    "fig, axs = plt.subplots(2, 2, figsize=(20, 14))\n",
    "feature_cts =  [bike.temp, bike.hum]\n",
    "feat_name_cts = ['temp', 'hum']\n",
    "for i in range(2):\n",
    "        axs[0][i].scatter(feature_cts[0], bike.cnt, alpha=.2)\n",
    "        axs[0][i].set_xlabel(feat_name_cts[i], size=20)\n",
    "        axs[0][i].set_ylabel('cnt', size=20)\n",
    "\n",
    "# we don't lose any reference; we delete list objects, not the names they refer to.\n",
    "del i, feat_name_cts, feature_cts\n",
    "\n",
    "feature_dsc = [bike.hr, bike.weathersit]\n",
    "feat_name_dsc = ['hr', 'weathersit']\n",
    "for j in range(2):\n",
    "    axs[1][j].bar(x=sorted(feature_dsc[j].unique()),\n",
    "                  height=pd.concat([feature_dsc[j],\n",
    "                                    bike.cnt], axis=1).groupby(feat_name_dsc[j]).count().sort_index().values.reshape(-1))\n",
    "    #index is already sorted by calling the method count(), but just to be explicit\n",
    "    axs[1][j].set_xlabel(feat_name_dsc[j], size=20)\n",
    "    axs[1][j].set_ylabel('cnt')\n",
    "\n",
    "#del j, feat_name_dsc, feature_dsc\n",
    "\n",
    "plt.show()"
   ]
  },
  {
   "cell_type": "markdown",
   "id": "9d7c9532",
   "metadata": {},
   "source": [
    "The plots on the first row are not very informative. What we can do is to aggreagate the `cnt` by temperature values using the mean"
   ]
  },
  {
   "cell_type": "code",
   "execution_count": 25,
   "id": "7cf4b5db",
   "metadata": {
    "scrolled": true
   },
   "outputs": [],
   "source": [
    "df1, df2 = train_set.loc[:, ['temp', 'cnt']].groupby('temp').mean(), train_set.loc[:, ['hum', 'cnt']].groupby('hum').mean()"
   ]
  },
  {
   "cell_type": "code",
   "execution_count": 26,
   "id": "fb7b25c5",
   "metadata": {},
   "outputs": [
    {
     "data": {
      "image/png": "[encoded data removed]",
      "text/plain": [
       "<Figure size 432x288 with 1 Axes>"
      ]
     },
     "metadata": {
      "needs_background": "light"
     },
     "output_type": "display_data"
    }
   ],
   "source": [
    "plt.scatter(x=df1.index, y=df1.cnt.values, label='temp')\n",
    "plt.scatter(x=df2.index, y=df2.cnt.values, label='hum')\n",
    "plt.ylabel('avg cnt', size=12)\n",
    "plt.legend()\n",
    "plt.show()"
   ]
  },
  {
   "cell_type": "markdown",
   "id": "f8f5de0a",
   "metadata": {},
   "source": [
    "This is the trend that we would expect. As the temperature goes up, the number of users tend to increase because of the better climate conditions, whereas higher humidity is related to rain and as a consequences the average number of users tend to decrease. Note the outliers in the humidity scatter corresponding to very low values of humidity. This could be due to the fact that very low humidity is associated to high temperatures at which bike riding might also become unpleasant. This hypothesis seems to be confirmed by the seemengly decreasing trend after the peak of the temp scatter, save two outliers which might either be noise or might actually be related to certain particular events such as holidays. We will not, for now, explore these hypotheses further, concentrating instead on the technicalities of machine learning, but we leave the question open to an additional exploration in this direction for the future."
   ]
  },
  {
   "cell_type": "code",
   "execution_count": 27,
   "id": "c1ff3a62",
   "metadata": {},
   "outputs": [
    {
     "data": {
      "image/png": "[encoded data removed]",
      "text/plain": [
       "<Figure size 432x288 with 1 Axes>"
      ]
     },
     "metadata": {
      "needs_background": "light"
     },
     "output_type": "display_data"
    }
   ],
   "source": [
    "# There is also the season.\n",
    "\n",
    "plt.bar(x=sorted(bike.season.unique()), height=bike.groupby('season').cnt.sum()) # total users per season\n",
    "plt.ylabel('cnt', size=15)\n",
    "plt.show()"
   ]
  },
  {
   "cell_type": "markdown",
   "id": "adc8938a",
   "metadata": {},
   "source": [
    "# Step 4: Data preparation and transformation"
   ]
  },
  {
   "cell_type": "code",
   "execution_count": 28,
   "id": "f84782fe",
   "metadata": {},
   "outputs": [],
   "source": [
    "bike = train_set.drop(labels=['casual', 'registered', 'weekday', 'holiday', 'atemp', 'yr', 'cnt', 'classes'],\n",
    "                 axis=1)  # We drop the classes as we will use the independent features workingday and weathersit\n",
    "bike_label = train_set.cnt.copy()"
   ]
  },
  {
   "cell_type": "markdown",
   "id": "c1e719a7",
   "metadata": {},
   "source": [
    "There are no missing value so we can skip considering any imputing strategy"
   ]
  },
  {
   "cell_type": "markdown",
   "id": "313e4c9c",
   "metadata": {},
   "source": [
    "__Categorical Attributes__"
   ]
  },
  {
   "cell_type": "code",
   "execution_count": 29,
   "id": "ff8b0dfc",
   "metadata": {},
   "outputs": [
    {
     "data": {
      "text/html": [
       "<div>\n",
       "<style scoped>\n",
       "    .dataframe tbody tr th:only-of-type {\n",
       "        vertical-align: middle;\n",
       "    }\n",
       "\n",
       "    .dataframe tbody tr th {\n",
       "        vertical-align: top;\n",
       "    }\n",
       "\n",
       "    .dataframe thead th {\n",
       "        text-align: right;\n",
       "    }\n",
       "</style>\n",
       "<table border=\"1\" class=\"dataframe\">\n",
       "  <thead>\n",
       "    <tr style=\"text-align: right;\">\n",
       "      <th></th>\n",
       "      <th>instant</th>\n",
       "      <th>dteday</th>\n",
       "      <th>season</th>\n",
       "      <th>mnth</th>\n",
       "      <th>hr</th>\n",
       "      <th>workingday</th>\n",
       "      <th>weathersit</th>\n",
       "      <th>temp</th>\n",
       "      <th>hum</th>\n",
       "      <th>windspeed</th>\n",
       "    </tr>\n",
       "  </thead>\n",
       "  <tbody>\n",
       "    <tr>\n",
       "      <th>353</th>\n",
       "      <td>354</td>\n",
       "      <td>16/01/11</td>\n",
       "      <td>spring</td>\n",
       "      <td>1</td>\n",
       "      <td>5</td>\n",
       "      <td>0</td>\n",
       "      <td>2</td>\n",
       "      <td>0.26</td>\n",
       "      <td>0.56</td>\n",
       "      <td>0.1642</td>\n",
       "    </tr>\n",
       "    <tr>\n",
       "      <th>118</th>\n",
       "      <td>119</td>\n",
       "      <td>06/01/11</td>\n",
       "      <td>spring</td>\n",
       "      <td>1</td>\n",
       "      <td>4</td>\n",
       "      <td>1</td>\n",
       "      <td>2</td>\n",
       "      <td>0.16</td>\n",
       "      <td>0.64</td>\n",
       "      <td>0.0896</td>\n",
       "    </tr>\n",
       "    <tr>\n",
       "      <th>10346</th>\n",
       "      <td>10347</td>\n",
       "      <td>12/03/12</td>\n",
       "      <td>spring</td>\n",
       "      <td>3</td>\n",
       "      <td>5</td>\n",
       "      <td>1</td>\n",
       "      <td>1</td>\n",
       "      <td>0.34</td>\n",
       "      <td>0.61</td>\n",
       "      <td>0.1940</td>\n",
       "    </tr>\n",
       "    <tr>\n",
       "      <th>11635</th>\n",
       "      <td>11636</td>\n",
       "      <td>05/05/12</td>\n",
       "      <td>summer</td>\n",
       "      <td>5</td>\n",
       "      <td>0</td>\n",
       "      <td>0</td>\n",
       "      <td>1</td>\n",
       "      <td>0.60</td>\n",
       "      <td>0.83</td>\n",
       "      <td>0.0000</td>\n",
       "    </tr>\n",
       "    <tr>\n",
       "      <th>1730</th>\n",
       "      <td>1731</td>\n",
       "      <td>17/03/11</td>\n",
       "      <td>spring</td>\n",
       "      <td>3</td>\n",
       "      <td>18</td>\n",
       "      <td>1</td>\n",
       "      <td>2</td>\n",
       "      <td>0.46</td>\n",
       "      <td>0.59</td>\n",
       "      <td>0.1642</td>\n",
       "    </tr>\n",
       "  </tbody>\n",
       "</table>\n",
       "</div>"
      ],
      "text/plain": [
       "       instant    dteday  season  mnth  hr  workingday  weathersit  temp  \\\n",
       "353        354  16/01/11  spring     1   5           0           2  0.26   \n",
       "118        119  06/01/11  spring     1   4           1           2  0.16   \n",
       "10346    10347  12/03/12  spring     3   5           1           1  0.34   \n",
       "11635    11636  05/05/12  summer     5   0           0           1  0.60   \n",
       "1730      1731  17/03/11  spring     3  18           1           2  0.46   \n",
       "\n",
       "        hum  windspeed  \n",
       "353    0.56     0.1642  \n",
       "118    0.64     0.0896  \n",
       "10346  0.61     0.1940  \n",
       "11635  0.83     0.0000  \n",
       "1730   0.59     0.1642  "
      ]
     },
     "execution_count": 29,
     "metadata": {},
     "output_type": "execute_result"
    }
   ],
   "source": [
    "bike.head()"
   ]
  },
  {
   "cell_type": "markdown",
   "id": "f7dd5fee",
   "metadata": {},
   "source": [
    "The categorical featutures are the following:\n",
    "- season\n",
    "- mnth\n",
    "- hr\n",
    "- workingday\n",
    "- weathersit\n",
    "- dteday"
   ]
  },
  {
   "cell_type": "code",
   "execution_count": 30,
   "id": "aaa341e9",
   "metadata": {},
   "outputs": [
    {
     "data": {
      "text/plain": [
       "730"
      ]
     },
     "execution_count": 30,
     "metadata": {},
     "output_type": "execute_result"
    }
   ],
   "source": [
    "bike.dteday.nunique()"
   ]
  },
  {
   "cell_type": "markdown",
   "id": "65c7d9bb",
   "metadata": {},
   "source": [
    "Now, we could in principle create 730 categories for the `dteday` column, but it's likely that this would be overinformative and would result in an overfitting of the algorithm, which would then learn the single day data very well and would perform badly on new data with different days. In other words, it's unlikely that variation from one day to another would be significant in absence of noise, so we need some sort of binning. Taking only the month column will suffice, so we drop the `dteday` column. <br><br>\n",
    "\n",
    "Also the `instant` carries no significance, so we drop it."
   ]
  },
  {
   "cell_type": "code",
   "execution_count": 31,
   "id": "8445598d",
   "metadata": {},
   "outputs": [],
   "source": [
    "bike.drop(columns=['dteday', 'instant'], inplace=True)"
   ]
  },
  {
   "cell_type": "code",
   "execution_count": 32,
   "id": "2ba831e0",
   "metadata": {},
   "outputs": [
    {
     "data": {
      "text/html": [
       "<div>\n",
       "<style scoped>\n",
       "    .dataframe tbody tr th:only-of-type {\n",
       "        vertical-align: middle;\n",
       "    }\n",
       "\n",
       "    .dataframe tbody tr th {\n",
       "        vertical-align: top;\n",
       "    }\n",
       "\n",
       "    .dataframe thead th {\n",
       "        text-align: right;\n",
       "    }\n",
       "</style>\n",
       "<table border=\"1\" class=\"dataframe\">\n",
       "  <thead>\n",
       "    <tr style=\"text-align: right;\">\n",
       "      <th></th>\n",
       "      <th>season</th>\n",
       "      <th>mnth</th>\n",
       "      <th>hr</th>\n",
       "      <th>workingday</th>\n",
       "      <th>weathersit</th>\n",
       "      <th>temp</th>\n",
       "      <th>hum</th>\n",
       "      <th>windspeed</th>\n",
       "    </tr>\n",
       "  </thead>\n",
       "  <tbody>\n",
       "    <tr>\n",
       "      <th>353</th>\n",
       "      <td>spring</td>\n",
       "      <td>1</td>\n",
       "      <td>5</td>\n",
       "      <td>0</td>\n",
       "      <td>2</td>\n",
       "      <td>0.26</td>\n",
       "      <td>0.56</td>\n",
       "      <td>0.1642</td>\n",
       "    </tr>\n",
       "    <tr>\n",
       "      <th>118</th>\n",
       "      <td>spring</td>\n",
       "      <td>1</td>\n",
       "      <td>4</td>\n",
       "      <td>1</td>\n",
       "      <td>2</td>\n",
       "      <td>0.16</td>\n",
       "      <td>0.64</td>\n",
       "      <td>0.0896</td>\n",
       "    </tr>\n",
       "    <tr>\n",
       "      <th>10346</th>\n",
       "      <td>spring</td>\n",
       "      <td>3</td>\n",
       "      <td>5</td>\n",
       "      <td>1</td>\n",
       "      <td>1</td>\n",
       "      <td>0.34</td>\n",
       "      <td>0.61</td>\n",
       "      <td>0.1940</td>\n",
       "    </tr>\n",
       "    <tr>\n",
       "      <th>11635</th>\n",
       "      <td>summer</td>\n",
       "      <td>5</td>\n",
       "      <td>0</td>\n",
       "      <td>0</td>\n",
       "      <td>1</td>\n",
       "      <td>0.60</td>\n",
       "      <td>0.83</td>\n",
       "      <td>0.0000</td>\n",
       "    </tr>\n",
       "    <tr>\n",
       "      <th>1730</th>\n",
       "      <td>spring</td>\n",
       "      <td>3</td>\n",
       "      <td>18</td>\n",
       "      <td>1</td>\n",
       "      <td>2</td>\n",
       "      <td>0.46</td>\n",
       "      <td>0.59</td>\n",
       "      <td>0.1642</td>\n",
       "    </tr>\n",
       "  </tbody>\n",
       "</table>\n",
       "</div>"
      ],
      "text/plain": [
       "       season  mnth  hr  workingday  weathersit  temp   hum  windspeed\n",
       "353    spring     1   5           0           2  0.26  0.56     0.1642\n",
       "118    spring     1   4           1           2  0.16  0.64     0.0896\n",
       "10346  spring     3   5           1           1  0.34  0.61     0.1940\n",
       "11635  summer     5   0           0           1  0.60  0.83     0.0000\n",
       "1730   spring     3  18           1           2  0.46  0.59     0.1642"
      ]
     },
     "execution_count": 32,
     "metadata": {},
     "output_type": "execute_result"
    }
   ],
   "source": [
    "bike.head()"
   ]
  },
  {
   "cell_type": "markdown",
   "id": "f446a8ff",
   "metadata": {},
   "source": [
    "Temp and hum are already normalised, but not with z-score. That's what we will do. This will simply result in a shift and rescaling and will handle outliers well."
   ]
  },
  {
   "cell_type": "code",
   "execution_count": 33,
   "id": "6b4c91d9",
   "metadata": {},
   "outputs": [
    {
     "data": {
      "text/plain": [
       "(0.49659641803927407,\n",
       " 0.19233681406136877,\n",
       " 0.1904102567791075,\n",
       " 0.19233681406136877)"
      ]
     },
     "execution_count": 33,
     "metadata": {},
     "output_type": "execute_result"
    }
   ],
   "source": [
    "bike.temp.mean(), bike.temp.std(), bike.windspeed.mean(), bike.temp.std()"
   ]
  },
  {
   "cell_type": "code",
   "execution_count": 34,
   "id": "f91152af",
   "metadata": {},
   "outputs": [],
   "source": [
    "from sklearn.preprocessing import StandardScaler, LabelBinarizer\n",
    "from sklearn.pipeline import Pipeline, FeatureUnion"
   ]
  },
  {
   "cell_type": "code",
   "execution_count": 35,
   "id": "5dc430d6",
   "metadata": {},
   "outputs": [],
   "source": [
    "from sklearn.base import BaseEstimator, TransformerMixin\n",
    "\n",
    "class DataFrameSelector(BaseEstimator, TransformerMixin):\n",
    "    \"\"\"Utility class to separate numerical and categorical features to feed into different pipeline.\n",
    "    \n",
    "    It should be put at the top of the pipeline.\n",
    "    \"\"\"\n",
    "    \n",
    "    def __init__(self, feature_names):\n",
    "        \"\"\"\n",
    "        feature_names:    iterable containing names of columns to be parsed as strings.\n",
    "        \"\"\"\n",
    "        self._features = feature_names\n",
    "        \n",
    "    def fit(self, X, y=None):\n",
    "        return self\n",
    "    \n",
    "    def transform(self, X, y=None):\n",
    "        return X[self._features].values  # return a numpy.array\n",
    "    \n",
    "    \n",
    "class CustomLabelBinarizer(BaseEstimator, TransformerMixin):\n",
    "    \"\"\"Utility class to implement LabelBinarizer transformer into a pipeline (not supported as a Pipeline step).\"\"\"\n",
    "    \n",
    "    def __init__(self):\n",
    "        self.encoder = LabelBinarizer()\n",
    "    \n",
    "    def fit(self, X, y=None):\n",
    "        self.encoder.fit(X)\n",
    "        return self\n",
    "    \n",
    "    def transform(self, X, y=None):\n",
    "        return self.encoder.transform(X)\n"
   ]
  },
  {
   "cell_type": "code",
   "execution_count": 36,
   "id": "d689a370",
   "metadata": {},
   "outputs": [
    {
     "data": {
      "text/plain": [
       "(13903, 48)"
      ]
     },
     "execution_count": 36,
     "metadata": {},
     "output_type": "execute_result"
    }
   ],
   "source": [
    "num_attributes = ['temp', 'hum', 'windspeed']\n",
    "cat_attributes = ['season', 'mnth', 'hr', 'workingday', 'weathersit']\n",
    "\n",
    "num_pipeline = Pipeline(steps=[\n",
    "    ('selector', DataFrameSelector(num_attributes)),\n",
    "    ('std_scaler', StandardScaler())\n",
    "])\n",
    "\n",
    "def binarize(feature):  #  it seems we have to binarize one column at a time, otherwise it doesn't work...\n",
    "    cat_pipeline = Pipeline(steps=[\n",
    "        ('selector', DataFrameSelector([feature])),\n",
    "        ('binarizer', CustomLabelBinarizer())\n",
    "    ])\n",
    "    return cat_pipeline\n",
    "\n",
    "full_pipeline = FeatureUnion(transformer_list=[('numerical', num_pipeline)]\\\n",
    "                             +[(f'categorical{cat_attributes.index(k)}', binarize(k)) for k in cat_attributes])\n",
    "\n",
    "bike_prepared = full_pipeline.fit_transform(bike)\n",
    "bike_prepared.shape"
   ]
  },
  {
   "cell_type": "markdown",
   "id": "0eb4719b",
   "metadata": {},
   "source": [
    "# Step 5: Evaluation, fine-tuning and testing"
   ]
  },
  {
   "cell_type": "markdown",
   "id": "df6bfa3a",
   "metadata": {},
   "source": [
    "We begin by fitting a linear model"
   ]
  },
  {
   "cell_type": "code",
   "execution_count": 37,
   "id": "408eba16",
   "metadata": {},
   "outputs": [],
   "source": [
    "from sklearn.preprocessing import PolynomialFeatures\n",
    "from sklearn.linear_model import LinearRegression\n",
    "from sklearn.metrics import mean_squared_error\n",
    "from sklearn.model_selection import cross_val_score\n",
    "\n",
    "def fit_regression(X, y, degree=1):\n",
    "    if degree > 1:\n",
    "        transformer = PolynomialFeatures(degree=degree)\n",
    "        data = transformer.fit_transform(X)\n",
    "    model = LinearRegression()\n",
    "    model.fit(X, y)\n",
    "    return model\n",
    "\n",
    "def analyse_cv(model, *args, scoring='neg_mean_squared_error', cv=10):\n",
    "    if len(args) != 2:\n",
    "        raise NotImplementedError('Not Implemented: only parses two args')\n",
    "    X, y = args\n",
    "    scores = cross_val_score(model, X, y, scoring=scoring, cv=cv)\n",
    "    scores = np.sqrt(-scores)\n",
    "    \n",
    "    return f'RMSE:  {scores}\\nMean:  {scores.mean()}\\nStandard_deviation:  {scores.std()}\\n'\n",
    "    "
   ]
  },
  {
   "cell_type": "code",
   "execution_count": 38,
   "id": "744c244d",
   "metadata": {},
   "outputs": [
    {
     "name": "stdout",
     "output_type": "stream",
     "text": [
      "RMSE:  [111.20110051 108.82028149 106.23587431 112.61824116 109.64045421\n",
      " 108.56812692 108.47888964 114.92160462 108.82940022 114.7022919 ]\n",
      "Mean:  110.40162649750155\n",
      "Standard_deviation:  2.728415734761401\n",
      "\n",
      "RMSE:  [111.20110051 108.82028149 106.23587431 112.61824116 109.64045421\n",
      " 108.56812692 108.47888964 114.92160462 108.82940022 114.7022919 ]\n",
      "Mean:  110.40162649750155\n",
      "Standard_deviation:  2.728415734761401\n",
      "\n",
      "RMSE:  [111.20110051 108.82028149 106.23587431 112.61824116 109.64045421\n",
      " 108.56812692 108.47888964 114.92160462 108.82940022 114.7022919 ]\n",
      "Mean:  110.40162649750155\n",
      "Standard_deviation:  2.728415734761401\n",
      "\n"
     ]
    }
   ],
   "source": [
    "for i in range(1,4):\n",
    "    print(analyse_cv(fit_regression(bike_prepared, bike_label, degree=i), bike_prepared, bike_label))"
   ]
  },
  {
   "cell_type": "code",
   "execution_count": 41,
   "id": "35cb35e6",
   "metadata": {},
   "outputs": [
    {
     "name": "stdout",
     "output_type": "stream",
     "text": [
      "RMSE:  [111.20110051 108.82028149 106.23587431 112.61824116 109.64045421\n",
      " 108.56812692 108.47888964 114.92160462 108.82940022 114.7022919 ]\n",
      "Mean:  110.40162649750155\n",
      "Standard_deviation:  2.728415734761401\n",
      "\n"
     ]
    }
   ],
   "source": [
    "print(analyse_cv(fit_regression(bike_prepared, bike_label, degree=3), bike_prepared, bike_label))"
   ]
  },
  {
   "cell_type": "code",
   "execution_count": 49,
   "id": "8d9f383f",
   "metadata": {},
   "outputs": [
    {
     "data": {
      "text/plain": [
       "array([111.20110051, 108.82028149, 106.23587431, 112.61824116,\n",
       "       109.64045421, 108.56812692, 108.47888964, 114.92160462,\n",
       "       108.82940022, 114.7022919 ])"
      ]
     },
     "execution_count": 49,
     "metadata": {},
     "output_type": "execute_result"
    }
   ],
   "source": [
    "np.sqrt(-cross_val_score(model, bike_prepared, bike_label, scoring='neg_mean_squared_error', cv=10))"
   ]
  },
  {
   "cell_type": "markdown",
   "id": "8261e816",
   "metadata": {},
   "source": [
    "## Test"
   ]
  },
  {
   "cell_type": "code",
   "execution_count": 45,
   "id": "fd9efbd9",
   "metadata": {},
   "outputs": [],
   "source": [
    "bike_test  = test_set.drop(labels=['casual', 'registered', 'weekday', 'holiday', 'atemp', 'yr', 'cnt', 'classes',\n",
    "                                   'dteday','instant'], axis=1)\n",
    "bike_test_label = test_set.cnt.copy()\n",
    "\n",
    "bike_test_prepared = full_pipeline.fit_transform(bike_test)\n",
    "\n"
   ]
  },
  {
   "cell_type": "code",
   "execution_count": 51,
   "id": "3d079908",
   "metadata": {},
   "outputs": [
    {
     "name": "stdout",
     "output_type": "stream",
     "text": [
      "RMSE:  [1.12403006e+02 1.14138835e+02 1.16121724e+02 1.08195981e+02\n",
      " 1.14400918e+02 4.51615754e+12 1.06064923e+02 1.14605021e+02\n",
      " 1.19894116e+02 1.02721479e+02]\n",
      "Mean:  451615754451.71173\n",
      "Standard_deviation:  1354847263018.953\n",
      "\n"
     ]
    }
   ],
   "source": [
    "print(analyse_cv(fit_regression(bike_prepared, bike_label, degree=1),\n",
    "                 bike_test_prepared, bike_test_label))"
   ]
  },
  {
   "cell_type": "code",
   "execution_count": 48,
   "id": "47d8d083",
   "metadata": {},
   "outputs": [
    {
     "data": {
      "text/plain": [
       "GridSearchCV(cv=5, estimator=RandomForestRegressor(),\n",
       "             param_grid={'max_features': [2, 4, 6, 8],\n",
       "                         'n_estimators': [3, 10, 30]},\n",
       "             scoring='neg_mean_squared_error')"
      ]
     },
     "execution_count": 48,
     "metadata": {},
     "output_type": "execute_result"
    }
   ],
   "source": [
    "from sklearn.model_selection import GridSearchCV\n",
    "from sklearn.ensemble import RandomForestRegressor\n",
    "\n",
    "# specify the range of hyperparameter values for the grid search to try out \n",
    "param_grid = {'n_estimators': [3, 10, 30], 'max_features': [2, 4, 6, 8]}\n",
    "\n",
    "forest_reg = RandomForestRegressor()\n",
    "grid_search = GridSearchCV(forest_reg, param_grid, cv=5,\n",
    "                          scoring=\"neg_mean_squared_error\")\n",
    "grid_search.fit(bike_prepared, bike_label)"
   ]
  },
  {
   "cell_type": "code",
   "execution_count": 50,
   "id": "d9f5aa78",
   "metadata": {},
   "outputs": [],
   "source": [
    "final_model = grid_search.best_estimator_"
   ]
  },
  {
   "cell_type": "code",
   "execution_count": 53,
   "id": "b525d6b5",
   "metadata": {},
   "outputs": [],
   "source": [
    "bike_test  = test_set.drop(labels=['casual', 'registered', 'weekday', 'holiday', 'atemp', 'yr', 'cnt', 'classes',\n",
    "                                   'dteday','instant'], axis=1)\n",
    "bike_test_label = test_set.cnt.copy()\n",
    "\n",
    "bike_test_prepared = full_pipeline.fit_transform(bike_test)"
   ]
  },
  {
   "cell_type": "code",
   "execution_count": 54,
   "id": "c976f762",
   "metadata": {},
   "outputs": [
    {
     "name": "stdout",
     "output_type": "stream",
     "text": [
      "76.35109721978493\n"
     ]
    }
   ],
   "source": [
    "MSE = mean_squared_error(bike_test_label, final_model.predict(bike_test_prepared))\n",
    "RMSE = np.sqrt(MSE)\n",
    "print(RMSE)"
   ]
  },
  {
   "cell_type": "markdown",
   "id": "17613bf1",
   "metadata": {},
   "source": [
    "## References\n",
    "\n",
    "- [[1]](https://www.lexjansen.com/wuss/2018/130_Final_Paper_PDF.pdf) \"_Logistic and Linear Regression Assumptions: Violation Recognition and Control_\", Deanna Schreiber-Gregory, Henry M Jackson Foundation"
   ]
  }
 ],
 "metadata": {
  "kernelspec": {
   "display_name": "Python 3",
   "language": "python",
   "name": "python3"
  },
  "language_info": {
   "codemirror_mode": {
    "name": "ipython",
    "version": 3
   },
   "file_extension": ".py",
   "mimetype": "text/x-python",
   "name": "python",
   "nbconvert_exporter": "python",
   "pygments_lexer": "ipython3",
   "version": "3.8.10"
  }
 },
 "nbformat": 4,
 "nbformat_minor": 5
}
