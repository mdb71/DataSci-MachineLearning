{
 "cells": [
  {
   "cell_type": "markdown",
   "id": "ef672bcd",
   "metadata": {},
   "source": [
    "# The task is to predict the pricing of used cars from manifacturer Audi"
   ]
  },
  {
   "cell_type": "code",
   "execution_count": 1,
   "id": "9595a552",
   "metadata": {},
   "outputs": [],
   "source": [
    "import numpy as np\n",
    "import pandas as pd\n",
    "import matplotlib.pyplot as plt\n",
    "import matplotlib"
   ]
  },
  {
   "cell_type": "code",
   "execution_count": 18,
   "id": "f1b536b3",
   "metadata": {},
   "outputs": [],
   "source": [
    "plt.style.use('seaborn')"
   ]
  },
  {
   "cell_type": "markdown",
   "id": "a98892c6",
   "metadata": {},
   "source": [
    "## Step 1: Inspect"
   ]
  },
  {
   "cell_type": "code",
   "execution_count": 2,
   "id": "c6a11181",
   "metadata": {},
   "outputs": [],
   "source": [
    "path = './datasets/audi.csv'\n",
    "audi = pd.read_csv(path)"
   ]
  },
  {
   "cell_type": "code",
   "execution_count": 3,
   "id": "73472222",
   "metadata": {},
   "outputs": [
    {
     "data": {
      "text/html": [
       "<div>\n",
       "<style scoped>\n",
       "    .dataframe tbody tr th:only-of-type {\n",
       "        vertical-align: middle;\n",
       "    }\n",
       "\n",
       "    .dataframe tbody tr th {\n",
       "        vertical-align: top;\n",
       "    }\n",
       "\n",
       "    .dataframe thead th {\n",
       "        text-align: right;\n",
       "    }\n",
       "</style>\n",
       "<table border=\"1\" class=\"dataframe\">\n",
       "  <thead>\n",
       "    <tr style=\"text-align: right;\">\n",
       "      <th></th>\n",
       "      <th>model</th>\n",
       "      <th>year</th>\n",
       "      <th>price</th>\n",
       "      <th>transmission</th>\n",
       "      <th>mileage</th>\n",
       "      <th>fuelType</th>\n",
       "      <th>tax</th>\n",
       "      <th>mpg</th>\n",
       "      <th>engineSize</th>\n",
       "    </tr>\n",
       "  </thead>\n",
       "  <tbody>\n",
       "    <tr>\n",
       "      <th>0</th>\n",
       "      <td>A1</td>\n",
       "      <td>2017</td>\n",
       "      <td>12500</td>\n",
       "      <td>Manual</td>\n",
       "      <td>15735</td>\n",
       "      <td>Petrol</td>\n",
       "      <td>150</td>\n",
       "      <td>55.4</td>\n",
       "      <td>1.4</td>\n",
       "    </tr>\n",
       "    <tr>\n",
       "      <th>1</th>\n",
       "      <td>A6</td>\n",
       "      <td>2016</td>\n",
       "      <td>16500</td>\n",
       "      <td>Automatic</td>\n",
       "      <td>36203</td>\n",
       "      <td>Diesel</td>\n",
       "      <td>20</td>\n",
       "      <td>64.2</td>\n",
       "      <td>2.0</td>\n",
       "    </tr>\n",
       "    <tr>\n",
       "      <th>2</th>\n",
       "      <td>A1</td>\n",
       "      <td>2016</td>\n",
       "      <td>11000</td>\n",
       "      <td>Manual</td>\n",
       "      <td>29946</td>\n",
       "      <td>Petrol</td>\n",
       "      <td>30</td>\n",
       "      <td>55.4</td>\n",
       "      <td>1.4</td>\n",
       "    </tr>\n",
       "    <tr>\n",
       "      <th>3</th>\n",
       "      <td>A4</td>\n",
       "      <td>2017</td>\n",
       "      <td>16800</td>\n",
       "      <td>Automatic</td>\n",
       "      <td>25952</td>\n",
       "      <td>Diesel</td>\n",
       "      <td>145</td>\n",
       "      <td>67.3</td>\n",
       "      <td>2.0</td>\n",
       "    </tr>\n",
       "    <tr>\n",
       "      <th>4</th>\n",
       "      <td>A3</td>\n",
       "      <td>2019</td>\n",
       "      <td>17300</td>\n",
       "      <td>Manual</td>\n",
       "      <td>1998</td>\n",
       "      <td>Petrol</td>\n",
       "      <td>145</td>\n",
       "      <td>49.6</td>\n",
       "      <td>1.0</td>\n",
       "    </tr>\n",
       "  </tbody>\n",
       "</table>\n",
       "</div>"
      ],
      "text/plain": [
       "  model  year  price transmission  mileage fuelType  tax   mpg  engineSize\n",
       "0    A1  2017  12500       Manual    15735   Petrol  150  55.4         1.4\n",
       "1    A6  2016  16500    Automatic    36203   Diesel   20  64.2         2.0\n",
       "2    A1  2016  11000       Manual    29946   Petrol   30  55.4         1.4\n",
       "3    A4  2017  16800    Automatic    25952   Diesel  145  67.3         2.0\n",
       "4    A3  2019  17300       Manual     1998   Petrol  145  49.6         1.0"
      ]
     },
     "execution_count": 3,
     "metadata": {},
     "output_type": "execute_result"
    }
   ],
   "source": [
    "audi.head()"
   ]
  },
  {
   "cell_type": "code",
   "execution_count": 4,
   "id": "729b8ded",
   "metadata": {},
   "outputs": [
    {
     "name": "stdout",
     "output_type": "stream",
     "text": [
      "<class 'pandas.core.frame.DataFrame'>\n",
      "RangeIndex: 10668 entries, 0 to 10667\n",
      "Data columns (total 9 columns):\n",
      " #   Column        Non-Null Count  Dtype  \n",
      "---  ------        --------------  -----  \n",
      " 0   model         10668 non-null  object \n",
      " 1   year          10668 non-null  int64  \n",
      " 2   price         10668 non-null  int64  \n",
      " 3   transmission  10668 non-null  object \n",
      " 4   mileage       10668 non-null  int64  \n",
      " 5   fuelType      10668 non-null  object \n",
      " 6   tax           10668 non-null  int64  \n",
      " 7   mpg           10668 non-null  float64\n",
      " 8   engineSize    10668 non-null  float64\n",
      "dtypes: float64(2), int64(4), object(3)\n",
      "memory usage: 750.2+ KB\n"
     ]
    }
   ],
   "source": [
    "audi.info()"
   ]
  },
  {
   "cell_type": "code",
   "execution_count": 7,
   "id": "880a5e97",
   "metadata": {
    "scrolled": true
   },
   "outputs": [
    {
     "name": "stdout",
     "output_type": "stream",
     "text": [
      "[' A1' ' A6' ' A4' ' A3' ' Q3' ' Q5' ' A5' ' S4' ' Q2' ' A7' ' TT' ' Q7'\n",
      " ' RS6' ' RS3' ' A8' ' Q8' ' RS4' ' RS5' ' R8' ' SQ5' ' S8' ' SQ7' ' S3'\n",
      " ' S5' ' A2' ' RS7']\n",
      "\n",
      "# models = 26\n"
     ]
    }
   ],
   "source": [
    "print(audi.model.unique())\n",
    "print()\n",
    "print(f'# models = {audi.model.nunique()}')"
   ]
  },
  {
   "cell_type": "code",
   "execution_count": 11,
   "id": "7171ecba",
   "metadata": {},
   "outputs": [
    {
     "name": "stdout",
     "output_type": "stream",
     "text": [
      "1997 - 2020\n"
     ]
    }
   ],
   "source": [
    "print(audi.year.min(),'-', audi.year.max())"
   ]
  },
  {
   "cell_type": "code",
   "execution_count": 23,
   "id": "f049b288",
   "metadata": {},
   "outputs": [
    {
     "data": {
      "text/plain": [
       "array(['Petrol', 'Diesel', 'Hybrid'], dtype=object)"
      ]
     },
     "execution_count": 23,
     "metadata": {},
     "output_type": "execute_result"
    }
   ],
   "source": [
    "audi.fuelType.unique()"
   ]
  },
  {
   "cell_type": "code",
   "execution_count": 12,
   "id": "a484857f",
   "metadata": {},
   "outputs": [
    {
     "data": {
      "text/plain": [
       "array(['Manual', 'Automatic', 'Semi-Auto'], dtype=object)"
      ]
     },
     "execution_count": 12,
     "metadata": {},
     "output_type": "execute_result"
    }
   ],
   "source": [
    "audi.transmission.unique()"
   ]
  },
  {
   "cell_type": "code",
   "execution_count": 13,
   "id": "9d1d7b56",
   "metadata": {},
   "outputs": [
    {
     "data": {
      "text/html": [
       "<div>\n",
       "<style scoped>\n",
       "    .dataframe tbody tr th:only-of-type {\n",
       "        vertical-align: middle;\n",
       "    }\n",
       "\n",
       "    .dataframe tbody tr th {\n",
       "        vertical-align: top;\n",
       "    }\n",
       "\n",
       "    .dataframe thead th {\n",
       "        text-align: right;\n",
       "    }\n",
       "</style>\n",
       "<table border=\"1\" class=\"dataframe\">\n",
       "  <thead>\n",
       "    <tr style=\"text-align: right;\">\n",
       "      <th></th>\n",
       "      <th>year</th>\n",
       "      <th>price</th>\n",
       "      <th>mileage</th>\n",
       "      <th>tax</th>\n",
       "      <th>mpg</th>\n",
       "      <th>engineSize</th>\n",
       "    </tr>\n",
       "  </thead>\n",
       "  <tbody>\n",
       "    <tr>\n",
       "      <th>count</th>\n",
       "      <td>10668.000000</td>\n",
       "      <td>10668.000000</td>\n",
       "      <td>10668.000000</td>\n",
       "      <td>10668.000000</td>\n",
       "      <td>10668.000000</td>\n",
       "      <td>10668.000000</td>\n",
       "    </tr>\n",
       "    <tr>\n",
       "      <th>mean</th>\n",
       "      <td>2017.100675</td>\n",
       "      <td>22896.685039</td>\n",
       "      <td>24827.244001</td>\n",
       "      <td>126.011436</td>\n",
       "      <td>50.770022</td>\n",
       "      <td>1.930709</td>\n",
       "    </tr>\n",
       "    <tr>\n",
       "      <th>std</th>\n",
       "      <td>2.167494</td>\n",
       "      <td>11714.841888</td>\n",
       "      <td>23505.257205</td>\n",
       "      <td>67.170294</td>\n",
       "      <td>12.949782</td>\n",
       "      <td>0.602957</td>\n",
       "    </tr>\n",
       "    <tr>\n",
       "      <th>min</th>\n",
       "      <td>1997.000000</td>\n",
       "      <td>1490.000000</td>\n",
       "      <td>1.000000</td>\n",
       "      <td>0.000000</td>\n",
       "      <td>18.900000</td>\n",
       "      <td>0.000000</td>\n",
       "    </tr>\n",
       "    <tr>\n",
       "      <th>25%</th>\n",
       "      <td>2016.000000</td>\n",
       "      <td>15130.750000</td>\n",
       "      <td>5968.750000</td>\n",
       "      <td>125.000000</td>\n",
       "      <td>40.900000</td>\n",
       "      <td>1.500000</td>\n",
       "    </tr>\n",
       "    <tr>\n",
       "      <th>50%</th>\n",
       "      <td>2017.000000</td>\n",
       "      <td>20200.000000</td>\n",
       "      <td>19000.000000</td>\n",
       "      <td>145.000000</td>\n",
       "      <td>49.600000</td>\n",
       "      <td>2.000000</td>\n",
       "    </tr>\n",
       "    <tr>\n",
       "      <th>75%</th>\n",
       "      <td>2019.000000</td>\n",
       "      <td>27990.000000</td>\n",
       "      <td>36464.500000</td>\n",
       "      <td>145.000000</td>\n",
       "      <td>58.900000</td>\n",
       "      <td>2.000000</td>\n",
       "    </tr>\n",
       "    <tr>\n",
       "      <th>max</th>\n",
       "      <td>2020.000000</td>\n",
       "      <td>145000.000000</td>\n",
       "      <td>323000.000000</td>\n",
       "      <td>580.000000</td>\n",
       "      <td>188.300000</td>\n",
       "      <td>6.300000</td>\n",
       "    </tr>\n",
       "  </tbody>\n",
       "</table>\n",
       "</div>"
      ],
      "text/plain": [
       "               year          price        mileage           tax           mpg  \\\n",
       "count  10668.000000   10668.000000   10668.000000  10668.000000  10668.000000   \n",
       "mean    2017.100675   22896.685039   24827.244001    126.011436     50.770022   \n",
       "std        2.167494   11714.841888   23505.257205     67.170294     12.949782   \n",
       "min     1997.000000    1490.000000       1.000000      0.000000     18.900000   \n",
       "25%     2016.000000   15130.750000    5968.750000    125.000000     40.900000   \n",
       "50%     2017.000000   20200.000000   19000.000000    145.000000     49.600000   \n",
       "75%     2019.000000   27990.000000   36464.500000    145.000000     58.900000   \n",
       "max     2020.000000  145000.000000  323000.000000    580.000000    188.300000   \n",
       "\n",
       "         engineSize  \n",
       "count  10668.000000  \n",
       "mean       1.930709  \n",
       "std        0.602957  \n",
       "min        0.000000  \n",
       "25%        1.500000  \n",
       "50%        2.000000  \n",
       "75%        2.000000  \n",
       "max        6.300000  "
      ]
     },
     "execution_count": 13,
     "metadata": {},
     "output_type": "execute_result"
    }
   ],
   "source": [
    "audi.describe()"
   ]
  },
  {
   "cell_type": "markdown",
   "id": "16254a8a",
   "metadata": {},
   "source": [
    "Hist plot and see if there are outliers"
   ]
  },
  {
   "cell_type": "code",
   "execution_count": 20,
   "id": "cc9e067a",
   "metadata": {
    "scrolled": false
   },
   "outputs": [
    {
     "data": {
      "image/png": "[encoded data removed]",
      "text/plain": [
       "<Figure size 1080x576 with 6 Axes>"
      ]
     },
     "metadata": {},
     "output_type": "display_data"
    }
   ],
   "source": [
    "audi.hist(layout=(3,2), figsize=(15,8), bins=50, grid=False)\n",
    "plt.show()"
   ]
  },
  {
   "cell_type": "code",
   "execution_count": 36,
   "id": "53f19b3e",
   "metadata": {},
   "outputs": [
    {
     "data": {
      "text/plain": [
       "array([1.4, 2. , 1. , 3. , 1.6, 1.8, 1.5, 4. , 2.5, 1.2, 4.2, 2.9, 5.2,\n",
       "       1.9, 2.7, 0. , 3.2, 4.1, 6.3])"
      ]
     },
     "execution_count": 36,
     "metadata": {},
     "output_type": "execute_result"
    }
   ],
   "source": []
  },
  {
   "cell_type": "code",
   "execution_count": 23,
   "id": "2a4350d1",
   "metadata": {},
   "outputs": [
    {
     "data": {
      "text/plain": [
       "price         1.000000\n",
       "mpg           0.600334\n",
       "year          0.592581\n",
       "engineSize    0.591262\n",
       "mileage       0.535357\n",
       "tax           0.356157\n",
       "Name: price, dtype: float64"
      ]
     },
     "execution_count": 23,
     "metadata": {},
     "output_type": "execute_result"
    }
   ],
   "source": [
    "audi.corr().price.apply(abs).sort_values(ascending=False)"
   ]
  },
  {
   "cell_type": "markdown",
   "id": "45125e9c",
   "metadata": {},
   "source": [
    "However `model`, `fuelType` `transmission` and are absent as they are non-numerical. We fix this as "
   ]
  },
  {
   "cell_type": "markdown",
   "id": "b79466bf",
   "metadata": {},
   "source": [
    "## Step 2: Visualize"
   ]
  },
  {
   "cell_type": "code",
   "execution_count": 52,
   "id": "10fa6a49",
   "metadata": {},
   "outputs": [
    {
     "data": {
      "image/png": "[encoded data removed]",
      "text/plain": [
       "<Figure size 864x1296 with 1 Axes>"
      ]
     },
     "metadata": {},
     "output_type": "display_data"
    }
   ],
   "source": [
    "# barplots for categorical features\n",
    "cat_features = ['year', 'model', 'transmission', 'fuelType']\n",
    "plt.figure(figsize=(12, 18))\n",
    "plt.barh(audi.model.unique(), audi.groupby('model').price.mean())\n",
    "plt.title('mean price by model')\n",
    "plt.show()"
   ]
  },
  {
   "cell_type": "code",
   "execution_count": 66,
   "id": "95cc0228",
   "metadata": {},
   "outputs": [
    {
     "data": {
      "image/png": "[encoded data removed]",
      "text/plain": [
       "<Figure size 864x576 with 4 Axes>"
      ]
     },
     "metadata": {},
     "output_type": "display_data"
    }
   ],
   "source": [
    "num_features = ['mileage', 'tax', 'mpg', 'engineSize']\n",
    "plt.subplots(figsize=(12,8))\n",
    "for i, feat in enumerate(num_features):\n",
    "    plt.subplot(2,2,i+1)\n",
    "    plt.scatter(audi[feat].unique(), audi.groupby(feat).price.mean(),\n",
    "                alpha=.5, s=10)\n",
    "    plt.xlabel(feat)\n",
    "    plt.ylabel('price')\n",
    "    \n",
    "plt.show()"
   ]
  },
  {
   "cell_type": "markdown",
   "id": "dd364f0a",
   "metadata": {},
   "source": [
    "## Step 3: Separate training and test sets"
   ]
  },
  {
   "cell_type": "markdown",
   "id": "2b3828d2",
   "metadata": {},
   "source": [
    "We stratify on the year feature after applying further binning. We bin years "
   ]
  },
  {
   "cell_type": "code",
   "execution_count": 26,
   "id": "a3d0f807",
   "metadata": {},
   "outputs": [
    {
     "data": {
      "text/plain": [
       "1997       1\n",
       "1998       1\n",
       "2002       2\n",
       "2003       6\n",
       "2004       5\n",
       "2005       7\n",
       "2006       9\n",
       "2007      16\n",
       "2008      21\n",
       "2009      23\n",
       "2010      32\n",
       "2011      47\n",
       "2012      85\n",
       "2013     291\n",
       "2014     447\n",
       "2015     999\n",
       "2016    1964\n",
       "2017    1935\n",
       "2018     864\n",
       "2019    3197\n",
       "2020     716\n",
       "Name: year, dtype: int64"
      ]
     },
     "execution_count": 26,
     "metadata": {},
     "output_type": "execute_result"
    }
   ],
   "source": [
    "audi.year.value_counts().sort_index()"
   ]
  },
  {
   "cell_type": "code",
   "execution_count": 30,
   "id": "28bf367b",
   "metadata": {},
   "outputs": [
    {
     "data": {
      "text/plain": [
       "0        [2016, 2020]\n",
       "1        [2016, 2020]\n",
       "2        [2016, 2020]\n",
       "3        [2016, 2020]\n",
       "4        [2016, 2020]\n",
       "             ...     \n",
       "10663    [2016, 2020]\n",
       "10664    [2016, 2020]\n",
       "10665    [2016, 2020]\n",
       "10666    [2016, 2020]\n",
       "10667    [2016, 2020]\n",
       "Name: year, Length: 10668, dtype: category\n",
       "Categories (3, interval[int64]): [[1997, 2010] < [2011, 2015] < [2016, 2020]]"
      ]
     },
     "execution_count": 30,
     "metadata": {},
     "output_type": "execute_result"
    }
   ],
   "source": [
    "interval1 = pd.Interval(left=1997, right=2010, closed='both')\n",
    "interval2 = pd.Interval(left=2011, right=2015, closed='both')\n",
    "interval3 = pd.Interval(left=2016, right=2020, closed='both')\n",
    "interval_idx = pd.IntervalIndex(data=(interval1,\n",
    "                                     interval2,\n",
    "                                     interval3),\n",
    "                               closed='both')\n",
    "cat_stratify = pd.cut(audi.year, interval_idx)\n",
    "cat_stratify"
   ]
  },
  {
   "cell_type": "code",
   "execution_count": 38,
   "id": "bb9e9128",
   "metadata": {},
   "outputs": [],
   "source": [
    "from sklearn.model_selection import StratifiedShuffleSplit\n",
    "\n",
    "splitter = StratifiedShuffleSplit(n_splits=1, test_size=.2, random_state=42)\n",
    "train_idx, test_idx = next(splitter.split(audi.drop(columns='price'), cat_stratify))\n",
    "X_train, y_train = audi.drop('price', axis=1).iloc[train_idx], audi.copy().price.iloc[train_idx]\n",
    "X_test, y_test = audi.drop('price', axis=1).iloc[test_idx], audi.copy().price.iloc[test_idx]"
   ]
  },
  {
   "cell_type": "markdown",
   "id": "35239f06",
   "metadata": {},
   "source": [
    "Separate numerical from categorical features visibly. Convert labels to floats."
   ]
  },
  {
   "cell_type": "code",
   "execution_count": 39,
   "id": "c7cab649",
   "metadata": {},
   "outputs": [],
   "source": [
    "y_train, y_test = y_train.astype(np.int64), y_test.astype(np.int64)"
   ]
  },
  {
   "cell_type": "code",
   "execution_count": 40,
   "id": "9c3490c7",
   "metadata": {},
   "outputs": [],
   "source": [
    "X_train = X_train.loc[:, ['mileage', 'tax', 'mpg', 'engineSize', 'model',\n",
    "                         'year', 'transmission', 'fuelType']]\n",
    "X_test = X_test.loc[:, ['mileage', 'tax', 'mpg', 'engineSize', 'model',\n",
    "                         'year', 'transmission', 'fuelType']]"
   ]
  },
  {
   "cell_type": "code",
   "execution_count": 60,
   "id": "217e5783",
   "metadata": {},
   "outputs": [],
   "source": [
    "from sklearn.preprocessing import LabelEncoder\n",
    "\n",
    "cat_feat = ['model','year', 'transmission', 'fuelType']\n",
    "encoder = LabelEncoder()\n",
    "for col in cat_feat:\n",
    "        X_train[col] = encoder.fit_transform(X_train[col])"
   ]
  },
  {
   "cell_type": "code",
   "execution_count": 61,
   "id": "2528e524",
   "metadata": {},
   "outputs": [],
   "source": [
    "from sklearn.preprocessing import StandardScaler\n",
    "\n",
    "num_feat = ['mileage', 'tax', 'mpg', 'engineSize']\n",
    "transformer = StandardScaler()\n",
    "X_train.loc[:, num_feat] = \\\n",
    "transformer.fit_transform(X_train.loc[:, num_feat])"
   ]
  },
  {
   "cell_type": "code",
   "execution_count": 62,
   "id": "262c8181",
   "metadata": {},
   "outputs": [
    {
     "data": {
      "text/html": [
       "<div>\n",
       "<style scoped>\n",
       "    .dataframe tbody tr th:only-of-type {\n",
       "        vertical-align: middle;\n",
       "    }\n",
       "\n",
       "    .dataframe tbody tr th {\n",
       "        vertical-align: top;\n",
       "    }\n",
       "\n",
       "    .dataframe thead th {\n",
       "        text-align: right;\n",
       "    }\n",
       "</style>\n",
       "<table border=\"1\" class=\"dataframe\">\n",
       "  <thead>\n",
       "    <tr style=\"text-align: right;\">\n",
       "      <th></th>\n",
       "      <th>mileage</th>\n",
       "      <th>tax</th>\n",
       "      <th>mpg</th>\n",
       "      <th>engineSize</th>\n",
       "      <th>model</th>\n",
       "      <th>year</th>\n",
       "      <th>transmission</th>\n",
       "      <th>fuelType</th>\n",
       "    </tr>\n",
       "  </thead>\n",
       "  <tbody>\n",
       "    <tr>\n",
       "      <th>2609</th>\n",
       "      <td>-0.872291</td>\n",
       "      <td>0.286541</td>\n",
       "      <td>-0.090352</td>\n",
       "      <td>-0.555860</td>\n",
       "      <td>8</td>\n",
       "      <td>18</td>\n",
       "      <td>1</td>\n",
       "      <td>0</td>\n",
       "    </tr>\n",
       "    <tr>\n",
       "      <th>8465</th>\n",
       "      <td>-0.050642</td>\n",
       "      <td>0.286541</td>\n",
       "      <td>1.143502</td>\n",
       "      <td>0.107967</td>\n",
       "      <td>3</td>\n",
       "      <td>16</td>\n",
       "      <td>0</td>\n",
       "      <td>0</td>\n",
       "    </tr>\n",
       "    <tr>\n",
       "      <th>9113</th>\n",
       "      <td>0.297186</td>\n",
       "      <td>0.286541</td>\n",
       "      <td>1.388740</td>\n",
       "      <td>0.107967</td>\n",
       "      <td>4</td>\n",
       "      <td>16</td>\n",
       "      <td>0</td>\n",
       "      <td>0</td>\n",
       "    </tr>\n",
       "    <tr>\n",
       "      <th>3165</th>\n",
       "      <td>-0.650073</td>\n",
       "      <td>0.286541</td>\n",
       "      <td>-1.316543</td>\n",
       "      <td>1.767535</td>\n",
       "      <td>12</td>\n",
       "      <td>18</td>\n",
       "      <td>2</td>\n",
       "      <td>0</td>\n",
       "    </tr>\n",
       "    <tr>\n",
       "      <th>3326</th>\n",
       "      <td>-1.008135</td>\n",
       "      <td>0.286541</td>\n",
       "      <td>-1.377853</td>\n",
       "      <td>1.767535</td>\n",
       "      <td>11</td>\n",
       "      <td>18</td>\n",
       "      <td>0</td>\n",
       "      <td>0</td>\n",
       "    </tr>\n",
       "    <tr>\n",
       "      <th>...</th>\n",
       "      <td>...</td>\n",
       "      <td>...</td>\n",
       "      <td>...</td>\n",
       "      <td>...</td>\n",
       "      <td>...</td>\n",
       "      <td>...</td>\n",
       "      <td>...</td>\n",
       "      <td>...</td>\n",
       "    </tr>\n",
       "    <tr>\n",
       "      <th>8022</th>\n",
       "      <td>0.422584</td>\n",
       "      <td>0.286541</td>\n",
       "      <td>-0.220635</td>\n",
       "      <td>-0.887773</td>\n",
       "      <td>9</td>\n",
       "      <td>16</td>\n",
       "      <td>0</td>\n",
       "      <td>2</td>\n",
       "    </tr>\n",
       "    <tr>\n",
       "      <th>4705</th>\n",
       "      <td>0.905450</td>\n",
       "      <td>0.286541</td>\n",
       "      <td>0.193204</td>\n",
       "      <td>0.107967</td>\n",
       "      <td>9</td>\n",
       "      <td>16</td>\n",
       "      <td>1</td>\n",
       "      <td>0</td>\n",
       "    </tr>\n",
       "    <tr>\n",
       "      <th>6621</th>\n",
       "      <td>0.903709</td>\n",
       "      <td>1.106276</td>\n",
       "      <td>-0.220635</td>\n",
       "      <td>0.107967</td>\n",
       "      <td>9</td>\n",
       "      <td>12</td>\n",
       "      <td>2</td>\n",
       "      <td>0</td>\n",
       "    </tr>\n",
       "    <tr>\n",
       "      <th>3465</th>\n",
       "      <td>-0.935351</td>\n",
       "      <td>0.286541</td>\n",
       "      <td>-0.611483</td>\n",
       "      <td>0.107967</td>\n",
       "      <td>9</td>\n",
       "      <td>18</td>\n",
       "      <td>1</td>\n",
       "      <td>0</td>\n",
       "    </tr>\n",
       "    <tr>\n",
       "      <th>9568</th>\n",
       "      <td>-0.790334</td>\n",
       "      <td>0.286541</td>\n",
       "      <td>-0.159326</td>\n",
       "      <td>0.107967</td>\n",
       "      <td>4</td>\n",
       "      <td>18</td>\n",
       "      <td>0</td>\n",
       "      <td>0</td>\n",
       "    </tr>\n",
       "  </tbody>\n",
       "</table>\n",
       "<p>8534 rows × 8 columns</p>\n",
       "</div>"
      ],
      "text/plain": [
       "       mileage       tax       mpg  engineSize  model  year  transmission  \\\n",
       "2609 -0.872291  0.286541 -0.090352   -0.555860      8    18             1   \n",
       "8465 -0.050642  0.286541  1.143502    0.107967      3    16             0   \n",
       "9113  0.297186  0.286541  1.388740    0.107967      4    16             0   \n",
       "3165 -0.650073  0.286541 -1.316543    1.767535     12    18             2   \n",
       "3326 -1.008135  0.286541 -1.377853    1.767535     11    18             0   \n",
       "...        ...       ...       ...         ...    ...   ...           ...   \n",
       "8022  0.422584  0.286541 -0.220635   -0.887773      9    16             0   \n",
       "4705  0.905450  0.286541  0.193204    0.107967      9    16             1   \n",
       "6621  0.903709  1.106276 -0.220635    0.107967      9    12             2   \n",
       "3465 -0.935351  0.286541 -0.611483    0.107967      9    18             1   \n",
       "9568 -0.790334  0.286541 -0.159326    0.107967      4    18             0   \n",
       "\n",
       "      fuelType  \n",
       "2609         0  \n",
       "8465         0  \n",
       "9113         0  \n",
       "3165         0  \n",
       "3326         0  \n",
       "...        ...  \n",
       "8022         2  \n",
       "4705         0  \n",
       "6621         0  \n",
       "3465         0  \n",
       "9568         0  \n",
       "\n",
       "[8534 rows x 8 columns]"
      ]
     },
     "execution_count": 62,
     "metadata": {},
     "output_type": "execute_result"
    }
   ],
   "source": [
    "X_train"
   ]
  },
  {
   "cell_type": "markdown",
   "id": "71f47963",
   "metadata": {},
   "source": [
    "## Step 4: model selection and parameter tuning"
   ]
  },
  {
   "cell_type": "code",
   "execution_count": 67,
   "id": "f6346488",
   "metadata": {},
   "outputs": [],
   "source": [
    "from sklearn.linear_model import LinearRegression\n",
    "from sklearn.preprocessing import PolynomialFeatures\n",
    "from sklearn.model_selection import cross_val_score\n",
    "from sklearn.metrics import mean_squared_error"
   ]
  },
  {
   "cell_type": "code",
   "execution_count": 70,
   "id": "68bcfbfa",
   "metadata": {},
   "outputs": [
    {
     "name": "stdout",
     "output_type": "stream",
     "text": [
      "RMSE = [5351.3145862  4609.78041054 5672.37008711 6215.77681566 5417.57860836\n",
      " 5396.93786204 5395.3562687  5568.15610083 5756.94098229 4887.02255352]\n"
     ]
    }
   ],
   "source": [
    "lin_reg = LinearRegression()\n",
    "\n",
    "scores = cross_val_score(lin_reg, X_train, y_train, cv=10, scoring='neg_mean_squared_error')\n",
    "print(f'RMSE = {np.sqrt(-scores)}')"
   ]
  },
  {
   "cell_type": "markdown",
   "id": "7a380e6b",
   "metadata": {},
   "source": [
    "Not very accurate"
   ]
  },
  {
   "cell_type": "markdown",
   "id": "6d585010",
   "metadata": {},
   "source": [
    "Let's try nonlinear algorithms"
   ]
  },
  {
   "cell_type": "code",
   "execution_count": 77,
   "id": "cd466eca",
   "metadata": {},
   "outputs": [
    {
     "data": {
      "text/plain": [
       "{'max_features': 4, 'n_estimators': 26}"
      ]
     },
     "execution_count": 77,
     "metadata": {},
     "output_type": "execute_result"
    }
   ],
   "source": [
    "from sklearn.model_selection import GridSearchCV\n",
    "from sklearn.ensemble import RandomForestRegressor\n",
    "\n",
    "# specify the range of hyperparameter values for the grid search to try out \n",
    "param_grid = {'n_estimators': [23, 24, 25, 26, 27], 'max_features': [2, 4, 6, 8]}\n",
    "\n",
    "forest_reg = RandomForestRegressor()\n",
    "grid_search = GridSearchCV(forest_reg, param_grid, cv=10,\n",
    "                          scoring=\"neg_mean_squared_error\")\n",
    "grid_search.fit(X_train, y_train)\n",
    "\n",
    "grid_search.best_params_"
   ]
  },
  {
   "cell_type": "code",
   "execution_count": 87,
   "id": "ab896ca6",
   "metadata": {},
   "outputs": [
    {
     "data": {
      "text/plain": [
       "mpg             0.344846\n",
       "engineSize      0.192745\n",
       "year            0.188352\n",
       "model           0.110617\n",
       "mileage         0.110105\n",
       "tax             0.036061\n",
       "fuelType        0.011073\n",
       "transmission    0.006202\n",
       "dtype: float64"
      ]
     },
     "execution_count": 87,
     "metadata": {},
     "output_type": "execute_result"
    }
   ],
   "source": [
    "feature_importances = pd.Series(data=grid_search.best_estimator_.feature_importances_,\n",
    "              index=X_train.columns).sort_values(ascending=False)\n",
    "feature_importances"
   ]
  },
  {
   "cell_type": "code",
   "execution_count": 89,
   "id": "f71d4d38",
   "metadata": {},
   "outputs": [
    {
     "data": {
      "text/plain": [
       "mpg             1.0\n",
       "engineSize      2.0\n",
       "year            3.0\n",
       "model           4.0\n",
       "mileage         5.0\n",
       "tax             6.0\n",
       "fuelType        7.0\n",
       "transmission    8.0\n",
       "dtype: float64"
      ]
     },
     "execution_count": 89,
     "metadata": {},
     "output_type": "execute_result"
    }
   ],
   "source": [
    "# from most to least important\n",
    "feature_importances.rank(method='first', ascending=False)"
   ]
  },
  {
   "cell_type": "code",
   "execution_count": 106,
   "id": "0f24a18d",
   "metadata": {},
   "outputs": [
    {
     "name": "stdout",
     "output_type": "stream",
     "text": [
      "RMSE: 2340.3380535622136\n"
     ]
    }
   ],
   "source": [
    "neg_MSE = grid_search.cv_results_['mean_test_score']\\\n",
    "[grid_search.cv_results_['params'].index(grid_search.best_params_)]\n",
    "print(f'RMSE: {np.sqrt(-neg_MSE)}')"
   ]
  },
  {
   "cell_type": "markdown",
   "id": "13f6150b",
   "metadata": {},
   "source": [
    "## Step 5: Testing"
   ]
  },
  {
   "cell_type": "code",
   "execution_count": 108,
   "id": "0563c09f",
   "metadata": {},
   "outputs": [],
   "source": [
    "estimator = grid_search.best_estimator_"
   ]
  },
  {
   "cell_type": "code",
   "execution_count": 109,
   "id": "6b69ed94",
   "metadata": {},
   "outputs": [],
   "source": [
    "cat_feat = ['model','year', 'transmission', 'fuelType']\n",
    "encoder = LabelEncoder()\n",
    "for col in cat_feat:\n",
    "        X_test[col] = encoder.fit_transform(X_test[col])\n",
    "        \n",
    "num_feat = ['mileage', 'tax', 'mpg', 'engineSize']\n",
    "transformer = StandardScaler()\n",
    "X_test.loc[:, num_feat] = \\\n",
    "transformer.fit_transform(X_test.loc[:, num_feat])"
   ]
  },
  {
   "cell_type": "code",
   "execution_count": 110,
   "id": "01becaa3",
   "metadata": {},
   "outputs": [
    {
     "name": "stdout",
     "output_type": "stream",
     "text": [
      "RMSE: 6076.285124512457\n"
     ]
    }
   ],
   "source": [
    "y_pred = estimator.predict(X_test)\n",
    "print(f'RMSE: {np.sqrt(mean_squared_error(y_test, y_pred))}')"
   ]
  },
  {
   "cell_type": "code",
   "execution_count": null,
   "id": "9c1a5839",
   "metadata": {},
   "outputs": [],
   "source": []
  }
 ],
 "metadata": {
  "kernelspec": {
   "display_name": "Python 3",
   "language": "python",
   "name": "python3"
  },
  "language_info": {
   "codemirror_mode": {
    "name": "ipython",
    "version": 3
   },
   "file_extension": ".py",
   "mimetype": "text/x-python",
   "name": "python",
   "nbconvert_exporter": "python",
   "pygments_lexer": "ipython3",
   "version": "3.8.10"
  }
 },
 "nbformat": 4,
 "nbformat_minor": 5
}
