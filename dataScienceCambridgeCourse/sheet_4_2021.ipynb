{
 "cells": [
  {
   "cell_type": "markdown",
   "id": "current-genealogy",
   "metadata": {},
   "source": [
    "# Sheet 4"
   ]
  },
  {
   "cell_type": "markdown",
   "id": "compact-research",
   "metadata": {},
   "source": [
    "### Question 3"
   ]
  },
  {
   "cell_type": "code",
   "execution_count": 1,
   "id": "marine-approval",
   "metadata": {},
   "outputs": [],
   "source": [
    "import numpy as np\n",
    "import scipy.stats"
   ]
  },
  {
   "cell_type": "code",
   "execution_count": 4,
   "id": "noted-crime",
   "metadata": {},
   "outputs": [],
   "source": [
    "# We have the transition matrix P\n",
    "r0 = [.75, .25, 0, 0, 0, 0, 0, 0, 0, 0]\n",
    "r1 = [.25, .5, .25, 0, 0, 0, 0, 0, 0, 0]\n",
    "r2 = [0, .25, .5, .25, 0, 0, 0, 0, 0, 0]\n",
    "r3 = [0, 0, .25, .5, .25, 0, 0, 0, 0, 0]\n",
    "r4 = [0, 0, 0, .25, .5, .25, 0, 0, 0, 0]\n",
    "r5 = [0, 0, 0, 0, .25, .5, .25, 0, 0, 0]\n",
    "r6 = [0, 0, 0, 0, 0, .25, .5, .25, 0, 0]\n",
    "r7 = [0, 0, 0, 0, 0, 0, .25, .5, .25, 0]\n",
    "r8 = [0, 0, 0, 0, 0, 0, 0, .25, .5, .25]\n",
    "r9 = [0, 0, 0, 0, 0, 0, 0, 0, .25, .75]\n",
    "\n",
    "P = np.array([r0, r1, r2, r3, r4, r5, r6, r7, r8, r9])\n"
   ]
  },
  {
   "cell_type": "code",
   "execution_count": 5,
   "id": "monetary-tradition",
   "metadata": {},
   "outputs": [
    {
     "data": {
      "text/plain": [
       "(10, 10)"
      ]
     },
     "execution_count": 5,
     "metadata": {},
     "output_type": "execute_result"
    }
   ],
   "source": [
    "P.shape"
   ]
  },
  {
   "cell_type": "code",
   "execution_count": 15,
   "id": "specialized-population",
   "metadata": {},
   "outputs": [],
   "source": [
    "A = (P - np.eye(10)).transpose()\n",
    "A = np.concatenate((A, [[1 for _ in range(10)]]))"
   ]
  },
  {
   "cell_type": "code",
   "execution_count": 17,
   "id": "unlimited-religious",
   "metadata": {},
   "outputs": [
    {
     "data": {
      "text/plain": [
       "(11, 10)"
      ]
     },
     "execution_count": 17,
     "metadata": {},
     "output_type": "execute_result"
    }
   ],
   "source": [
    "A.shape"
   ]
  },
  {
   "cell_type": "code",
   "execution_count": 19,
   "id": "refined-evaluation",
   "metadata": {},
   "outputs": [
    {
     "data": {
      "text/plain": [
       "array([0.1, 0.1, 0.1, 0.1, 0.1, 0.1, 0.1, 0.1, 0.1, 0.1])"
      ]
     },
     "execution_count": 19,
     "metadata": {},
     "output_type": "execute_result"
    }
   ],
   "source": [
    "π = np.linalg.lstsq(A, [0 for _ in range(10)] + [1], rcond=None)[0]\n",
    "π"
   ]
  },
  {
   "cell_type": "markdown",
   "id": "organized-homeless",
   "metadata": {},
   "source": [
    "### Question 4"
   ]
  },
  {
   "cell_type": "code",
   "execution_count": 80,
   "id": "spanish-brand",
   "metadata": {},
   "outputs": [],
   "source": [
    "# The constants\n",
    "x = 50\n",
    "r = 1.1\n",
    "d = 14\n"
   ]
  },
  {
   "cell_type": "code",
   "execution_count": 81,
   "id": "statistical-peripheral",
   "metadata": {},
   "outputs": [],
   "source": [
    "def row_constructor(row, col):\n",
    "    \"\"\"\n",
    "    row: x --> the initial value\n",
    "    col: y --> the final value\n",
    "    \"\"\"\n",
    "    result = 0\n",
    "    for rec in range(max(0,row-col),row+1):\n",
    "        result += scipy.stats.poisson.pmf(k=col-row+rec, mu=r*row/d) * scipy.stats.binom.pmf(k=rec, n=row, p=1/d)\n",
    "    return result"
   ]
  },
  {
   "cell_type": "code",
   "execution_count": 83,
   "id": "growing-wichita",
   "metadata": {},
   "outputs": [
    {
     "data": {
      "text/plain": [
       "0.9339688552551073"
      ]
     },
     "execution_count": 83,
     "metadata": {},
     "output_type": "execute_result"
    }
   ],
   "source": [
    "# the sum of each row converges to 1. In our truncated case we normalise each row entry by the,\n",
    "# sum f the row. Thus, each entry will retaign a weight proportional to the true probability of transition,\n",
    "# as determined by the probability distribution.\n",
    "sum([row_constructor(1,i) for i in range(1,10001)])"
   ]
  },
  {
   "cell_type": "code",
   "execution_count": 84,
   "id": "herbal-blogger",
   "metadata": {},
   "outputs": [
    {
     "data": {
      "text/plain": [
       "1.0"
      ]
     },
     "execution_count": 84,
     "metadata": {},
     "output_type": "execute_result"
    }
   ],
   "source": [
    "# the only non-zero entry of row 0. The transition to a population of zero to a population of zero\n",
    "# (non-existing virus - the model does not take into account any probability of virus birth, only of virus\n",
    "# contagion) is 1, whereas the \n",
    "# probability of transition from zero cases to non-zero cases is zero, because there being no virus,\n",
    "# the virus cannot be transmitted\n",
    "row_constructor(0,0)"
   ]
  },
  {
   "cell_type": "code",
   "execution_count": 85,
   "id": "impressed-frederick",
   "metadata": {},
   "outputs": [],
   "source": [
    "# Choose N=200\n",
    "P = np.array([[row_constructor(x,y) for y in range(0,201)] for x in range(0,201)])"
   ]
  },
  {
   "cell_type": "code",
   "execution_count": 93,
   "id": "stopped-trademark",
   "metadata": {},
   "outputs": [],
   "source": [
    "A = P - np.eye(201)"
   ]
  },
  {
   "cell_type": "code",
   "execution_count": 94,
   "id": "convinced-strip",
   "metadata": {},
   "outputs": [
    {
     "data": {
      "text/plain": [
       "0.0"
      ]
     },
     "execution_count": 94,
     "metadata": {},
     "output_type": "execute_result"
    }
   ],
   "source": [
    "A[0,0]"
   ]
  },
  {
   "cell_type": "markdown",
   "id": "creative-flower",
   "metadata": {},
   "source": [
    "reset this to 1 to impose $\\pi_0 = 1$"
   ]
  },
  {
   "cell_type": "code",
   "execution_count": 95,
   "id": "colored-documentation",
   "metadata": {},
   "outputs": [
    {
     "data": {
      "text/plain": [
       "1.0"
      ]
     },
     "execution_count": 95,
     "metadata": {},
     "output_type": "execute_result"
    }
   ],
   "source": [
    "A[0,0] = 1\n",
    "A[0,0]"
   ]
  },
  {
   "cell_type": "code",
   "execution_count": 96,
   "id": "unnecessary-helmet",
   "metadata": {},
   "outputs": [],
   "source": [
    "b = np.zeros(201)\n",
    "b[0] = 1"
   ]
  },
  {
   "cell_type": "code",
   "execution_count": 97,
   "id": "endless-buffer",
   "metadata": {},
   "outputs": [],
   "source": [
    "π = np.linalg.lstsq(A,b, rcond=None)[0]"
   ]
  },
  {
   "cell_type": "code",
   "execution_count": 98,
   "id": "rough-nursery",
   "metadata": {},
   "outputs": [
    {
     "data": {
      "text/plain": [
       "0.007077742660224082"
      ]
     },
     "execution_count": 98,
     "metadata": {},
     "output_type": "execute_result"
    }
   ],
   "source": [
    "(P@π)[x]"
   ]
  },
  {
   "cell_type": "markdown",
   "id": "falling-bulgarian",
   "metadata": {},
   "source": [
    "The probability is 7%"
   ]
  }
 ],
 "metadata": {
  "kernelspec": {
   "display_name": "Python 3",
   "language": "python",
   "name": "python3"
  },
  "language_info": {
   "codemirror_mode": {
    "name": "ipython",
    "version": 3
   },
   "file_extension": ".py",
   "mimetype": "text/x-python",
   "name": "python",
   "nbconvert_exporter": "python",
   "pygments_lexer": "ipython3",
   "version": "3.8.2"
  }
 },
 "nbformat": 4,
 "nbformat_minor": 5
}
